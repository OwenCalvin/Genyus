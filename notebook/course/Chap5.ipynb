{
 "cells": [
  {
   "cell_type": "markdown",
   "metadata": {},
   "source": [
    "# Chapitre 5 : fonctions (suite), packages, modules et f-strings"
   ]
  },
  {
   "cell_type": "markdown",
   "metadata": {},
   "source": [
    "## Arguments variables (en type et en nombre)\n",
    "### Ajouter les paramètres `*args`\n",
    "\n",
    "**Exemple :**\n",
    "```\n",
    "def function_var_params(arg1, arg2, *args):\n",
    "    print(arg1)\n",
    "    print(arg2)\n",
    "    if args:\n",
    "        print(args)\n",
    "\n",
    "function_var_params(42, \"b\", 42, \"42\", 42.42)\n",
    "```\n",
    "\n",
    "**REMARQUE :** on voit que ça ressemble beaucoup au passage de paramètre sous forme de liste à une fonction avec ici le `*` passé dans la définition de la fonction."
   ]
  },
  {
   "cell_type": "markdown",
   "metadata": {},
   "source": [
    "### ==================== EXERCICE ====================\n",
    "1. Exécuter l'exemple donné précédemment\n",
    "2. Quel est le type de `args` ?\n",
    "3. Utiliser un autre nom que `args`. Que se passe-t-il ?\n",
    "4. Modifier l'ordre des paramètres dans la définition de la fonction. Que se passe-t-il ? Comment modifier l'appel pour résoudre l'erreur ?\n",
    "\n",
    "### ==================== SOLUTION ==================="
   ]
  },
  {
   "cell_type": "markdown",
   "metadata": {},
   "source": [
    "### =============================================="
   ]
  },
  {
   "cell_type": "markdown",
   "metadata": {},
   "source": [
    "## Arguments variables (en type et en nombre)\n",
    "### Ajouter les paramètres `**kwargs`\n",
    "\n",
    "**Exemple :**\n",
    "```\n",
    "def function_var_params(arg1, arg2, **kwargs):\n",
    "    print(arg1)\n",
    "    print(arg2)\n",
    "    \n",
    "    if kwargs:\n",
    "        print(kwargs)\n",
    "\n",
    "function_var_params(42, \"b\", test42=42, test43=\"43\", test44=True)\n",
    "```\n",
    "\n",
    "**REMARQUE :** on voit que ça ressemble beaucoup au passage de paramètre sous forme de dictionnaire à une fonction avec ici le `**` passé dans la définition de la fonction."
   ]
  },
  {
   "cell_type": "markdown",
   "metadata": {},
   "source": [
    "### ==================== EXERCICE ====================\n",
    "1. Exécuter l'exemple donné précédemment\n",
    "2. Quel est le type de `kwargs` ?\n",
    "3. Utiliser un autre nom pour `kwargs`. Que se passe-t-il ?\n",
    "3. Modifier l'ordre des paramètres dans la définition de la fonction. Que se passe-t-il ? Comment modifier l'appel pour résoudre l'erreur ?\n",
    "\n",
    "### ==================== SOLUTION ==================="
   ]
  },
  {
   "cell_type": "markdown",
   "metadata": {},
   "source": [
    "### ==================== EXERCICE ====================\n",
    "1. Expérimenter en utilisant `*args` et `**kwargs`.\n",
    "2. Que pouvez-vous en conclure ?\n",
    "\n",
    "### ==================== SOLUTION ==================="
   ]
  },
  {
   "cell_type": "markdown",
   "metadata": {},
   "source": [
    "### =============================================="
   ]
  },
  {
   "cell_type": "markdown",
   "metadata": {},
   "source": [
    "## Retour de plusieurs résultats\n",
    "### Utiliser `return` avec plusieurs résultats, séparés par des `,`\n",
    "#### Stocker le résultat dans un seul objet\n",
    "**Exemple :**\n",
    "```\n",
    "def function_mult_return(a, b):\n",
    "    return 2*b, 3*a\n",
    "\n",
    "res = function_mult_return(14, 21)\n",
    "```\n",
    "\n",
    "#### Stocker le résultat dans plusieurs objets\n",
    "**Exemple :**\n",
    "```\n",
    "def function_mult_return(a, b):\n",
    "    return 2*b, 3*a\n",
    "\n",
    "a, b = function_mult_return(14, 21)\n",
    "```\n"
   ]
  },
  {
   "cell_type": "markdown",
   "metadata": {},
   "source": [
    "### ==================== EXERCICE ====================\n",
    "1. Exécuter l'exemple donné précédemment\n",
    "2. Modifier le et expérimenter\n",
    "\n",
    "### ==================== SOLUTION ==================="
   ]
  },
  {
   "cell_type": "markdown",
   "metadata": {},
   "source": [
    "### =============================================="
   ]
  },
  {
   "cell_type": "markdown",
   "metadata": {},
   "source": [
    "## Les modules et les packages\n",
    "### Un module est un fichier Python contenant des fonctions que l'on peut réutiliser\n",
    "### Un package est un ensemble organisé (répertoire) de modules (fichiers)"
   ]
  },
  {
   "cell_type": "markdown",
   "metadata": {},
   "source": [
    "## Utiliser un Package : la commande `import`\n",
    "**Exemple :**\n",
    "```\n",
    "import datetime\n",
    "\n",
    "# Now we can use functions defined in datetime package\n",
    "print(datetime.date.today())\n",
    "```"
   ]
  },
  {
   "cell_type": "markdown",
   "metadata": {},
   "source": [
    "### ==================== EXERCICE ====================\n",
    "1. Exécuter l'exemple donné précédemment\n",
    "2. Importer le package `platform`\n",
    "3. Exécuter l'instruction `print(platform.processor())` pour afficher des informations sur le processeur\n",
    "4. Importer le package `numpy`. Que se passe-t-il ?\n",
    "5. Importer le package `pandas`. Que se passe-t-il ?\n",
    "\n",
    "### ==================== SOLUTION ==================="
   ]
  },
  {
   "cell_type": "markdown",
   "metadata": {},
   "source": [
    "### =============================================="
   ]
  },
  {
   "cell_type": "markdown",
   "metadata": {},
   "source": [
    "## Installer un package\n",
    "\n",
    "![Install Numpy](medias/InstallNumpy.png)\n",
    "![Install Numpy Dependencies](medias/InstallNumpyDependencies.png)"
   ]
  },
  {
   "cell_type": "markdown",
   "metadata": {},
   "source": [
    "### ==================== EXERCICE ====================\n",
    "1. Installer le package `numpy`\n",
    "2. Installer le package `pandas`\n",
    "3. Importer le package `numpy`. Que se passe-t-il ?\n",
    "4. Importer le package `pandas`. Que se passe-t-il ?\n",
    "\n",
    "### ==================== SOLUTION ==================="
   ]
  },
  {
   "cell_type": "markdown",
   "metadata": {},
   "source": [
    "### =============================================="
   ]
  },
  {
   "cell_type": "markdown",
   "metadata": {},
   "source": [
    "## Raccourcir le nom du package : `as`\n",
    "\n",
    "**Exemple :**\n",
    "```\n",
    "import numpy as np\n",
    "print(np.random.random(10))\n",
    "```"
   ]
  },
  {
   "cell_type": "markdown",
   "metadata": {},
   "source": [
    "## Importer sans le préfixe\n",
    "\n",
    "**Exemple :**\n",
    "```\n",
    "from numpy import random\n",
    "print(random.random(10))\n",
    "```\n",
    "\n",
    "**IMPORTANT :** cette approche est à éviter car elle cache le nom du package."
   ]
  },
  {
   "cell_type": "markdown",
   "metadata": {},
   "source": [
    "## Formatage de Strings : les `f-strings`\n",
    "### Faire précéder la String par `f`\n",
    "**Exemple :**\n",
    "```\n",
    "my_str = f\"hello world\"\n",
    "```\n",
    "\n",
    "### Permet d'inclure des expressions Python dans des Strings\n",
    "\n",
    "**Exemple :**\n",
    "```\n",
    "my_str = f\"hello world {3+2+4}\"\n",
    "```\n",
    "\n",
    "### Converti automatiquement les valeurs en String\n",
    "**Exemple :**\n",
    "```\n",
    "my_str = f\"Here is a bool of value {42 == 42} and a float of value {2.3 + 1.3}\"\n",
    "```\n",
    "\n",
    "### Il existe d'autres façon de formater une String mais elles sont moins intéressantes pour ce cours."
   ]
  },
  {
   "cell_type": "markdown",
   "metadata": {},
   "source": [
    "### ==================== EXERCICE ====================\n",
    "1. Exécuter les exemples ci-dessus.\n",
    "2. Expérimenter.\n",
    "\n",
    "### ==================== SOLUTION ==================="
   ]
  },
  {
   "cell_type": "markdown",
   "metadata": {},
   "source": [
    "### =============================================="
   ]
  }
 ],
 "metadata": {
  "kernelspec": {
   "display_name": "Python 3",
   "language": "python",
   "name": "python3"
  },
  "language_info": {
   "codemirror_mode": {
    "name": "ipython",
    "version": 3
   },
   "file_extension": ".py",
   "mimetype": "text/x-python",
   "name": "python",
   "nbconvert_exporter": "python",
   "pygments_lexer": "ipython3",
   "version": "3.8.5"
  }
 },
 "nbformat": 4,
 "nbformat_minor": 4
}
