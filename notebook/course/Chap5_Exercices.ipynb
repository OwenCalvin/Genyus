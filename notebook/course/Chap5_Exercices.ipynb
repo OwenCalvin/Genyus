{
 "cells": [
  {
   "cell_type": "markdown",
   "metadata": {},
   "source": [
    "# Chapitre 5 : exercices"
   ]
  },
  {
   "cell_type": "markdown",
   "metadata": {},
   "source": [
    "## Exercice 5.1\n",
    "1. Écrire une fonction qui convertit des secondes en heures, minutes et secondes et retourne le résultat.\n",
    "2. Utiliser les `f-string` pour afficher le résultat retourné en respectant l'orthographe.\n",
    "    \n",
    "    **Exemples :**\n",
    "\n",
    "        `3661 seconds = 1 hour, 1 minute and 1 second.`\n",
    "\n",
    "        `7322 seconds = 2 hours, 2 minutes and 2 seconds.` "
   ]
  },
  {
   "cell_type": "markdown",
   "metadata": {},
   "source": [
    "## Exercice 5.2\n",
    "1. Écrire une fonction qui calcule le PGCD de 2 entiers passés en paramètre.\n",
    "\n",
    "**NOTE :** la méthode \"naïve\" est autorisée ici."
   ]
  },
  {
   "cell_type": "markdown",
   "metadata": {},
   "source": [
    "## Exercice 5.3\n",
    "\n",
    "1. Écrire une fonction qui trie 3 entiers, en utilisant ni boucle, ni conditionnelle\n",
    "**Indice :** utiliser les fonctions prédéfinies `min` et `max`."
   ]
  },
  {
   "cell_type": "markdown",
   "metadata": {},
   "source": [
    "## Exercice 5.4\n",
    "En utilisant le module [`sys`](https://docs.python.org/3/library/sys.html) (https://docs.python.org/3/library/sys.html) :\n",
    "1. Écrire une fonction qui retourne la version courante de l'interpréteur Python.\n",
    "2. Écrire une fonction qui retourne la taille d'un objet en bytes.\n"
   ]
  },
  {
   "cell_type": "markdown",
   "metadata": {},
   "source": [
    "## Exercice 5.5\n",
    "En utilisant le module [`datetime`](https://docs.python.org/3/library/datetime.html#module-datetime) (https://docs.python.org/3/library/datetime.html#module-datetime) :\n",
    "1. Écrire une fonction qui affiche l'heure et la date courante.\n",
    "3. Écrire une fonction qui calcule le nombre de jours entre 2 dates."
   ]
  },
  {
   "cell_type": "markdown",
   "metadata": {},
   "source": [
    "## Exercice 5.6\n",
    "En utilisant le module [`calendar`](https://docs.python.org/3/library/calendar.html) (https://docs.python.org/3/library/calendar.html) :\n",
    "1. Écrire une fonction qui imprime les jours d'un mois, sous forme de calendrier."
   ]
  },
  {
   "cell_type": "markdown",
   "metadata": {},
   "source": [
    "## Exercice 5.7\n",
    "En utilisant le module [`os`](https://docs.python.org/3/library/os.html) (https://docs.python.org/3/library/os.html) :\n",
    "1. Écrire une fonction qui vérifie si un fichier existe ou pas.\n",
    "2. Écrire une fonction qui affiche les variables d'environnement."
   ]
  },
  {
   "cell_type": "markdown",
   "metadata": {},
   "source": [
    "## Exercice 5.8\n",
    "En utilisant le module [`time`](https://docs.python.org/3/library/time.html) (https://docs.python.org/3/library/time.html) :\n",
    "1. Écrire une fonction qui calcule la somme de tous les entiers entre 1 et 100000.\n",
    "2. En utilisant la fonction `time()` du module `time`, afficher le temps nécessaire pour exécuter la boucle.\n",
    "3. Écrire une fonction qui retourne le temps système."
   ]
  },
  {
   "cell_type": "markdown",
   "metadata": {},
   "source": [
    "## Exercice 5.9\n",
    "En utilisant le module [`http.client`](https://docs.python.org/3/library/http.client.html) (https://docs.python.org/3/library/http.client.html) :\n",
    "\n",
    "1. Écrire une fonction qui accède à une page HTTP et affiche son contenu.\n",
    "**NOTE :** utiliser la fonction `read()` du module `http.client` pour lire le contenu d'une URL.\n",
    "\n",
    "**NOTE :** utiliser la fonction `decode()` pour convertir des bytes (retournés par la fonction `read()` en string facilement affichable.\n"
   ]
  },
  {
   "cell_type": "markdown",
   "metadata": {},
   "source": [
    "## Exercice 5.10\n",
    "1. Écrire une fonction `mult` qui multiplie les 2 entiers passés en paramètre et retourne le résultat.\n",
    "2. Écrire une fonction `mult_2` qui multiplie les 2 entiers passés en paramètre, multiplie le tout par 2, et retourne le résultat.\n",
    "3. Créer 1 dictionnaire contenant des paramètres (nommés) pour `mult` et `mult_2` et le passé en paramètre à ces fonctions avec l'opérateur `**`.\n",
    "4. Créer un 2ème dictionnaire similaire mais avec des valeurs différentes. Le passer à `mult` et `mult_2` avec l'opérateur `**`.\n",
    "5. Stocker les 2 dictionnaires dans un dictionnaire. Utiliser ce dictionnaire pour appeler les fonctions `mult` et `mult_2` avec l'opérateur `\"\"`."
   ]
  }
 ],
 "metadata": {
  "kernelspec": {
   "display_name": "Python 3",
   "language": "python",
   "name": "python3"
  },
  "language_info": {
   "codemirror_mode": {
    "name": "ipython",
    "version": 3
   },
   "file_extension": ".py",
   "mimetype": "text/x-python",
   "name": "python",
   "nbconvert_exporter": "python",
   "pygments_lexer": "ipython3",
   "version": "3.8.5"
  }
 },
 "nbformat": 4,
 "nbformat_minor": 4
}
