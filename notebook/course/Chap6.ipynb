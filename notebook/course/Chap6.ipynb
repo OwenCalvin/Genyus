{
 "cells": [
  {
   "cell_type": "markdown",
   "metadata": {},
   "source": [
    "# Chapitre 6 : introduction à NumPy\n",
    "## [Documentation NumPy](https://numpy.org)"
   ]
  },
  {
   "cell_type": "markdown",
   "metadata": {},
   "source": [
    "## Types de données\n",
    "Il existe 3 principaux types de données : les données structurées, les données non structurées et les données semi-structurées.\n",
    "\n",
    "### Les données structurées\n",
    "- Organisées sous forme de tableaux (lignes / colonnes).\n",
    "- Contiennent des entiers, des flottants, des strings, etc.\n",
    "- Idéales pour la plupart des algorithmes de traitement de données.\n",
    "\n",
    "**Exemples :** tables excel, base de données, etc.\n",
    "\n",
    "#### &rarr; comment transformer des données non structurées en données structurées ?\n",
    "\n",
    "### Les données non structurées\n",
    "- Facilement compréhensible par l'humain.\n",
    "- Difficilement compréhensibles par une machine.\n",
    "\n",
    "**Exemples :** livre, vidéos, images, sons, etc.\n",
    "\n",
    "### Les données semi-structurées\n",
    "- Entre structurées et non structurées.\n",
    "- Pas organisées sous forme de tableaux.\n",
    "\n",
    "**Exemples :** pages HTML, JSON, XML, etc."
   ]
  },
  {
   "cell_type": "markdown",
   "metadata": {},
   "source": [
    "## Préparation des données\n",
    "### = 1) récupérer &rarr; 2) structurer &rarr; 3) transformer"
   ]
  },
  {
   "cell_type": "markdown",
   "metadata": {},
   "source": [
    "## Stocker les données : les `arrays` NumPy\n",
    "- Package fondamental (utilisé \"partout\").\n",
    "- Simple et complet.\n",
    "- Codé en C, puis exposé en Python  &rarr; très rapide.\n",
    "\n",
    "### Les `ndarray`\n",
    "- Structure à n dimensions.\n",
    "- Ne contient qu'un seul type de données.\n",
    "- Méthodes optimisées pour travailler avec les `ndarray`.\n",
    "- Stockable dans des fichiers.\n",
    "\n",
    "#### Construction : `np.array()`\n",
    "\n",
    "**Exemples :**\n",
    "```\n",
    "import numpy as np\n",
    "\n",
    "# from a list\n",
    "my_list = [0, 2, 4, 6, 8, 10]\n",
    "array_from_list = np.array(my_list)\n",
    "\n",
    "# from a range: arange()\n",
    "array_from_range = np.arange(0, 11, 2)\n",
    "\n",
    "# from a number of values in an interval: linspace()\n",
    "array_from_linspace = np.linspace(0, 10, 6)\n",
    "```"
   ]
  },
  {
   "cell_type": "markdown",
   "metadata": {},
   "source": [
    "### ==================== EXERCICE ====================\n",
    "1. Exécuter l'exemple donné précédemment.\n",
    "2. Afficher à chaque fois le `ndarray` et son type.\n",
    "3. Expérimenter en modifiant la liste, les paramètres de `arange()` et les paramètre de `linspace()`.\n",
    "4. En Français, expliquer ce que font les fonctions `arange()` et `linspace()`.\n",
    "\n",
    "### ==================== SOLUTION ==================="
   ]
  },
  {
   "source": [
    "### ==============================================\n",
    "import numpy as np\n",
    "\n",
    "# from a list\n",
    "my_list = [0, 2, 4, 6, 8, 10]\n",
    "array_from_list = np.array(my_list)\n",
    "print(array_from_list)\n",
    "\n",
    "# from a range: arange()\n",
    "array_from_range = np.arange(0, 11, 2)\n",
    "print(array_from_range)\n",
    "\n",
    "# from a number of values in an interval: linspace()\n",
    "array_from_linspace = np.linspace(0, 10, 6)\n",
    "print(array_from_linspace)\n"
   ],
   "cell_type": "code",
   "metadata": {},
   "execution_count": 14,
   "outputs": [
    {
     "output_type": "stream",
     "name": "stdout",
     "text": [
      "[ 0  2  4  6  8 10]\n[ 0  2  4  6  8 10]\n[ 0.  2.  4.  6.  8. 10.]\n"
     ]
    }
   ]
  },
  {
   "cell_type": "markdown",
   "metadata": {},
   "source": [
    "#### `np.array()` prédéfinis\n",
    "Les fonctions `eye()`, `zeros()`, `ones()` et `full()`.\n",
    "\n",
    "**Exemple :**\n",
    "```\n",
    "import numpy as np\n",
    "e = np.eye(4)\n",
    "\n",
    "z = np.zeros(4)\n",
    "\n",
    "o = np.ones(4)\n",
    "\n",
    "f = np.full(10, 2)\n",
    "```"
   ]
  },
  {
   "cell_type": "markdown",
   "metadata": {},
   "source": [
    "### ==================== EXERCICE ====================\n",
    "1. Exécuter l'exemple donné précédemment.\n",
    "2. Afficher à chaque fois le `ndarray` et son type.\n",
    "3. Expérimenter en modifiant les paramètres des fonctions `eye()`, `zeros()`, `ones()` et `full()`.\n",
    "4. En Français, expliquer ce que font ces fonctions.\n",
    "\n",
    "### ==================== SOLUTION ==================="
   ]
  },
  {
   "source": [
    "import numpy as np\n",
    "\n",
    "e = np.eye(4, dtype=int)\n",
    "\n",
    "z = np.zeros(4, dtype=int)\n",
    "\n",
    "o = np.ones(4, dtype=int)\n",
    "\n",
    "f = np.full(10, 2, dtype=int)\n",
    "\n",
    "print(e)"
   ],
   "cell_type": "code",
   "metadata": {},
   "execution_count": 17,
   "outputs": []
  },
  {
   "cell_type": "markdown",
   "metadata": {},
   "source": [
    "## Afficher le `dtype` d'un `ndarray`\n",
    "**Exemple :**\n",
    "```\n",
    "import numpy as np\n",
    "e = np.eye(4, dtype=bool)\n",
    "print(e.dtype)\n",
    "```"
   ]
  },
  {
   "cell_type": "markdown",
   "metadata": {},
   "source": [
    "### ==================== EXERCICE ====================\n",
    "1. Exécuter l'exemple donné précédemment.\n",
    "2. Afficher à chaque fois le `ndarray`, son type, et son `dtype`.\n",
    "3. Noter la différence de type des données, avec et sans `dtype=int`.\n",
    "4. Expérimenter en changeant le type des données.\n",
    "5. Essayer de créer un `array` contenant 5 fois la String \"Hello World\". Que se passe-t-il ? Pourquoi ?\n",
    "\n",
    "### ==================== SOLUTION ==================="
   ]
  },
  {
   "source": [
    "import numpy as np\n",
    "e = np.eye(4, dtype=bool)\n",
    "print(e, e.dtype)"
   ],
   "cell_type": "code",
   "metadata": {},
   "execution_count": 25,
   "outputs": [
    {
     "output_type": "stream",
     "name": "stdout",
     "text": [
      "[[ True False False False]\n [False  True False False]\n [False False  True False]\n [False False False  True]] bool\n"
     ]
    }
   ]
  },
  {
   "cell_type": "markdown",
   "metadata": {},
   "source": [
    "### ==================== EXERCICE ====================\n",
    "1. Exécuter l'exemple donné précédemment.\n",
    "2. Faites varier les différents paramètres pour `rand` et `randint`.\n",
    "3. Faites varier les paramètres `mean`, `sd` et `size`. Que se passe-t-il ?\n",
    "\n",
    "### ==================== SOLUTION ==================="
   ]
  },
  {
   "source": [
    "### =============================================="
   ],
   "cell_type": "code",
   "metadata": {},
   "execution_count": null,
   "outputs": []
  },
  {
   "cell_type": "markdown",
   "metadata": {},
   "source": [
    "## Les propriétés d'un `ndarray` : `dtype`, `shape`, `ndim`, `size`, `itemsize`\n",
    "\n",
    "**Exemple :**\n",
    "```\n",
    "import numpy as np\n",
    "\n",
    "mean = 0\n",
    "sd = 1\n",
    "size = (3, 4, 5)\n",
    "arr = np.random.normal(mean, sd, size)\n",
    "print(arr)\n",
    "print(arr.dtype)\n",
    "print(arr.shape)\n",
    "print(arr.ndim)\n",
    "print(arr.size)\n",
    "print(arr.itemsize)\n",
    "```"
   ]
  },
  {
   "cell_type": "markdown",
   "metadata": {},
   "source": [
    "### ==================== EXERCICE ====================\n",
    "1. Exécuter l'exemple donné précédemment.\n",
    "2. Créer différents `ndarray` et afficher leurs propriétés.\n",
    "3. En Français, que représente les paramètres `dtype`, `shape`, `ndim`, `size`, `itemsize` ?\n",
    "\n",
    "### ==================== SOLUTION ==================="
   ]
  },
  {
   "cell_type": "markdown",
   "metadata": {},
   "source": [
    "### =============================================="
   ]
  },
  {
   "cell_type": "markdown",
   "metadata": {},
   "source": [
    "## Changer la forme d'un `ndarray` : la fonction `reshape()`\n",
    "\n",
    "**Exemple :**\n",
    "```\n",
    "import numpy as np\n",
    "\n",
    "mean = 0\n",
    "sd = 1\n",
    "size = (3, 4, 5)\n",
    "arr = np.random.normal(mean, sd, size)\n",
    "print(arr.shape)\n",
    "arr2 = arr.reshape(12, 5)\n",
    "print(arr2.shape)\n",
    "arr3 = arr.reshape(6, 2, 5)\n",
    "print(arr3.shape)\n",
    "arr4 = arr.reshape(5, 6, 2)\n",
    "print(arr4.shape)\n",
    "```"
   ]
  },
  {
   "cell_type": "markdown",
   "metadata": {},
   "source": [
    "### ==================== EXERCICE ====================\n",
    "1. Exécuter l'exemple donné précédemment\n",
    "2. Utiliser `reshape` avec différentes valeurs.\n",
    "3. Utiliser `reshape(5, 6, 3)` sur `arr` créé précédemment. Que se passe-t-il ? Pourquoi ?\n",
    "\n",
    "### ==================== SOLUTION ==================="
   ]
  },
  {
   "cell_type": "markdown",
   "metadata": {},
   "source": [
    "### =============================================="
   ]
  },
  {
   "cell_type": "markdown",
   "metadata": {},
   "source": [
    "## Accès aux données : `ndarray` à 1 dimension\n",
    "### L'opérateur `[]`.\n",
    "### `start:end:step` est appelée une \"slice\".\n",
    "### Utiliser `[start:end:step]` est appelé \"slicing\".\n",
    "\n",
    "**Exemple :**\n",
    "```\n",
    "import numpy as np\n",
    "\n",
    "mean = 0\n",
    "sd = 1\n",
    "size = (6)\n",
    "arr = np.random.normal(mean, sd, size)\n",
    "print(arr)\n",
    "\n",
    "# The first element\n",
    "print(arr[0])\n",
    "\n",
    "# The last element\n",
    "print(arr[-1])\n",
    "\n",
    "# The 3 last elements\n",
    "print(arr[-3:]) # slicing\n",
    "\n",
    "# Elements at even indices\n",
    "print(arr[1::2]) # slicing\n",
    "```"
   ]
  },
  {
   "cell_type": "markdown",
   "metadata": {},
   "source": [
    "### ==================== EXERCICE ====================\n",
    "1. Exécuter l'exemple donné précédemment.\n",
    "2. Créer différents `ndarray` à 1 dimension mais de tailles différentes.\n",
    "3. Afficher les premiers éléments.\n",
    "4. Afficher les derniers éléments.\n",
    "5. Afficher les éléments avec des pas différents.\n",
    "6. Afficher les `ndarray` inversés.\n",
    "\n",
    "### ==================== SOLUTION ==================="
   ]
  },
  {
   "cell_type": "markdown",
   "metadata": {},
   "source": [
    "### =============================================="
   ]
  },
  {
   "cell_type": "markdown",
   "metadata": {},
   "source": [
    "## Accès aux données : `ndarray` à 2 dimensions (ou plus)\n",
    "### Les opérateurs `[start:end:step, start:end:step, start:end:step, ... ]`\n",
    "#### Pour un `ndarray` à 2 dimensions, alors on doit utiliser l'opérateur `[start:end:step, start:end:step]`\n",
    "#### On peut omettre les derniers `start:end:step`, dans ce cas, c'est identique à utiliser `:` ou `::` c'est-à-dire que ça retourne tous les éléments selon cette dimension.\n",
    "\n",
    "**Exemple :**\n",
    "```\n",
    "import numpy as np\n",
    "\n",
    "mean = 0\n",
    "sd = 1\n",
    "size = (3, 4) # 3 lines, 4 columns\n",
    "arr = np.random.normal(mean, sd, size)\n",
    "print(arr)\n",
    "\n",
    "# The first element\n",
    "print(arr[0,0])\n",
    "\n",
    "# The first row\n",
    "print(arr[0])\n",
    "print(arr[0,:])\n",
    "print(arr[0, ::])\n",
    "\n",
    "# The last row\n",
    "print(arr[-1])\n",
    "print(arr[-1, :])\n",
    "print(arr[-1, ::])\n",
    "\n",
    "# The 2 last rows\n",
    "print(arr[-2:])\n",
    "\n",
    "# First and last rows\n",
    "print(arr[0::2])\n",
    "\n",
    "# The first column\n",
    "print(arr[:,0])\n",
    "\n",
    "# The last column\n",
    "print(arr[:,-1])\n",
    "\n",
    "# The last 2 columns\n",
    "print(arr[:, -2:])\n",
    "```"
   ]
  },
  {
   "cell_type": "markdown",
   "metadata": {},
   "source": [
    "### ==================== EXERCICE ====================\n",
    "1. Exécuter l'exemple donné précédemment.\n",
    "2. Créer différents `ndarray` à 2 dimensions mais de tailles différentes.\n",
    "3. Afficher les premières lignes et colonnes.\n",
    "4. Afficher les dernières lignes et colonnes.\n",
    "\n",
    "### ==================== SOLUTION ==================="
   ]
  },
  {
   "cell_type": "markdown",
   "metadata": {},
   "source": [
    "### =============================================="
   ]
  },
  {
   "cell_type": "markdown",
   "metadata": {},
   "source": [
    "## Accès aux données : les listes d'indices\n",
    "### Les opérateurs `[start:end:step, start:end:step, start:end:step, ... ]` peuvent prendre des listes d'indices au lieu des `start:end:step`\n",
    "\n",
    "**Exemple :**\n",
    "```\n",
    "import numpy as np\n",
    "\n",
    "mean = 0\n",
    "sd = 1\n",
    "size = (3, 4) # 3 lines, 4 columns\n",
    "arr = np.random.normal(mean, sd, size)\n",
    "print(arr)\n",
    "\n",
    "# The elements at (1, 2) and (2, 3)\n",
    "rows_indices = [1, 2]\n",
    "cols_indices = [2, 3]\n",
    "print(arr[rows_indices, cols_indices])\n",
    "```"
   ]
  },
  {
   "cell_type": "markdown",
   "metadata": {},
   "source": [
    "### ==================== EXERCICE ====================\n",
    "1. Exécuter l'exemple donné précédemment.\n",
    "2. Créer différents `ndarray` à 2 dimensions mais de tailles différentes.\n",
    "3. Afficher différents éléments en utilisant les listes d'indices.\n",
    "\n",
    "### ==================== SOLUTION ==================="
   ]
  },
  {
   "cell_type": "markdown",
   "metadata": {},
   "source": [
    "### =============================================="
   ]
  },
  {
   "cell_type": "markdown",
   "metadata": {},
   "source": [
    "## Les `Views`\n",
    "### Une `View` affiche les données initiales, mais sous une autre forme\n",
    "### Modifier une `View` modifie les données initiales\n",
    "### Utiliser la fonction `view()`\n",
    "### Les `slicing` génèrent des `Views`\n",
    "\n",
    "**Exemple :**\n",
    "```\n",
    "import numpy as np\n",
    "\n",
    "mean = 100\n",
    "sd = 1\n",
    "size = (3, 3) # 3 row, 3 columns\n",
    "arr = np.random.normal(mean, sd, size)\n",
    "print(\"Array BEFORE modification\")\n",
    "print(arr)\n",
    "\n",
    "arr_view = arr.view()\n",
    "arr_view[0,2] = 42\n",
    "print(\"Array AFTER first modification\")\n",
    "print(arr)\n",
    "\n",
    "# Slicing with :\n",
    "first_line = arr[0,:]\n",
    "\n",
    "# Modify first element\n",
    "first_line[1] = 42\n",
    "\n",
    "print(\"Array AFTER second modification\")\n",
    "print(arr)\n",
    "```"
   ]
  },
  {
   "cell_type": "markdown",
   "metadata": {},
   "source": [
    "### ==================== EXERCICE ====================\n",
    "1. Exécuter l'exemple donné précédemment.\n",
    "2. Expérimenter et bien noter le fait que si on modifie les éléments du `ndarray` obtenu par `slicing`, on modifie aussi les données initiales.\n",
    "\n",
    "### ==================== SOLUTION ==================="
   ]
  },
  {
   "cell_type": "markdown",
   "metadata": {},
   "source": [
    "### =============================================="
   ]
  },
  {
   "cell_type": "markdown",
   "metadata": {},
   "source": [
    "## `Broadcasting`\n",
    "### Étendre automatiquement la taille des `ndarrays` pour autoriser les opérations"
   ]
  },
  {
   "cell_type": "markdown",
   "metadata": {},
   "source": [
    "### Pour chaque dimension, vérifier si elles ont la même taille, ou 1\n",
    "### Sinon, retourner une erreur.\n",
    "\n",
    "#### Exemple\n",
    "- A est un tableau à une dimension de taille 3 (3 x 1)\n",
    "- B un tableau à 2 dimensions de tailles 3 (3 x 3)\n",
    "\n",
    "Si on fait C = A+B, alors C sera un tableau à 2 dimensions de tailles 3 (3 x 3).\n",
    "\n",
    "|ARRAY| Dimension 1 | Dimension 2 |\n",
    "|----|----|----|\n",
    "|A|1|3|\n",
    "|B|3|3|\n",
    "|C|3|3|\n",
    "\n",
    "\n",
    "**Exemple :**\n",
    "\n",
    "```\n",
    "import numpy as np\n",
    "\n",
    "A = np.array([1, 2, 3])\n",
    "print(A.shape)\n",
    "B = np.array([10, 20, 30])\n",
    "print(B.shape)\n",
    "# OK\n",
    "C = A+B\n",
    "print(C.shape)\n",
    "\n",
    "B = np.ones((3, 3))\n",
    "print(B.shape)\n",
    "# BROADCASTING\n",
    "C = A+B\n",
    "print(C.shape)\n",
    "\n",
    "B = np.ones((4, 4))\n",
    "print(B.shape)\n",
    "# ERROR\n",
    "C = A+B\n",
    "print(C.shape)\n",
    "```\n"
   ]
  },
  {
   "cell_type": "markdown",
   "metadata": {},
   "source": [
    "#### Exemple avec 3 dimensions\n",
    "Avec les tableaux de dimensions suivantes :\n",
    "\n",
    "|ARRAY| Dimension 1 | Dimension 2 | Dimension 3 |\n",
    "|----|----|----|-----|\n",
    "|A|4|1|2|\n",
    "|B|1|3|1|\n",
    "|C|4|3|2|\n",
    "\n",
    "**Exemple :**\n",
    "\n",
    "```\n",
    "import numpy as np\n",
    "\n",
    "A = np.ones((4, 1, 2))\n",
    "print(A.shape)\n",
    "B = np.ones((1, 3, 1))\n",
    "print(B.shape)\n",
    "# BROADCASTING\n",
    "C = A+B\n",
    "print(C.shape)\n",
    "```\n"
   ]
  },
  {
   "cell_type": "markdown",
   "metadata": {},
   "source": [
    "#### Exemple avec des dimensions \"manquantes\" : on aligne à partir de la droite (donc la dernière dimension)\n",
    "\n",
    "Avec les tableaux de dimensions suivantes :\n",
    "\n",
    "|ARRAY| Dimension 1 | Dimension 2 | Dimension 3 |\n",
    "|----|----|----|-----|\n",
    "|A|1|1|4|\n",
    "|B|1|3|1|\n",
    "|C|1|3|4|\n",
    "\n",
    "**Exemple :**\n",
    "\n",
    "```\n",
    "import numpy as np\n",
    "\n",
    "# BROADCASTING\n",
    "A = np.array([1, 2, 3, 4])\n",
    "print(A.shape)\n",
    "B = np.ones((1, 3, 1))\n",
    "print(B.shape)\n",
    "C = A+B\n",
    "print(C.shape)\n",
    "```\n"
   ]
  },
  {
   "cell_type": "markdown",
   "metadata": {},
   "source": [
    "### ==================== EXERCICE ====================\n",
    "1. Exécuter les exemples donnés précédemment.\n",
    "2. Expérimenter.\n",
    "\n",
    "### ==================== SOLUTION ==================="
   ]
  },
  {
   "cell_type": "markdown",
   "metadata": {},
   "source": [
    "### =============================================="
   ]
  },
  {
   "cell_type": "markdown",
   "metadata": {},
   "source": [
    "## La fonction `reshape()`\n",
    "\n",
    "**ATTENTION :** le nombre d'éléments après le `reshape()` doit être le même.\n",
    "\n",
    "**Exemple :**\n",
    "\n",
    "```\n",
    "import numpy as np\n",
    "\n",
    "A = np.array([1, 2, 3, 4, 5, 6, 7, 8])\n",
    "print(A.shape)\n",
    "B = A.reshape(2, 2, 2)\n",
    "print(B.shape)\n",
    "\n",
    "# ERROR\n",
    "# C = A.reshape(3, 2, 2)\n",
    "# print(C.shape)\n",
    "```\n"
   ]
  },
  {
   "cell_type": "markdown",
   "metadata": {},
   "source": [
    "### ==================== EXERCICE ====================\n",
    "1. Exécuter les exemples donnés précédemment.\n",
    "2. Expérimenter.\n",
    "\n",
    "### ==================== SOLUTION ==================="
   ]
  },
  {
   "cell_type": "markdown",
   "metadata": {},
   "source": [
    "### =============================================="
   ]
  },
  {
   "cell_type": "markdown",
   "metadata": {},
   "source": [
    "## Les routines Numpy\n",
    "### [Documentation des routines Numpy](https://numpy.org/doc/stable/reference/routines.html)\n"
   ]
  }
 ],
 "metadata": {
  "kernelspec": {
   "name": "python394jvsc74a57bd0aee8b7b246df8f9039afb4144a1f6fd8d2ca17a180786b69acc140d282b71a49",
   "display_name": "Python 3.9.4 64-bit"
  },
  "language_info": {
   "codemirror_mode": {
    "name": "ipython",
    "version": 3
   },
   "file_extension": ".py",
   "mimetype": "text/x-python",
   "name": "python",
   "nbconvert_exporter": "python",
   "pygments_lexer": "ipython3",
   "version": "3.9.4"
  },
  "metadata": {
   "interpreter": {
    "hash": "aee8b7b246df8f9039afb4144a1f6fd8d2ca17a180786b69acc140d282b71a49"
   }
  }
 },
 "nbformat": 4,
 "nbformat_minor": 4
}