{
 "cells": [
  {
   "cell_type": "markdown",
   "metadata": {},
   "source": [
    "# Chapitre 9 : visualisation de données\n",
    "\n",
    "## [Documentation Matplotlib](https://matplotlib.org/)\n",
    "\n",
    "## [Gallerie Matplotlib](https://matplotlib.org/stable/gallery/index.html)"
   ]
  },
  {
   "cell_type": "markdown",
   "metadata": {},
   "source": [
    "## Objectif principal : aider la prise de décisions\n",
    "\n",
    "## Package **Matplotlib**"
   ]
  },
  {
   "cell_type": "markdown",
   "metadata": {},
   "source": [
    "## Importer le module pyplot\n",
    "\n",
    "**Exemple :**\n",
    "```python\n",
    "import matplotlib.pyplot as plt\n",
    "```\n",
    "\n",
    "**NOTE :** il faut installer la package **Matplotlib** depuis **Anaconda**."
   ]
  },
  {
   "cell_type": "markdown",
   "metadata": {},
   "source": [
    "## Un premier exemple\n",
    "\n",
    "### Principales étapes :\n",
    "1. Créer une **`figure`**.\n",
    "2. Donner un titre avec la méthode **[`title()`](https://matplotlib.org/stable/api/_as_gen/matplotlib.pyplot.title.html)**.\n",
    "3. Afficher les données avec la fonction **[`plot()`](https://matplotlib.org/stable/api/_as_gen/matplotlib.pyplot.plot.html)** (ou similaire).\n",
    "**Signature :** `plot(x, y, format)`\n",
    "\n",
    "**Exemple :**\n",
    "```python\n",
    "import matplotlib.pyplot as plt\n",
    "import numpy as np\n",
    "\n",
    "plt.figure()\n",
    "plt.title(\"My first graph!\")\n",
    "plt.plot(np.random.randn(1000), np.random.randn(1000), \".\")\n",
    "```"
   ]
  },
  {
   "cell_type": "markdown",
   "metadata": {},
   "source": [
    "### ==================== EXERCICE ====================\n",
    "1. Exécuter l'exemple donné précédemment.\n",
    "2. Que se passe-t-il si on omet le paramètre x ?\n",
    "3. Que se passe-t-il si les paramètres `x` et `y` ne contiennent pas le même nombre d'éléments ?\n",
    "\n",
    "### ==================== SOLUTION ==================="
   ]
  },
  {
   "cell_type": "markdown",
   "metadata": {},
   "source": [
    "### =============================================="
   ]
  },
  {
   "cell_type": "markdown",
   "metadata": {},
   "source": [
    "## Créer des sous-graphes : les [`subplot`s](https://matplotlib.org/stable/api/_as_gen/matplotlib.pyplot.subplot.html)\n",
    "### Signature : `subplot(nrows, ncols, index)`\n",
    "\n",
    "**Exemple :**\n",
    "```python\n",
    "import matplotlib.pyplot as plt\n",
    "import numpy as np\n",
    "\n",
    "plt.figure()\n",
    "plt.subplot(2,3,1)\n",
    "plt.title(\"Subplot #1\")\n",
    "plt.plot(np.random.randn(200))\n",
    "plt.subplot(2,3,2)\n",
    "plt.title(\"Subplot #2\")\n",
    "plt.plot(np.random.randn(200), \"o-r\")\n",
    "plt.subplot(2,3,3)\n",
    "plt.title(\"Subplot #3\")\n",
    "plt.plot(np.random.randn(200), \"v--g\")\n",
    "plt.subplot(2,3,4)\n",
    "plt.title(\"Subplot #4\")\n",
    "plt.plot(np.random.randn(200), \">:g\")\n",
    "plt.subplot(2,3,5)\n",
    "plt.title(\"Subplot #5\")\n",
    "plt.plot(np.random.randn(200), \"-r\")\n",
    "plt.subplot(2,3,6)\n",
    "plt.title(\"Subplot #6\")\n",
    "plt.plot(np.random.randn(200), \"b\")\n",
    "```\n",
    "\n",
    "**NOTE :** la fonction **[`plot()`](https://matplotlib.org/stable/api/_as_gen/matplotlib.pyplot.plot.html)** peut aussi prendre un paramètre pour spécifier le format des lignes affichées. Ce format est `[marker][line][color]`. Voir la documentation de la fonction [`plot()`](https://matplotlib.org/stable/api/_as_gen/matplotlib.pyplot.plot.html)"
   ]
  },
  {
   "cell_type": "markdown",
   "metadata": {},
   "source": [
    "### ==================== EXERCICE ====================\n",
    "1. Exécuter l'exemple donné précédemment.\n",
    "2. Expérimenter avec les différents formats possibles.\n",
    "\n",
    "### ==================== SOLUTION ==================="
   ]
  },
  {
   "cell_type": "markdown",
   "metadata": {},
   "source": [
    "### =============================================="
   ]
  },
  {
   "cell_type": "markdown",
   "metadata": {},
   "source": [
    "## Utiliser des styles\n",
    "### Le dictionnaire `plt.style.available`\n",
    "### La fonction `plt.style.use()`\n",
    "\n",
    "**Exemple :**\n",
    "```python\n",
    "# Show available styles\n",
    "print(plt.style.available)\n",
    "\n",
    "# Use the chosen style\n",
    "plt.style.use('seaborn-whitegrid')\n",
    "```"
   ]
  },
  {
   "cell_type": "markdown",
   "metadata": {},
   "source": [
    "### ==================== EXERCICE ====================\n",
    "1. Utiliser les exemples précédents et changer le style d'affichage.\n",
    "2. En utilisant `plt.style.available`, écrire une fonction qui affiche une `figure` pour les 10 derniers styles disponibles.\n",
    "\n",
    "**NOTE :** si vous souhaitez afficher plus de 20 graphiques à la fois, vous recevez un warning car la mémoire consommée pourrait être trop importante.\n",
    "\n",
    "### ==================== SOLUTION ==================="
   ]
  },
  {
   "cell_type": "markdown",
   "metadata": {},
   "source": [
    "### =============================================="
   ]
  },
  {
   "cell_type": "markdown",
   "metadata": {},
   "source": [
    "## Les labels sur les axes : [`xlabel()`](https://matplotlib.org/stable/api/_as_gen/matplotlib.pyplot.xlabel.html) et [`ylabel()`](https://matplotlib.org/stable/api/_as_gen/matplotlib.pyplot.ylabel.html)\n",
    "\n",
    "**Exemple :**\n",
    "```python\n",
    "import matplotlib.pyplot as plt\n",
    "import numpy as np\n",
    "\n",
    "plt.style.use(\"seaborn-talk\")\n",
    "plt.figure()        \n",
    "plt.title(\"Graph with Labels\")\n",
    "plt.xlabel(\"X\")\n",
    "plt.ylabel(\"Y\")\n",
    "plt.plot(np.random.randn(200))\n",
    "```"
   ]
  },
  {
   "cell_type": "markdown",
   "metadata": {},
   "source": [
    "### ==================== EXERCICE ====================\n",
    "1. Exécuter l'exemple précédent.\n",
    "2. Expérimenter.\n",
    "\n",
    "### ==================== SOLUTION ==================="
   ]
  },
  {
   "cell_type": "markdown",
   "metadata": {},
   "source": [
    "### =============================================="
   ]
  },
  {
   "cell_type": "markdown",
   "metadata": {},
   "source": [
    "## Plusieurs `plot()` par graphique\n",
    "\n",
    "**Exemple :**\n",
    "```python\n",
    "import matplotlib.pyplot as plt\n",
    "import numpy as np\n",
    "\n",
    "plt.style.use(\"seaborn-talk\")\n",
    "plt.figure()        \n",
    "plt.title(\"Graph with several plot()\")\n",
    "plt.xlabel(\"X\")\n",
    "plt.ylabel(\"Y\")\n",
    "plt.plot(np.random.randn(200), \".r:\", label=\"Data 1\")\n",
    "plt.plot(np.random.randn(200), \"^g:\", label=\"Data 2\")\n",
    "plt.plot(np.random.randn(200), \"ob:\", label=\"Data 3\")\n",
    "```"
   ]
  },
  {
   "cell_type": "markdown",
   "metadata": {},
   "source": [
    "### ==================== EXERCICE ====================\n",
    "1. Exécuter l'exemple précédent.\n",
    "2. Expérimenter.\n",
    "\n",
    "### ==================== SOLUTION ==================="
   ]
  },
  {
   "cell_type": "markdown",
   "metadata": {},
   "source": [
    "### =============================================="
   ]
  },
  {
   "cell_type": "markdown",
   "metadata": {},
   "source": [
    "## Graphiques avec légende : la fonction **[`legend()`](https://matplotlib.org/stable/api/_as_gen/matplotlib.pyplot.legend.html)**\n",
    "- Ajouter des labels aux courbes.\n",
    "- Appeler la fonction `legend()`\n",
    "\n",
    "**Exemple :**\n",
    "```python\n",
    "import matplotlib.pyplot as plt\n",
    "import numpy as np\n",
    "\n",
    "plt.style.use(\"seaborn-talk\")\n",
    "plt.figure()        \n",
    "plt.title(\"Graph with Legend\")\n",
    "plt.xlabel(\"X\")\n",
    "plt.ylabel(\"Y\")\n",
    "plt.plot(np.random.randn(200), \".r:\", label=\"Data 1\")\n",
    "plt.plot(np.random.randn(200), \"^g:\", label=\"Data 2\")\n",
    "plt.plot(np.random.randn(200), \"ob:\", label=\"Data 3\")\n",
    "plt.legend()\n",
    "```"
   ]
  },
  {
   "cell_type": "markdown",
   "metadata": {},
   "source": [
    "### ==================== EXERCICE ====================\n",
    "1. Exécuter l'exemple précédent.\n",
    "2. Expérimenter.\n",
    "\n",
    "### ==================== SOLUTION ==================="
   ]
  },
  {
   "cell_type": "markdown",
   "metadata": {},
   "source": [
    "### =============================================="
   ]
  },
  {
   "cell_type": "markdown",
   "metadata": {},
   "source": [
    "## Exporter un graphique : la fonction **[`savefig()`](https://matplotlib.org/stable/api/_as_gen/matplotlib.pyplot.savefig.html)**\n",
    "\n",
    "**Exemple :**\n",
    "```python\n",
    "import matplotlib.pyplot as plt\n",
    "import numpy as np\n",
    "\n",
    "plt.style.use(\"seaborn-talk\")\n",
    "plt.figure()        \n",
    "plt.title(\"Graph with Legend\")\n",
    "plt.xlabel(\"X\")\n",
    "plt.ylabel(\"Y\")\n",
    "plt.plot(np.random.randn(200), \".r:\", label=\"Data 1\")\n",
    "plt.plot(np.random.randn(200), \"^g:\", label=\"Data 2\")\n",
    "plt.plot(np.random.randn(200), \"ob:\", label=\"Data 3\")\n",
    "plt.legend()\n",
    "\n",
    "plt.savefig(\"RESULTS/chap9_results.svg\")\n",
    "```"
   ]
  },
  {
   "cell_type": "markdown",
   "metadata": {},
   "source": [
    "### ==================== EXERCICE ====================\n",
    "1. Exécuter l'exemple précédent.\n",
    "2. Expérimenter en utilisant les paramètres `dpi`, `transparent` et en changeant l'extension du fichier de sortie.\n",
    "\n",
    "### ==================== SOLUTION ==================="
   ]
  },
  {
   "cell_type": "markdown",
   "metadata": {},
   "source": [
    "### =============================================="
   ]
  },
  {
   "cell_type": "markdown",
   "metadata": {},
   "source": [
    "## Les nuages de points : la fonction **[`scatter()`](https://matplotlib.org/stable/api/_as_gen/matplotlib.pyplot.scatter.html#matplotlib.pyplot.scatter)**\n",
    "\n",
    "**Exemple :**\n",
    "```python\n",
    "import matplotlib.pyplot as plt\n",
    "import numpy as np\n",
    "\n",
    "plt.style.use(\"seaborn-talk\")\n",
    "plt.figure()\n",
    "plt.title(\"Graph with points\")\n",
    "plt.xlabel(\"X\")\n",
    "plt.ylabel(\"Y\")\n",
    "\n",
    "X = np.random.randn(200)\n",
    "Y = np.random.randn(200)\n",
    "\n",
    "plt.scatter(X, Y)\n",
    "```"
   ]
  },
  {
   "cell_type": "markdown",
   "metadata": {},
   "source": [
    "### ==================== EXERCICE ====================\n",
    "1. Exécuter l'exemple précédent.\n",
    "2. Expérimenter en utilisant les paramètres `dpi`, `transparent` et en changeant l'extension du fichier de sortie.\n",
    "\n",
    "### ==================== SOLUTION ==================="
   ]
  },
  {
   "cell_type": "markdown",
   "metadata": {},
   "source": [
    "### =============================================="
   ]
  },
  {
   "cell_type": "markdown",
   "metadata": {},
   "source": [
    "## **[`scatter()`](https://matplotlib.org/stable/api/_as_gen/matplotlib.pyplot.scatter.html#matplotlib.pyplot.scatter)** avec couleurs et tailles variables\n",
    "\n",
    "\n",
    "### On utilise la fonction **[`get_cmap()`](https://matplotlib.org/stable/tutorials/colors/colormaps.html)**\n",
    "\n",
    "**Exemple :**\n",
    "```python\n",
    "import matplotlib.pyplot as plt\n",
    "import numpy as np\n",
    "\n",
    "plt.style.use(\"seaborn-talk\")\n",
    "plt.figure()\n",
    "plt.title(\"Graph with Points\")\n",
    "plt.xlabel(\"X\")\n",
    "plt.ylabel(\"Y\")\n",
    "\n",
    "X = np.random.randn(200)\n",
    "Y = np.random.randn(200)*100\n",
    "\n",
    "# NOTE: we use random.random here to make sure values are > 0 and we rescale\n",
    "S = np.random.random(200)*250\n",
    "\n",
    "# We use a colormap and we pass an array-like variable storing indexes to this colormap\n",
    "colormap = plt.get_cmap(\"plasma\")\n",
    "colors = np.random.random(200)*500\n",
    "\n",
    "plt.scatter(X, Y, s=S, c=colors, cmap=colormap)\n",
    "plt.colorbar()\n",
    "```"
   ]
  },
  {
   "cell_type": "markdown",
   "metadata": {},
   "source": [
    "### ==================== EXERCICE ====================\n",
    "1. Exécuter l'exemple précédent.\n",
    "2. Expérimenter.\n",
    "\n",
    "### ==================== SOLUTION ==================="
   ]
  },
  {
   "cell_type": "markdown",
   "metadata": {},
   "source": [
    "### =============================================="
   ]
  },
  {
   "cell_type": "markdown",
   "metadata": {},
   "source": [
    "## Graphique en bâtons : la fonction **[`bar()`](https://matplotlib.org/stable/api/_as_gen/matplotlib.pyplot.bar.html)**\n",
    "\n",
    "**Exemple :**\n",
    "```python\n",
    "import matplotlib.pyplot as plt\n",
    "import numpy as np\n",
    "\n",
    "plt.style.use(\"seaborn-talk\")\n",
    "plt.figure()\n",
    "plt.title(\"Graph with Bars\")\n",
    "plt.xlabel(\"X\")\n",
    "plt.ylabel(\"Y\")\n",
    "\n",
    "X = range(8)\n",
    "Y = np.random.randn(8)*100\n",
    "\n",
    "# We change the labels on X axis\n",
    "plt.xticks(X, [\"Label 1\", \"Label 2\", \"Label 3\", \"Label 4\", \"Label 5\", \"Label 6\", \"Label 7\", \"Label 8\"])\n",
    "\n",
    "# Colors\n",
    "C = [\"blue\", \"red\", \"green\", \"orange\", \"yellow\", \"purple\", \"black\", \"pink\"]\n",
    "plt.bar(X, Y, color=C)\n",
    "```"
   ]
  },
  {
   "cell_type": "markdown",
   "metadata": {},
   "source": [
    "### ==================== EXERCICE ====================\n",
    "1. Exécuter l'exemple précédent.\n",
    "2. Expérimenter.\n",
    "\n",
    "### ==================== SOLUTION ==================="
   ]
  },
  {
   "cell_type": "markdown",
   "metadata": {},
   "source": [
    "### =============================================="
   ]
  },
  {
   "cell_type": "markdown",
   "metadata": {},
   "source": [
    "## Le pie chart : la fonction **[`pie()`](https://matplotlib.org/stable/api/_as_gen/matplotlib.pyplot.pie.html)**\n",
    "\n",
    "**Exemple :**\n",
    "```python\n",
    "import matplotlib.pyplot as plt\n",
    "import numpy as np\n",
    "\n",
    "V = [500, 250, 150, 70, 30]\n",
    "L = [\"Label 1\", \"Label 2\", \"Label 3\", \"Label 4\", \"Label 5\"]\n",
    "\n",
    "plt.figure()\n",
    "plt.title(\"Pie Graph\")\n",
    "\n",
    "plt.pie(V, labels=L, autopct='% 1.1f%%')\n",
    "```"
   ]
  },
  {
   "cell_type": "markdown",
   "metadata": {},
   "source": [
    "### ==================== EXERCICE ====================\n",
    "1. Exécuter l'exemple précédent.\n",
    "2. Expérimenter.\n",
    "\n",
    "### ==================== SOLUTION ==================="
   ]
  },
  {
   "cell_type": "markdown",
   "metadata": {},
   "source": [
    "### =============================================="
   ]
  },
  {
   "cell_type": "markdown",
   "metadata": {},
   "source": [
    "## L'histogramme : la fonction **[`hist()`](https://matplotlib.org/stable/api/_as_gen/matplotlib.pyplot.hist.html)**\n",
    "\n",
    "1. Découpe l'espace possible des valeurs en **`bins`** intervalles de même taille.\n",
    "2. Pour chaque intervalle, compte le nombre d'occurences.\n",
    "\n",
    "**Exemple :**\n",
    "```python\n",
    "import matplotlib.pyplot as plt\n",
    "import numpy as np\n",
    "\n",
    "plt.figure()\n",
    "plt.title(\"Histogram\")\n",
    "plt.xlabel(\"X\")\n",
    "plt.ylabel(\"Y\")\n",
    "\n",
    "X = np.random.randn(1000000)*10\n",
    "\n",
    "plt.hist(X, bins=1000)\n",
    "```"
   ]
  },
  {
   "cell_type": "markdown",
   "metadata": {},
   "source": [
    "### ==================== EXERCICE ====================\n",
    "1. Exécuter l'exemple précédent.\n",
    "2. Expérimenter. En particulier, modifier le nombre de valeurs générées ainsi que le paramètre `bins`.\n",
    "\n",
    "### ==================== SOLUTION ==================="
   ]
  },
  {
   "cell_type": "markdown",
   "metadata": {},
   "source": [
    "### =============================================="
   ]
  },
  {
   "cell_type": "markdown",
   "metadata": {},
   "source": [
    "## Afficher une \"image\" : la fonction **[`imshow()`](https://matplotlib.org/stable/api/_as_gen/matplotlib.pyplot.imshow.html)**\n",
    "\n",
    "**Exemple :**\n",
    "```python\n",
    "import matplotlib.pyplot as plt\n",
    "import numpy as np\n",
    "\n",
    "image_path = \"medias/The_Shawshank_Redemption_1994.jpg\"\n",
    "\n",
    "# Load image\n",
    "movie_poster = plt.imread(image_path)\n",
    "\n",
    "plt.figure()\n",
    "plt.title(\"Image RGB\")\n",
    "plt.imshow(movie_poster)\n",
    "```"
   ]
  },
  {
   "cell_type": "markdown",
   "metadata": {},
   "source": [
    "### ==================== EXERCICE ====================\n",
    "1. Exécuter l'exemple précédent.\n",
    "2. Comment afficher les images des composantes Rouge, Vert et Bleue ?\n",
    "\n",
    "### ==================== SOLUTION ==================="
   ]
  },
  {
   "cell_type": "markdown",
   "metadata": {},
   "source": [
    "### =============================================="
   ]
  },
  {
   "cell_type": "markdown",
   "metadata": {},
   "source": [
    "## Et bien d'autres encore...\n",
    "\n",
    "### [Gallerie Matplotlib](https://matplotlib.org/stable/gallery/index.html)"
   ]
  },
  {
   "cell_type": "code",
   "execution_count": 32,
   "metadata": {},
   "outputs": [
    {
     "data": {
      "text/html": [
       "<iframe src=\"https://matplotlib.org/stable/gallery/index.html\" width=\"1200\" height=\"1000\"></iframe>\n"
      ],
      "text/plain": [
       "<IPython.core.display.HTML object>"
      ]
     },
     "metadata": {},
     "output_type": "display_data"
    }
   ],
   "source": [
    "\n",
    "%%html\n",
    "<iframe src=\"https://matplotlib.org/stable/gallery/index.html\" width=\"1200\" height=\"1000\"></iframe>"
   ]
  }
 ],
 "metadata": {
  "kernelspec": {
   "display_name": "Python 3",
   "language": "python",
   "name": "python3"
  },
  "language_info": {
   "codemirror_mode": {
    "name": "ipython",
    "version": 3
   },
   "file_extension": ".py",
   "mimetype": "text/x-python",
   "name": "python",
   "nbconvert_exporter": "python",
   "pygments_lexer": "ipython3",
   "version": "3.8.5"
  }
 },
 "nbformat": 4,
 "nbformat_minor": 4
}
