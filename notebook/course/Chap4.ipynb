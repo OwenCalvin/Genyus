{
 "cells": [
  {
   "cell_type": "markdown",
   "metadata": {},
   "source": [
    "# Chapitre 4 : conditions, boucles et fonctions"
   ]
  },
  {
   "cell_type": "markdown",
   "metadata": {},
   "source": [
    "## IMPORTANT : contrairement au C, Python utilise l'indentation pour les blocs"
   ]
  },
  {
   "cell_type": "markdown",
   "metadata": {},
   "source": [
    "\n",
    "## `if`\n",
    "**Syntaxe :**\n",
    "```\n",
    "if <condition>:\n",
    "    <instructions>\n",
    "elif <condition>:\n",
    "    <instructions>\n",
    "else:\n",
    "    <instructions>\n",
    "```\n",
    "\n",
    "**Exemple :**\n",
    "```\n",
    "my_int = 101\n",
    "if my_int <= 10:\n",
    "    print(str(my_int) + \" <= 10\")\n",
    "elif my_int <= 100:\n",
    "    print(str(my_int) + \" <= 100\")\n",
    "else:\n",
    "    print(str(my_int) + \" > 100\")\n",
    "```\n",
    "\n",
    "### `else` est optionnel\n",
    "**Exemple :**\n",
    "```\n",
    "my_int = 101\n",
    "if my_int <= 10:\n",
    "    print(str(my_int) + \" <= 10\")\n",
    "elif my_int <= 100:\n",
    "    print(str(my_int) + \" <= 100\")\n",
    "```\n",
    "\n",
    "### `elif` est optionnel\n",
    "**Exemple :**\n",
    "```\n",
    "my_int = 101\n",
    "if my_int <= 10:\n",
    "    print(str(my_int) + \" <= 10\")\n",
    "```"
   ]
  },
  {
   "cell_type": "markdown",
   "metadata": {},
   "source": [
    "### ==================== EXERCICE ====================\n",
    "1. Exécuter les exemples donnés précédemment\n",
    "2. Modifier les exemples précédents et expérimenter\n",
    "3. Utiliser `elif` pour imbriquer 3 conditions\n",
    "\n",
    "### ==================== SOLUTION ==================="
   ]
  },
  {
   "cell_type": "markdown",
   "metadata": {},
   "source": [
    "### =============================================="
   ]
  },
  {
   "cell_type": "markdown",
   "metadata": {},
   "source": [
    "## RAPPEL : les opérateurs de comparaisons\n",
    "`is`, `is not`, `==`, `!=`, `<`, `<=`, `>`, `>=`\n",
    "\n",
    "**NOTE :** `is` vérifie que les 2 objets sont les mêmes. `==` vérifie que les 2 objets ont les mêmes valeurs."
   ]
  },
  {
   "cell_type": "markdown",
   "metadata": {},
   "source": [
    "### ==================== EXERCICE ====================\n",
    "1. Créer 2 strings identiques\n",
    "2. Vérifier qu'elles ont bien la même valeur\n",
    "3. Vérifier qu'elles sont en fait le même objet\n",
    "4. Créer 2 strings identiques avec l'opérateur `*`\n",
    "5. Vérifier qu'elles ont bien la même valeur\n",
    "6. Vérifier que les objets sont différents\n",
    "\n",
    "### ==================== SOLUTION ==================="
   ]
  },
  {
   "cell_type": "markdown",
   "metadata": {},
   "source": [
    "### =============================================="
   ]
  },
  {
   "cell_type": "markdown",
   "metadata": {},
   "source": [
    "### ==================== EXERCICE ====================\n",
    "1. Expérimenter avec des conditions sur des entiers\n",
    "2. Expérimenter avec des conditions sur des flottants\n",
    "3. Expérimenter avec des conditions sur des strings\n",
    "\n",
    "### ==================== SOLUTION ==================="
   ]
  },
  {
   "cell_type": "markdown",
   "metadata": {},
   "source": [
    "### =============================================="
   ]
  },
  {
   "cell_type": "markdown",
   "metadata": {},
   "source": [
    "## Boucle `for` sur une liste\n",
    "**Remarque :** les boucles en Python sont très couteuses en temps de calcul.\n",
    "\n",
    "**Syntaxe :**\n",
    "```\n",
    "for <variable> in <list>:\n",
    "    <instructions utilisant variable>\n",
    "```\n",
    "\n",
    "**Exemple :**\n",
    "```\n",
    "for v in [0, 2, 4, 6, 8, 10]:\n",
    "    print(3*v)\n",
    "```\n",
    "\n"
   ]
  },
  {
   "cell_type": "markdown",
   "metadata": {},
   "source": [
    "### ==================== EXERCICE ====================\n",
    "1. Exécuter l'exemple ci-dessus\n",
    "2. Expérimenter\n",
    "\n",
    "### ==================== SOLUTION ==================="
   ]
  },
  {
   "cell_type": "markdown",
   "metadata": {},
   "source": [
    "### =============================================="
   ]
  },
  {
   "cell_type": "markdown",
   "metadata": {},
   "source": [
    "## Boucle `for` sur un dictionnaire\n",
    "**Remarque :** les boucles en Python sont très couteuses en temps de calcul.\n",
    "\n",
    "**Syntaxe :**\n",
    "```\n",
    "for <key>, <value> in <dict>.items():\n",
    "    <instructions utilisant key et value>\n",
    "```\n",
    "\n",
    "**Exemple :**\n",
    "```\n",
    "for key, value in {\"key0\":0, \"key1\":2, \"key2\":4, \"key3\":6}.items():\n",
    "    print(key + \" = \" + str(value))\n",
    "```\n",
    "\n"
   ]
  },
  {
   "cell_type": "markdown",
   "metadata": {},
   "source": [
    "### ==================== EXERCICE ====================\n",
    "1. Exécuter l'exemple ci-dessus\n",
    "2. Expérimenter\n",
    "\n",
    "### ==================== SOLUTION ==================="
   ]
  },
  {
   "cell_type": "markdown",
   "metadata": {},
   "source": [
    "### =============================================="
   ]
  },
  {
   "cell_type": "markdown",
   "metadata": {},
   "source": [
    "## La fonction `range(start, stop, step)`\n",
    "Créé une série qui commence à `start`, se termine à `stop` **(non-inclus)**, avec un pas de `step`.\n",
    "\n",
    "**Remarque :**\n",
    "- Si `start` n'est pas spécifié, alors `start` vaut `0`\n",
    "- Si `step` n'est pas spécifié, alors `step` vaut `1`\n",
    "\n",
    "**Exemple :**\n",
    "```\n",
    "for v in range(1, 102, 10):\n",
    "    print(v*3)\n",
    "```"
   ]
  },
  {
   "cell_type": "markdown",
   "metadata": {},
   "source": [
    "### ==================== EXERCICE ====================\n",
    "1. Générer (et afficher les valeurs) une range qui commence à 10, termine à 100 avec un pas de 10\n",
    "2. Générer (et afficher les valeurs) une range qui commence à 10, termine à 100, avec un pas de 1\n",
    "3. Générer (et afficher les valeurs) une range qui commence à 0, termine à 100, avec un pas de 1\n",
    "\n",
    "**Remarque :** utiliser les valeurs par défaut si possible.\n",
    "\n",
    "### ==================== SOLUTION ==================="
   ]
  },
  {
   "cell_type": "markdown",
   "metadata": {},
   "source": [
    "### =============================================="
   ]
  },
  {
   "cell_type": "markdown",
   "metadata": {},
   "source": [
    "## Boucle `while`\n",
    "**Syntaxe :**\n",
    "```\n",
    "while <condition>:\n",
    "    <instructions>\n",
    "```\n",
    "\n",
    "**Exemple :**\n",
    "```\n",
    "v = 0\n",
    "while v < 100:\n",
    "    v += 1;\n",
    "    print(3*v)\n",
    "```"
   ]
  },
  {
   "cell_type": "markdown",
   "metadata": {},
   "source": [
    "### ==================== EXERCICE ====================\n",
    "1. Expérimenter avec l'exemple donné\n",
    "\n",
    "### ==================== SOLUTION ==================="
   ]
  },
  {
   "cell_type": "markdown",
   "metadata": {},
   "source": [
    "### =============================================="
   ]
  },
  {
   "cell_type": "markdown",
   "metadata": {},
   "source": [
    "## Les fonctions\n",
    "**Syntaxe :**\n",
    "```\n",
    "def <function_name>(<parameters):\n",
    "    <instructions>\n",
    "```\n",
    "\n",
    "**Exemple :**\n",
    "```\n",
    "def print_sum(a, b):\n",
    "    print(a+b)\n",
    "    \n",
    "print_sum(40, 2)\n",
    "```\n"
   ]
  },
  {
   "cell_type": "markdown",
   "metadata": {},
   "source": [
    "### ==================== EXERCICE ====================\n",
    "1. Écrire une fonction qui affiche la soustraction de 2 entiers\n",
    "2. Appeler cette fonction\n",
    "\n",
    "### ==================== SOLUTION ==================="
   ]
  },
  {
   "cell_type": "markdown",
   "metadata": {},
   "source": [
    "### =============================================="
   ]
  },
  {
   "cell_type": "markdown",
   "metadata": {},
   "source": [
    "### Nommer les arguments lors de l'appel\n",
    "- Pour plus de lisibilité\n",
    "- Passer les arguments dans l'ordre que l'on souhaite\n",
    "\n",
    "**Exemple :**\n",
    "```\n",
    "def print_sum(a, b):\n",
    "    print(a+b)\n",
    "    \n",
    "print_sum(b=2, a=40)\n",
    "```"
   ]
  },
  {
   "cell_type": "markdown",
   "metadata": {},
   "source": [
    "### ==================== EXERCICE ====================\n",
    "1. Appeler la fonction précédente en nommant les arguments\n",
    "2. Intervertir les arguments lors de l'appel\n",
    "\n",
    "### ==================== SOLUTION ==================="
   ]
  },
  {
   "cell_type": "markdown",
   "metadata": {},
   "source": [
    "### =============================================="
   ]
  },
  {
   "cell_type": "markdown",
   "metadata": {},
   "source": [
    "### Paramètre par défaut\n",
    "- Donner une valeur initial à un paramètre\n",
    "- Rendre des paramètres optionnels\n",
    "\n",
    "**Exemple :**\n",
    "```\n",
    "def print_sum(a, b=42):\n",
    "    print(a+b)\n",
    "    \n",
    "print_sum(40)\n",
    "```"
   ]
  },
  {
   "cell_type": "markdown",
   "metadata": {},
   "source": [
    "### ==================== EXERCICE ====================\n",
    "1. Reprendre une des fonctions précédentes\n",
    "2. Ajouter une valeur par défaut pour un paramètre **à la fin**\n",
    "3. Appeler la fonction en omettant ce paramètre\n",
    "4. Mettre le paramètre par défaut **au début**\n",
    "5. Que se passe-t-il ? Pourquoi ?\n",
    "\n",
    "### ==================== SOLUTION ==================="
   ]
  },
  {
   "cell_type": "markdown",
   "metadata": {},
   "source": [
    "### =============================================="
   ]
  },
  {
   "cell_type": "markdown",
   "metadata": {},
   "source": [
    "### Paramètre par défaut avec nommage\n",
    "\n",
    "**Exemple :**\n",
    "```\n",
    "def test_default_with_naming(def_a=1, def_b=2, def_c=3):\n",
    "    print(def_a)\n",
    "    print(def_b)\n",
    "    print(def_c)\n",
    "    \n",
    "test_default_with_naming(def_b = 42)\n",
    "```"
   ]
  },
  {
   "cell_type": "markdown",
   "metadata": {},
   "source": [
    "### ==================== EXERCICE ====================\n",
    "1. Écrire une fonction avec 4 paramètres par défaut\n",
    "2. L'appeler avec 1 seul paramètre\n",
    "3. L'appeler avec 3 paramètres\n",
    "\n",
    "### ==================== SOLUTION ==================="
   ]
  },
  {
   "cell_type": "markdown",
   "metadata": {},
   "source": [
    "### =============================================="
   ]
  },
  {
   "cell_type": "markdown",
   "metadata": {},
   "source": [
    "### Listes d'arguments\n",
    "- Pour les fonctions avec beaucoup de paramètres\n",
    "- Stocker les valeurs dans une liste\n",
    "- Passer la liste en argument précédée de `*`\n",
    "\n",
    "**Exemple :**\n",
    "```\n",
    "def print_arg_list(a0, a1, a2, a3, a4):\n",
    "    print(a0)\n",
    "    print(a1)\n",
    "    print(a2)\n",
    "    print(a3)\n",
    "    print(a4)\n",
    "\n",
    "arg_list = [0, 1, 2, 3, 4]\n",
    "print_arg_list(*arg_list)\n",
    "```"
   ]
  },
  {
   "cell_type": "markdown",
   "metadata": {},
   "source": [
    "### ==================== EXERCICE ====================\n",
    "1. Reprendre l'exemple précédent et l'exécuter\n",
    "2. Expérimenter avec\n",
    "\n",
    "### ==================== SOLUTION ==================="
   ]
  },
  {
   "cell_type": "markdown",
   "metadata": {},
   "source": [
    "### =============================================="
   ]
  },
  {
   "cell_type": "markdown",
   "metadata": {},
   "source": [
    "### Dictionnaires d'arguments\n",
    "- Pour les fonctions avec beaucoup de paramètres\n",
    "- Stocker les valeurs dans un dictionnaire\n",
    "- Nommage des arguments => on peut choisir l'ordre\n",
    "- Passer la liste en argument précédée de `**`\n",
    "\n",
    "**Exemple :**\n",
    "```\n",
    "def print_arg_dict(a0, a1, a2, a3, a4):\n",
    "    print(a0)\n",
    "    print(a1)\n",
    "    print(a2)\n",
    "    print(a3)\n",
    "    print(a4)\n",
    "\n",
    "arg_dict = {\"a4\":4, \"a3\":3, \"a2\":2, \"a1\":1, \"a0\":0}\n",
    "print_arg_dict(**arg_dict)\n",
    "```"
   ]
  },
  {
   "cell_type": "markdown",
   "metadata": {},
   "source": [
    "### ==================== EXERCICE ====================\n",
    "1. Reprendre l'exemple précédent et l'exécuter\n",
    "2. Expérimenter avec\n",
    "\n",
    "### ==================== SOLUTION ==================="
   ]
  },
  {
   "cell_type": "markdown",
   "metadata": {},
   "source": [
    "### =============================================="
   ]
  },
  {
   "cell_type": "markdown",
   "metadata": {},
   "source": [
    "### Retourner des valeurs : `return`\n",
    "\n",
    "**Exemple :**\n",
    "```\n",
    "def test_return_single():\n",
    "    return 42\n",
    "\n",
    "print(test_return_single())\n",
    "```\n",
    "\n",
    "Il est possible de retourner plusieurs valeurs à la fois.\n",
    "\n",
    "**Exemple :**\n",
    "```\n",
    "def test_return_multiple():\n",
    "    return 40, 41, 42, 43, 44\n",
    "\n",
    "print(test_return_multiple())\n",
    "```\n"
   ]
  },
  {
   "cell_type": "markdown",
   "metadata": {},
   "source": [
    "### ==================== EXERCICE ====================\n",
    "1. Reprendre les exemples précédents et les exécuter\n",
    "2. Expérimenter avec\n",
    "3. Quel est le type retourner quand on retourne plusieurs valeurs ?\n",
    "\n",
    "### ==================== SOLUTION ==================="
   ]
  },
  {
   "cell_type": "markdown",
   "metadata": {},
   "source": [
    "### =============================================="
   ]
  },
  {
   "cell_type": "markdown",
   "metadata": {},
   "source": [
    "### Docstring\n",
    "\n",
    "**Exemple :**\n",
    "```\n",
    "def test_docstring():\n",
    "    \"\"\"\n",
    "    this is a nice comment about how the function works\n",
    "    \"\"\"\n",
    "    print(\"Wow! Amazing!\")\n",
    "\n",
    "print(\"CALL\")\n",
    "test_docstring()\n",
    "print(\"With help()\")\n",
    "help(test_docstring)\n",
    "print(\"With __doc__\")\n",
    "print(test_docstring.__doc__)\n",
    "print(\"With ?\")\n",
    "?test_docstring\n",
    "```\n"
   ]
  },
  {
   "cell_type": "markdown",
   "metadata": {},
   "source": [
    "### ==================== EXERCICE ====================\n",
    "1. Reprendre les exemples précédents et les exécuter\n",
    "2. Expérimenter avec\n",
    "\n",
    "### ==================== SOLUTION ==================="
   ]
  },
  {
   "cell_type": "markdown",
   "metadata": {},
   "source": [
    "### =============================================="
   ]
  }
 ],
 "metadata": {
  "kernelspec": {
   "display_name": "Python 3",
   "language": "python",
   "name": "python3"
  },
  "language_info": {
   "codemirror_mode": {
    "name": "ipython",
    "version": 3
   },
   "file_extension": ".py",
   "mimetype": "text/x-python",
   "name": "python",
   "nbconvert_exporter": "python",
   "pygments_lexer": "ipython3",
   "version": "3.8.5"
  }
 },
 "nbformat": 4,
 "nbformat_minor": 4
}
