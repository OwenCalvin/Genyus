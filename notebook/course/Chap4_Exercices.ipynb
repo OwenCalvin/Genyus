{
 "cells": [
  {
   "cell_type": "markdown",
   "metadata": {},
   "source": [
    "# Chapitre 4 : exercices"
   ]
  },
  {
   "cell_type": "markdown",
   "metadata": {},
   "source": [
    "## Exercice 4.1\n",
    "1. Écrire une fonction qui affiche la documentation des fonctions `abs()`, `bin()` et `hash()`.\n",
    "2. Rajouter un `docstring` à cette fonction et l'afficher."
   ]
  },
  {
   "cell_type": "markdown",
   "metadata": {},
   "source": [
    "## Exercice 4.2\n",
    "1. Écrire une fonction qui teste si un entier `i` est égal à un autre entier `j`, à `d` unités près.\n",
    "2. Modifier la fonction pour considérer que `d=0` par défaut\n",
    "\n",
    "**Exemple :** 42 est égale à 41, à 2 unités près."
   ]
  },
  {
   "cell_type": "markdown",
   "metadata": {},
   "source": [
    "## Exercice 4.3\n",
    "Écrire une fonction qui affiche si un entier est pair ou impair."
   ]
  },
  {
   "cell_type": "markdown",
   "metadata": {},
   "source": [
    "## Exercice 4.4\n",
    "1. Écrire une fonction (avec une boucle `for`) qui teste si un entier est contenu dans une liste.\n",
    "2. Réécrire cette fonction en utilisant l'opérateur `in` qui le fait automatiquement."
   ]
  },
  {
   "cell_type": "markdown",
   "metadata": {},
   "source": [
    "## Exercice 4.5\n",
    "1. Écrire une fonction qui prend une liste d'entiers compris entre 0 et 9 (inclus) en entrée, et qui retourne une liste de taille 10, contenant le nombre d'occurences de chaque chiffre.\n",
    "\n",
    "**Exemple :** \n",
    "\n",
    "entrée : `[1, 2, 2, 3, 3, 3]`\n",
    "\n",
    "sortie : `[0,1,2,3,0,0,0,0,0,0]`. Il y a 0 fois 0, 1 fois 1, 2 fois 2, 3 fois 3, 0 fois 4, 0 fois 5, etc.\n"
   ]
  },
  {
   "cell_type": "markdown",
   "metadata": {},
   "source": [
    "## Exercice 4.6\n",
    "1. Écrire une fonction qui prend 2 listes `words1` et `words2` contenant des mots en entrée, et qui retourne une liste contenant tous les mots de `words1` non présents dans `words2`."
   ]
  },
  {
   "cell_type": "markdown",
   "metadata": {},
   "source": [
    "## Exercice 4.7\n",
    "1. Écrire une fonction qui calcule la somme des entiers compris entre 2 entiers `n` et `m` en utilisant une boucle `while`.\n",
    "2. Réécrire la fonction précédente en utilisant la formule analytique de la somme des `n` premiers entiers.\n",
    "3. Réécrire la fonction précédente en utilisant les fonctions `range()` et `sum()`"
   ]
  },
  {
   "cell_type": "markdown",
   "metadata": {},
   "source": [
    "## Exercice 4.8\n",
    "1. Écrire une fonction qui vérifie si tous les entiers contenus dans une liste `list` sont strictement supérieurs à un entier `m` passé en entrée ou non."
   ]
  },
  {
   "cell_type": "markdown",
   "metadata": {},
   "source": [
    "## Exercice 4.9\n",
    "1. Écrire une fonction qui retourne le plus grand entier dans une liste d'entiers strictement positifs avec une boucle `for`.\n",
    "2. Réécrire la fonction précédente en utilisant la fonction `max(<list>)`."
   ]
  },
  {
   "cell_type": "markdown",
   "metadata": {},
   "source": [
    "## Exercice 4.10\n",
    "1. Écrire une fonction qui teste si une variable donnée en entrée est un tuple.\n",
    "2. Écrire une fonction qui teste si une variable donnée en entrée est une liste.\n",
    "3. Écrire une fonction qui teste si une variable donnée en entrée est un dictionnaire."
   ]
  }
 ],
 "metadata": {
  "kernelspec": {
   "display_name": "Python 3",
   "language": "python",
   "name": "python3"
  },
  "language_info": {
   "codemirror_mode": {
    "name": "ipython",
    "version": 3
   },
   "file_extension": ".py",
   "mimetype": "text/x-python",
   "name": "python",
   "nbconvert_exporter": "python",
   "pygments_lexer": "ipython3",
   "version": "3.8.5"
  }
 },
 "nbformat": 4,
 "nbformat_minor": 4
}
