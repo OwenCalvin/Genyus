{
 "cells": [
  {
   "cell_type": "markdown",
   "metadata": {},
   "source": [
    "# Chapitre 3 : exercices"
   ]
  },
  {
   "cell_type": "markdown",
   "metadata": {},
   "source": [
    "## Exercice 3.1\n",
    "Écrire un programme d'une seule ligne qui affiche le résultat suivant :\n",
    "```    \n",
    "Item1:\n",
    "        field1;\n",
    "        field2;\n",
    "        field3:\n",
    "                sub_field1;\n",
    "                sub_field2;\n",
    "Item2;    \n",
    "```\n",
    "\n",
    "Attention aux tabulations et aux retours à la ligne. Utiliser en particulier les caractères `\\n` et `\\t`."
   ]
  },
  {
   "cell_type": "markdown",
   "metadata": {},
   "source": [
    "## Exercice 3.2\n",
    "Écrire un programme qui stocke les couleurs des arcs-en-ciel dans une liste puis l'affiche à l'endroit, et à l'envers."
   ]
  },
  {
   "cell_type": "markdown",
   "metadata": {},
   "source": [
    "## Exercice 3.3\n",
    "Créer des tuples pour contenir les informations concernant les cours (numéro, titre, jour, nombre de périodes) de python (1 pour chaque jour). Afficher les tuples créés."
   ]
  },
  {
   "cell_type": "markdown",
   "metadata": {},
   "source": [
    "## Exercice 3.4\n",
    "Écrire un programme qui calcule (et affiche) le périmètre et l'aire d'un rectangle dont les paramètres `width` et `length` sont stockés dans des variables."
   ]
  },
  {
   "cell_type": "markdown",
   "metadata": {},
   "source": [
    "## Exercice 3.5\n",
    "Écrire un programme qui calcule (et affiche) la circonférence d'un cercle, l'aire d'un disque, la surface d'une sphere, et le volume d'une boule dont le rayon `radius` est stocké dans une variable."
   ]
  },
  {
   "cell_type": "markdown",
   "metadata": {},
   "source": [
    "## Exercice 3.6\n",
    "Écrire un programme qui calcule la **distance au carré** entre 2 points 3D représentés par des tuples. Afficher le résultat."
   ]
  },
  {
   "cell_type": "markdown",
   "metadata": {},
   "source": [
    "## Exercice 3.7\n",
    "Écrire un programme qui affiche le nombre d'occurences d'un entier (stocké dans une variable) dans une liste pré-créées."
   ]
  },
  {
   "cell_type": "markdown",
   "metadata": {},
   "source": [
    "## Exercice 3.7\n",
    "Écrire un programme pour concaténer toutes les chaînes de caractères contenues dans une liste pré-crée en les séparant par des `\" \"`. Afficher le résultat."
   ]
  },
  {
   "cell_type": "markdown",
   "metadata": {},
   "source": [
    "## Exercice 3.8\n",
    "Écrire un programme qui calcule les **intérêts composés** d'une somme de départ `Si`, d'un taux d'intérêt `tx` et d'un nombre d'années `nb_years`. Appliquer cette formule pour calculer les intérêts composés pour 100 CHF placés à 5% par an pendant 20 ans.\n",
    "\n",
    "**Rappel :**\n",
    "${Sum = S_{i}\\cdot (1 + tx)^{nb_{years}}}$"
   ]
  },
  {
   "cell_type": "markdown",
   "metadata": {},
   "source": [
    "## Exercice 3.9\n",
    "Écrire un programme qui calcule l'Indice de Masse Corporel (IMC) en fonction du poids (en Kg) et la taille (en mètre) :\n",
    "$IMC = P / {T^2}$"
   ]
  },
  {
   "cell_type": "markdown",
   "metadata": {},
   "source": [
    "## Exercice 3.10\n",
    "Écrire un programme qui échange les valeurs de 2 variables."
   ]
  },
  {
   "cell_type": "markdown",
   "metadata": {},
   "source": [
    "## Exercice 3.11\n",
    "Écrire un programme qui vérifie (et affiche) `True` si une variable est positive, et `False` sinon."
   ]
  },
  {
   "cell_type": "markdown",
   "metadata": {},
   "source": [
    "## Exercice 3.12\n",
    "Écrire un programme qui ne garde que les 5 éléments du milieu d'une liste de 15 entiers."
   ]
  },
  {
   "cell_type": "markdown",
   "metadata": {},
   "source": [
    "## Exercice 3.13\n",
    "1. Écrire un programme qui vérifie que 2 variables contenant la même chaîne de caractères ont en fait le même identifiant.\n",
    "2. Modifier ce programme pour construire les mêmes chaînes de caractères en concaténant `i` fois avec l'opèrateur `*`. Que se passe-t-il ? Pourquoi ?"
   ]
  },
  {
   "cell_type": "markdown",
   "metadata": {},
   "source": [
    "## Exercice 3.14\n",
    "Écrire un programme qui vérifie si une chaîne de caractères contient au moins 1 caractère en majuscule"
   ]
  }
 ],
 "metadata": {
  "kernelspec": {
   "display_name": "Python 3",
   "language": "python",
   "name": "python3"
  },
  "language_info": {
   "codemirror_mode": {
    "name": "ipython",
    "version": 3
   },
   "file_extension": ".py",
   "mimetype": "text/x-python",
   "name": "python",
   "nbconvert_exporter": "python",
   "pygments_lexer": "ipython3",
   "version": "3.8.5"
  }
 },
 "nbformat": 4,
 "nbformat_minor": 4
}
