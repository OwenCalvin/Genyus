{
 "cells": [
  {
   "cell_type": "markdown",
   "metadata": {},
   "source": [
    "# Chapitre 10 : visualisation de données (suite)\n",
    "\n",
    "## [Documentation Matplotlib](https://matplotlib.org/)\n",
    "\n",
    "## [Gallerie Matplotlib](https://matplotlib.org/stable/gallery/index.html)"
   ]
  },
  {
   "cell_type": "markdown",
   "metadata": {},
   "source": [
    "## Graphiques 3D\n",
    "**NOTE :** pour `Matplotlib` antérieur à `3.2.0`, il faut importer le module `Axes3D` en plus :\n",
    "```python\n",
    "import matplotlib.pyplot as plt\n",
    "from mpl_toolkit.mplot3d import Axes3D\n",
    "```\n",
    "### Utiliser la Programmation Orientée Objet de `Matplotlib`\n",
    "1. Créer une `figure`.\n",
    "2. Créer un object `axes` avec une projection `3d`.\n",
    "\n",
    "**Exemple :**\n",
    "```python\n",
    "import matplotlib.pyplot as plt\n",
    "import numpy as np\n",
    "\n",
    "# Create Figure\n",
    "fig = plt.figure(figsize=(20, 20))\n",
    "\n",
    "# Add a subplot\n",
    "ax = fig.add_subplot(1, 1, 1, projection='3d')\n",
    "\n",
    "# Display points\n",
    "X = np.random.randn(2000)\n",
    "Y = np.random.randn(2000)\n",
    "Z = 3*X + 4*Y\n",
    "ax.scatter(X,Y,Z)\n",
    "```"
   ]
  },
  {
   "cell_type": "markdown",
   "metadata": {},
   "source": [
    "### ==================== EXERCICE ====================\n",
    "1. Exécuter l'exemple donné précédemment.\n",
    "2. Expérimenter.\n",
    "\n",
    "### ==================== SOLUTION ==================="
   ]
  },
  {
   "cell_type": "markdown",
   "metadata": {},
   "source": [
    "### =============================================="
   ]
  },
  {
   "cell_type": "markdown",
   "metadata": {},
   "source": [
    "### Modifier tailles, couleurs, etc.\n",
    "#### Similaire aux graphiques 2D\n",
    "\n",
    "**Exemple :**\n",
    "\n",
    "```python\n",
    "import matplotlib.pyplot as plt\n",
    "import numpy as np\n",
    "\n",
    "# Create Figure\n",
    "fig = plt.figure(figsize=(20, 20))\n",
    "\n",
    "# Add a subplot\n",
    "ax = fig.add_subplot(1, 1, 1, projection='3d')\n",
    "\n",
    "# Display points\n",
    "X = np.random.randn(2000)\n",
    "Y = np.random.randn(2000)\n",
    "Z = 3*X + 4*Y\n",
    "\n",
    "C = Z\n",
    "S = Y*100\n",
    "ax.scatter(X,Y,Z, s=S, c=C, cmap=\"plasma\")\n",
    "\n",
    "ax.set_xlabel(\"X\")\n",
    "ax.set_xlabel(\"Y\")\n",
    "ax.set_xlabel(\"Z\")              \n",
    "```"
   ]
  },
  {
   "cell_type": "markdown",
   "metadata": {},
   "source": [
    "### ==================== EXERCICE ====================\n",
    "1. Exécuter l'exemple donné précédemment.\n",
    "2. Expérimenter avec les autres paramètres pour les graphiques 2D.\n",
    "\n",
    "### ==================== SOLUTION ==================="
   ]
  },
  {
   "cell_type": "markdown",
   "metadata": {},
   "source": [
    "### =============================================="
   ]
  },
  {
   "cell_type": "markdown",
   "metadata": {},
   "source": [
    "## Plusieurs `plot()` par graphique 3D\n",
    "\n",
    "**Exemple :**\n",
    "```python\n",
    "import matplotlib.pyplot as plt\n",
    "import numpy as np\n",
    "\n",
    "# Generate values\n",
    "X = np.random.randn(2000)\n",
    "Y = np.random.randn(2000)\n",
    "Z = 3*X + 4*Y\n",
    "C = Z\n",
    "S = Y*100\n",
    "\n",
    "# Create Figure\n",
    "fig = plt.figure(figsize=(40,40))\n",
    "\n",
    "# Add a subplot\n",
    "ax = fig.add_subplot(2, 2, 1, projection='3d')\n",
    "ax.scatter(X,Y,Z, s=S, c=C)\n",
    "ax.set_xlabel(\"X\")\n",
    "ax.set_xlabel(\"Y\")\n",
    "ax.set_xlabel(\"Z\")\n",
    "\n",
    "# Add a subplot\n",
    "ax = fig.add_subplot(2, 2, 2, projection='3d')\n",
    "ax.scatter(X,Y,Z, s=S, c=C, cmap=\"plasma\")\n",
    "ax.set_xlabel(\"X\")\n",
    "ax.set_xlabel(\"Y\")\n",
    "ax.set_xlabel(\"Z\")\n",
    "\n",
    "# Add a subplot\n",
    "ax = fig.add_subplot(2, 2, 3, projection='3d')\n",
    "ax.scatter(X,Y,Z, s=S, c=C, cmap=\"Greens\")\n",
    "ax.set_xlabel(\"X\")\n",
    "ax.set_xlabel(\"Y\")\n",
    "ax.set_xlabel(\"Z\")\n",
    "\n",
    "# Add a subplot\n",
    "ax = fig.add_subplot(2, 2, 4, projection='3d')\n",
    "ax.scatter(X,Y,Z, s=S, c=C, cmap=\"Blues_r\")\n",
    "ax.set_xlabel(\"X\")\n",
    "ax.set_xlabel(\"Y\")\n",
    "ax.set_xlabel(\"Z\")\n",
    "```"
   ]
  },
  {
   "cell_type": "markdown",
   "metadata": {},
   "source": [
    "### ==================== EXERCICE ====================\n",
    "1. Exécuter l'exemple précédent.\n",
    "2. Expérimenter.\n",
    "\n",
    "### ==================== SOLUTION ==================="
   ]
  },
  {
   "cell_type": "markdown",
   "metadata": {},
   "source": [
    "### =============================================="
   ]
  },
  {
   "cell_type": "markdown",
   "metadata": {},
   "source": [
    "## Les cartes avec [`Cartopy`](https://scitools.org.uk/cartopy/docs/latest/index.html)\n",
    "\n",
    "### Installer le package `Cartopy`\n",
    "\n",
    "### Choisir la projection\n",
    "Voir la **[liste des projections disponibles](https://scitools.org.uk/cartopy/docs/latest/crs/projections.html)**\n",
    "\n",
    "### Afficher les côtes\n",
    "\n",
    "### Afficher le fond de carte\n",
    "\n",
    "**Exemple :**\n",
    "```python\n",
    "import matplotlib.pyplot as plt\n",
    "import cartopy.crs as ccrs\n",
    "\n",
    "fig = plt.figure(figsize=(20,20))\n",
    "\n",
    "#proj = projection=ccrs.Mollweide()\n",
    "proj = projection=ccrs.PlateCarree()\n",
    "\n",
    "ax = plt.axes(projection=proj)\n",
    "\n",
    "ax.coastlines()\n",
    "\n",
    "ax.stock_img()\n",
    "```"
   ]
  },
  {
   "cell_type": "markdown",
   "metadata": {},
   "source": [
    "### ==================== EXERCICE ====================\n",
    "1. Exécuter l'exemple précédent.\n",
    "2. Expérimenter.\n",
    "3. Tester plusieurs projections.\n",
    "\n",
    "### ==================== SOLUTION ==================="
   ]
  },
  {
   "cell_type": "markdown",
   "metadata": {},
   "source": [
    "### =============================================="
   ]
  },
  {
   "cell_type": "markdown",
   "metadata": {},
   "source": [
    "## Afficher des points et des lignes\n",
    "\n",
    "**Exemple :**\n",
    "```python\n",
    "import matplotlib.pyplot as plt\n",
    "import cartopy.crs as ccrs\n",
    "\n",
    "fig = plt.figure(figsize=(20,20))\n",
    "\n",
    "proj = projection=ccrs.Mollweide()\n",
    "#proj = projection=ccrs.PlateCarree()\n",
    "\n",
    "ax = plt.axes(projection=proj)\n",
    "\n",
    "ax.coastlines()\n",
    "\n",
    "ax.stock_img()\n",
    "\n",
    "longitudes = [6.93, -122.43]\n",
    "latitudes = [46.99, 37.77]\n",
    "\n",
    "plt.plot(longitudes, latitudes, color='blue', linewidth=3, marker=\"o\", linestyle=\"--\", transform=ccrs.Geodetic())\n",
    "plt.plot(longitudes, latitudes, color='red', linewidth=2, marker=\"o\", transform=ccrs.PlateCarree())\n",
    "```"
   ]
  },
  {
   "cell_type": "markdown",
   "metadata": {},
   "source": [
    "### ==================== EXERCICE ====================\n",
    "1. Exécuter l'exemple précédent.\n",
    "2. Expérimenter.\n",
    "3. Tester plusieurs projections.\n",
    "\n",
    "### ==================== SOLUTION ==================="
   ]
  },
  {
   "cell_type": "markdown",
   "metadata": {},
   "source": [
    "### =============================================="
   ]
  },
  {
   "cell_type": "markdown",
   "metadata": {},
   "source": [
    "## Afficher du texte\n",
    "\n",
    "**Exemple :**\n",
    "```python\n",
    "import matplotlib.pyplot as plt\n",
    "import cartopy.crs as ccrs\n",
    "\n",
    "fig = plt.figure(figsize=(20,20))\n",
    "\n",
    "proj = projection=ccrs.Mollweide()\n",
    "#proj = projection=ccrs.PlateCarree()\n",
    "\n",
    "ax = plt.axes(projection=proj)\n",
    "\n",
    "ax.coastlines()\n",
    "\n",
    "ax.stock_img()\n",
    "\n",
    "longitudes = [6.93, -122.43]\n",
    "latitudes = [46.99, 37.77]\n",
    "\n",
    "plt.plot(longitudes, latitudes, color='blue', linewidth=3, marker=\"o\", linestyle=\"--\", transform=ccrs.Geodetic())\n",
    "plt.plot(longitudes, latitudes, color='red', linewidth=2, marker=\"o\", transform=ccrs.PlateCarree())\n",
    "\n",
    "plt.text(longitudes[0]-3, latitudes[0] - 12, 'Neuchâtel', horizontalalignment='right', transform=ccrs.Geodetic(), fontsize=20)\n",
    "plt.text(longitudes[1]-3, latitudes[1] - 12, 'San Francisco', horizontalalignment='left', transform=ccrs.Geodetic(), fontsize=16)\n",
    "```"
   ]
  },
  {
   "cell_type": "markdown",
   "metadata": {},
   "source": [
    "### ==================== EXERCICE ====================\n",
    "1. Exécuter l'exemple précédent.\n",
    "2. Expérimenter.\n",
    "\n",
    "### ==================== SOLUTION ==================="
   ]
  },
  {
   "cell_type": "markdown",
   "metadata": {},
   "source": [
    "### =============================================="
   ]
  }
 ],
 "metadata": {
  "kernelspec": {
   "display_name": "Python 3",
   "language": "python",
   "name": "python3"
  },
  "language_info": {
   "codemirror_mode": {
    "name": "ipython",
    "version": 3
   },
   "file_extension": ".py",
   "mimetype": "text/x-python",
   "name": "python",
   "nbconvert_exporter": "python",
   "pygments_lexer": "ipython3",
   "version": "3.8.5"
  }
 },
 "nbformat": 4,
 "nbformat_minor": 4
}
