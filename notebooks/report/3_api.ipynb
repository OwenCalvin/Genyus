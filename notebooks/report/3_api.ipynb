{
 "metadata": {
  "language_info": {
   "codemirror_mode": {
    "name": "ipython",
    "version": 3
   },
   "file_extension": ".py",
   "mimetype": "text/x-python",
   "name": "python",
   "nbconvert_exporter": "python",
   "pygments_lexer": "ipython3",
   "version": "3.9.4"
  },
  "orig_nbformat": 2,
  "kernelspec": {
   "name": "python394jvsc74a57bd0aee8b7b246df8f9039afb4144a1f6fd8d2ca17a180786b69acc140d282b71a49",
   "display_name": "Python 3.9.4 64-bit"
  },
  "metadata": {
   "interpreter": {
    "hash": "aee8b7b246df8f9039afb4144a1f6fd8d2ca17a180786b69acc140d282b71a49"
   }
  }
 },
 "nbformat": 4,
 "nbformat_minor": 2,
 "cells": [
  {
   "source": [
    "# Récupération des informations des musiques"
   ],
   "cell_type": "markdown",
   "metadata": {}
  },
  {
   "source": [
    "## Documentation\n",
    "La documentation de l'API Genius se trouve [ici](https://docs.genius.com/)"
   ],
   "cell_type": "markdown",
   "metadata": {}
  },
  {
   "source": [
    "## Paquets utilisés"
   ],
   "cell_type": "markdown",
   "metadata": {}
  },
  {
   "cell_type": "code",
   "execution_count": 1,
   "metadata": {},
   "outputs": [],
   "source": [
    "import json\n",
    "import requests\n",
    "import time\n",
    "import re\n",
    "import pandas as pd\n",
    "from datetime import datetime\n",
    "from typing import List, Any\n",
    "from rauth import OAuth2Service\n",
    "from bs4 import BeautifulSoup, PageElement\n",
    "from IPython.display import clear_output"
   ]
  },
  {
   "source": [
    "## Classe pour la manipulation de l'API"
   ],
   "cell_type": "markdown",
   "metadata": {}
  },
  {
   "cell_type": "code",
   "execution_count": 2,
   "metadata": {},
   "outputs": [],
   "source": [
    "class API:\n",
    "    \"\"\"\n",
    "    Simplify the requests to the Genius API\n",
    "    \"\"\"\n",
    "    genius: Any\n",
    "    session: Any\n",
    "\n",
    "    def __init__(\n",
    "        self,\n",
    "        client_id: str,\n",
    "        client_secret: str,\n",
    "        authorize_url: str,\n",
    "        base_url: str,\n",
    "        token: str,\n",
    "    ):\n",
    "        \"\"\"\n",
    "        Initialize the Genius API session\n",
    "        \"\"\"\n",
    "        self.genius = OAuth2Service(\n",
    "            client_id=client_id,\n",
    "            client_secret=client_secret,\n",
    "            authorize_url=authorize_url,\n",
    "            base_url=base_url\n",
    "        )\n",
    "\n",
    "        self.session = self.genius.get_session(\n",
    "            token=token\n",
    "        )\n",
    "\n",
    "    def get_lyrics(\n",
    "        self,\n",
    "        url: str,\n",
    "        retry: bool = False,\n",
    "        wait_retry: int = 30,\n",
    "        wait: int = 0\n",
    "    ) -> dict:\n",
    "        \"\"\"\n",
    "        Get the lyrics from the Genius website\n",
    "\n",
    "        Parameters:\n",
    "            url (str): The lyrics page URL\n",
    "            retry (bool): Retry the request if it fails (default False)\n",
    "            wait_retry (int): Wait x seconds before retrying (default 30)\n",
    "            wait (int): Wait x seconds before returning the result (default 0)\n",
    "\n",
    "        Returns:\n",
    "            lyrics (str or None): The lyrics of the song\n",
    "        \"\"\"\n",
    "\n",
    "        htmlRes = requests.get(url).text\n",
    "\n",
    "        html = BeautifulSoup(htmlRes, 'html.parser')\n",
    "\n",
    "        # Find the correct lyrics div in the html file\n",
    "        lyricsDiv: PageElement = html.find(\"div\", class_=\"lyrics\")\n",
    "        if lyricsDiv == None:\n",
    "            lyricsDiv = html.find(\"div\", class_=\"Lyrics__Root-sc-1ynbvzw-0\")\n",
    "\n",
    "        if lyricsDiv != None:\n",
    "            for br in lyricsDiv.find_all(\"br\"):\n",
    "                br.replace_with(\"\\n\")\n",
    "\n",
    "            lyrics: str = lyricsDiv.get_text()\n",
    "\n",
    "            lyrics = re.sub(r\"\\n\", \" \", lyrics)\n",
    "            lyrics = re.sub(r\"\\s{2,}\", \" \", lyrics)\n",
    "            lyrics = lyrics.strip()\n",
    "\n",
    "            time.sleep(wait)\n",
    "\n",
    "            return lyrics\n",
    "\n",
    "        elif retry:\n",
    "            # Retry if it failed\n",
    "            print(f\"Cannot scrap lyrics... waiting {wait_retry} secondes\")\n",
    "            time.sleep(wait_retry)\n",
    "            return self.get_lyrics(url, retry, wait_retry, wait)\n",
    "\n",
    "        return None\n",
    "\n",
    "    def get_song(\n",
    "        self,\n",
    "        id: int,\n",
    "        with_lyrics: bool = False,\n",
    "        retry: bool = False,\n",
    "        wait_retry: int = 30,\n",
    "        wait: int = 0\n",
    "    ) -> dict:\n",
    "        \"\"\"\n",
    "        Get a song from the Genius API and parse it into objects (selecting only interesting fields)\n",
    "\n",
    "        Parameters:\n",
    "            id (int): The song's ID\n",
    "            with_lyrics (bool): Get the song with it's lyrics (default False)\n",
    "            retry (bool): Retry the request if the getting lyrics method failed (default False)\n",
    "            wait_retry (int): Wait x seconds if the getting lyrics method failed (default 30)\n",
    "            wait (int): Wait x seconds after the lyrics method (default 0)\n",
    "\n",
    "        Returns:\n",
    "            lyrics (dict): The song\n",
    "        \"\"\"\n",
    "\n",
    "        res = self.session.get(f\"songs/{id}?text_format=plain\").json()\n",
    "        url = res['response']['song']['url']\n",
    "        lyrics = \"\"\n",
    "\n",
    "        album: dict = None\n",
    "\n",
    "        if res['response']['song']['album']:\n",
    "            album = {\n",
    "                \"name\": res['response']['song']['album']['name'],\n",
    "                \"id\": res['response']['song']['album']['id']\n",
    "            }            \n",
    "\n",
    "        artist = {\n",
    "            \"name\": res['response']['song']['primary_artist']['name'],\n",
    "            \"id\": res['response']['song']['primary_artist']['id'],\n",
    "            \"url\": res['response']['song']['primary_artist']['url'],\n",
    "            \"image\": res['response']['song']['primary_artist']['image_url']\n",
    "        }\n",
    "\n",
    "        song = {\n",
    "            \"id\": res['response']['song']['id'],\n",
    "            \"name\": res['response']['song']['title'],\n",
    "            \"album\": album,\n",
    "            \"artist\": artist,\n",
    "            \"image\": res['response']['song']['header_image_url'],\n",
    "            \"url\": url,\n",
    "            \"original_lyrics\": lyrics,\n",
    "            \"date\": datetime.strptime(\n",
    "                res['response']['song']['release_date'] or \"1900-01-01\", \"%Y-%m-%d\").isoformat()\n",
    "        }\n",
    "\n",
    "        if with_lyrics:\n",
    "            lyrics = self.get_lyrics(url, retry, wait_retry, wait)\n",
    "\n",
    "        if lyrics != None:\n",
    "            song[\"original_lyrics\"] = lyrics\n",
    "\n",
    "        return song\n",
    "\n",
    "    def search(self, query: str) -> List[dict]:\n",
    "        \"\"\"\n",
    "        Search for an album, artist, song in the Genius API\n",
    "\n",
    "        Parameters:\n",
    "            query (str): The search query\n",
    "\n",
    "        Returns:\n",
    "            Results (List[dict]): The provided results\n",
    "        \"\"\"\n",
    "\n",
    "        search = self.session.get(f\"search?q={query}\").json()\n",
    "        hits = search['response']['hits']\n",
    "        results: List[dict] = []\n",
    "\n",
    "        for hit in hits:\n",
    "            hitResult = hit['result']\n",
    "\n",
    "            artist = {\n",
    "                \"name\": hitResult['primary_artist']['name'],\n",
    "                \"id\": hitResult['primary_artist']['id'],\n",
    "                \"image\": hitResult['primary_artist']['image_url'],\n",
    "                \"url\": hitResult['primary_artist']['url']\n",
    "            }\n",
    "\n",
    "            search = {\n",
    "                \"title\": hitResult['title'],\n",
    "                \"url\": hitResult['url'],\n",
    "                \"artist\": artist,\n",
    "                \"id\": hitResult['id']\n",
    "            }\n",
    "\n",
    "            results.append(search)\n",
    "\n",
    "        return results\n",
    "\n",
    "    def print_json(content: str):\n",
    "        print(json.dumps(content, indent=2, sort_keys=True))"
   ]
  },
  {
   "source": [
    "# Authentification à l'API"
   ],
   "cell_type": "markdown",
   "metadata": {}
  },
  {
   "cell_type": "code",
   "execution_count": 3,
   "metadata": {},
   "outputs": [],
   "source": [
    "# Pour la démonstration on a volontairement laissé les tokens d'accès en clair\n",
    "api = API(\n",
    "    client_id=\"xAP0jvOkLrC3eAjwE4iCeY5BdSrgH7qKUQyh8907-2fGiAGYEHJMNhtFglSLznAq\",\n",
    "    client_secret=\"WIVq7t1Jq5uaN0OkYCPzhVMr4mt_d-ufoq5fSC6qmyUaxodx5kZ4bS56J87C-LXGRqeeXp9nFpjgrgPtZ_8niA\",\n",
    "    authorize_url=\"https://api.genius.com/oauth/authorize\",\n",
    "    base_url=\"https://api.genius.com/\",\n",
    "    token=\"qfhBonIalyiGK0DcsHmg3-heXf485c1dSV-gOM3ZU4Wn3eD-6-pKjESnhYg4kJ1y\"\n",
    ")"
   ]
  },
  {
   "source": [
    "# Récupération d'une musique avec l'API Genius"
   ],
   "cell_type": "markdown",
   "metadata": {}
  },
  {
   "cell_type": "code",
   "execution_count": 4,
   "metadata": {
    "tags": []
   },
   "outputs": [
    {
     "output_type": "stream",
     "name": "stdout",
     "text": [
      "{\n  \"album\": {\n    \"id\": 360842,\n    \"name\": \"Purple Haze (Advance)\"\n  },\n  \"artist\": {\n    \"id\": 1,\n    \"image\": \"https://images.genius.com/923801a14122014b9991a84a820f061c.420x420x1.png\",\n    \"name\": \"Cam\\u2019ron\",\n    \"url\": \"https://genius.com/artists/Camron\"\n  },\n  \"date\": \"2004-12-07T00:00:00\",\n  \"id\": 1,\n  \"image\": \"https://images.rapgenius.com/bf520db552b4637bd9a8bbd072d9d290.316x314x1.jpg\",\n  \"name\": \"Killa Cam\",\n  \"original_lyrics\": \"\",\n  \"url\": \"https://genius.com/Camron-killa-cam-lyrics\"\n}\n"
     ]
    }
   ],
   "source": [
    "song = api.get_song(1)\n",
    "API.print_json(song)"
   ]
  },
  {
   "source": [
    "# Recherche d'une musique avec l'API Genius"
   ],
   "cell_type": "markdown",
   "metadata": {}
  },
  {
   "cell_type": "code",
   "execution_count": 5,
   "metadata": {
    "tags": []
   },
   "outputs": [
    {
     "output_type": "stream",
     "name": "stdout",
     "text": [
      "[\n  {\n    \"artist\": {\n      \"id\": 45855,\n      \"image\": \"https://images.genius.com/57aa49f445bb856c82f4a8e6e5bffe55.1000x1000x1.jpg\",\n      \"name\": \"Damso\",\n      \"url\": \"https://genius.com/artists/Damso\"\n    },\n    \"id\": 3756041,\n    \"title\": \"Feu de bois\",\n    \"url\": \"https://genius.com/Damso-feu-de-bois-lyrics\"\n  },\n  {\n    \"artist\": {\n      \"id\": 45855,\n      \"image\": \"https://images.genius.com/57aa49f445bb856c82f4a8e6e5bffe55.1000x1000x1.jpg\",\n      \"name\": \"Damso\",\n      \"url\": \"https://genius.com/artists/Damso\"\n    },\n    \"id\": 2685480,\n    \"title\": \"Amn\\u00e9sie\",\n    \"url\": \"https://genius.com/Damso-amnesie-lyrics\"\n  },\n  {\n    \"artist\": {\n      \"id\": 45855,\n      \"image\": \"https://images.genius.com/57aa49f445bb856c82f4a8e6e5bffe55.1000x1000x1.jpg\",\n      \"name\": \"Damso\",\n      \"url\": \"https://genius.com/artists/Damso\"\n    },\n    \"id\": 3038927,\n    \"title\": \"\\u0393. Mosa\\u00efque solitaire\",\n    \"url\": \"https://genius.com/Damso-mosaique-solitaire-lyrics\"\n  },\n  {\n    \"artist\": {\n      \"id\": 45855,\n      \"image\": \"https://images.genius.com/57aa49f445bb856c82f4a8e6e5bffe55.1000x1000x1.jpg\",\n      \"name\": \"Damso\",\n      \"url\": \"https://genius.com/artists/Damso\"\n    },\n    \"id\": 3041048,\n    \"title\": \"\\u0398. Macarena\",\n    \"url\": \"https://genius.com/Damso-macarena-lyrics\"\n  },\n  {\n    \"artist\": {\n      \"id\": 45855,\n      \"image\": \"https://images.genius.com/57aa49f445bb856c82f4a8e6e5bffe55.1000x1000x1.jpg\",\n      \"name\": \"Damso\",\n      \"url\": \"https://genius.com/artists/Damso\"\n    },\n    \"id\": 3042955,\n    \"title\": \"N. J Respect R\",\n    \"url\": \"https://genius.com/Damso-n-j-respect-r-lyrics\"\n  },\n  {\n    \"artist\": {\n      \"id\": 45855,\n      \"image\": \"https://images.genius.com/57aa49f445bb856c82f4a8e6e5bffe55.1000x1000x1.jpg\",\n      \"name\": \"Damso\",\n      \"url\": \"https://genius.com/artists/Damso\"\n    },\n    \"id\": 3039687,\n    \"title\": \"\\u0395. Signaler\",\n    \"url\": \"https://genius.com/Damso-signaler-lyrics\"\n  },\n  {\n    \"artist\": {\n      \"id\": 45855,\n      \"image\": \"https://images.genius.com/57aa49f445bb856c82f4a8e6e5bffe55.1000x1000x1.jpg\",\n      \"name\": \"Damso\",\n      \"url\": \"https://genius.com/artists/Damso\"\n    },\n    \"id\": 2462870,\n    \"title\": \"Autotune\",\n    \"url\": \"https://genius.com/Damso-autotune-lyrics\"\n  },\n  {\n    \"artist\": {\n      \"id\": 45855,\n      \"image\": \"https://images.genius.com/57aa49f445bb856c82f4a8e6e5bffe55.1000x1000x1.jpg\",\n      \"name\": \"Damso\",\n      \"url\": \"https://genius.com/artists/Damso\"\n    },\n    \"id\": 3039913,\n    \"title\": \"\\u0396. Kietu\",\n    \"url\": \"https://genius.com/Damso-kietu-lyrics\"\n  },\n  {\n    \"artist\": {\n      \"id\": 45855,\n      \"image\": \"https://images.genius.com/57aa49f445bb856c82f4a8e6e5bffe55.1000x1000x1.jpg\",\n      \"name\": \"Damso\",\n      \"url\": \"https://genius.com/artists/Damso\"\n    },\n    \"id\": 3038921,\n    \"title\": \"\\u0391. Nwaar Is The New Black\",\n    \"url\": \"https://genius.com/Damso-nwaar-is-the-new-black-lyrics\"\n  },\n  {\n    \"artist\": {\n      \"id\": 45855,\n      \"image\": \"https://images.genius.com/57aa49f445bb856c82f4a8e6e5bffe55.1000x1000x1.jpg\",\n      \"name\": \"Damso\",\n      \"url\": \"https://genius.com/artists/Damso\"\n    },\n    \"id\": 3673288,\n    \"title\": \"Ips\\u00e9it\\u00e9\",\n    \"url\": \"https://genius.com/Damso-ipseite-lyrics\"\n  }\n]\n"
     ]
    }
   ],
   "source": [
    "results = api.search(\"damso\")\n",
    "API.print_json(results)"
   ]
  },
  {
   "source": [
    "## Récupération des paroles d'une musique"
   ],
   "cell_type": "markdown",
   "metadata": {}
  },
  {
   "cell_type": "code",
   "execution_count": 6,
   "metadata": {},
   "outputs": [
    {
     "output_type": "stream",
     "name": "stdout",
     "text": [
      "[Chorus: Opera Steve & Cam'ron] Killa Cam, Killa Cam, Cam Killa Cam, Killa Cam Killa Cam, Cam Killa Cam, Killa Cam, Cam Killa Killa Killa Cam Killa Cam, Cam, Killa (Killa!) Killa Cam, Killa Cam, Cam (Bases loaded) Killa Cam, Killa Cam (Uh-huh) Killa Cam, Cam (Santana on second, Jim on third) Killa Cam, Killa Cam, Cam (I'm at bat) Killa Killa Killa Cam Killa Cam, Cam, Killa (I'm 'bout to hit this shit out the world) Killa Cam (Ugh, Heatmakerz), Killa Cam, Cam Killa Cam, Killa Cam Killa Cam, Cam (Hahahaha) Killa Cam, Killa Cam, Cam Killa Killa Killa Cam Killa Cam, Cam, Killa (Clap) Killa Cam, Killa Cam, Cam Killa Cam, Killa Cam Killa Cam, Cam Killa Cam, Killa Cam, Cam Killa Killa Killa Cam (Killa! Killa!) Killa Cam, Cam, Killa [Verse 1] With the goons I spar, stay in tune with ma (What up?) She like, \"Damn, this the realest since 'Kumbaya'\" Bomaye, Killa Cam, my Lord (My Lord) Still the man with the pan, scrilla, fam, on board Now bitches, they want to neuter me, niggas, they want to tutor me The hooligan in Houlihan's, maneuvering's nothing new to me Doggy, I'm from the land of grind, pan-pan: gram or dime? Not toes or MC when I say \"hammer time\" Beef: I hammer mine, when I get my hands on nines If I had on 'Bama line, Corduroys, Cam'll shine Canary burgundy: I call it \"Lemon Red\" (Red) Yellow diamonds in my ear, call 'em \"Lemonheads\" Lemonhead, end up dead, ice like Winnipeg Gemstone, Flintstones, you could say I'm friends with Fred You unhappy, scrappy? (What's going on, Scrappy?) I got Pataki at me Bitches say I'm \"Tacky Daddy,\" Range look like Laffy Taffy [Chorus] Killa Cam Killa Cam Cam (sing) Killa Cam Killa Cam Killa Cam Cam (uhh, it's me, clap) Killa Cam Killa Cam Cam Killa Killa Killa Cam (sing) Killa Cam Cam Killa (uhh, it's me, clap) Killa Cam Killa Cam Cam (sing) Killa Cam Killa Cam Killa Cam Cam (clap, it's me) Killa Cam Killa Cam Cam Killa Killa Killa Cam (clap) (Harlem, I know y'all know about this) Killa Cam Cam Killa (Killa!) [Verse 2] Yo, I'm from where Nicky Barnes got rich as fuck Rich and A hit the kitchens then were pitchin' up Rob Base, Mase, Doug E Fresh switched it up I do both, who am I to fuck tradition up? (Killa!) So I parked in a tow-away zone Chrome...I don't care That car a throwaway, homes (Killa!) Welcome to Harlem, where you welcome to problems Off of furlough, fellow felons get pardons Them niggas knew we bang Stood out like Pootie Tang Soon as the stoolie sings That when the toolie sing! Bang! Bang! Came from that movie ring Snap, crack jewelry bling Flapjack, ooh he bring Clack-clack, \"ooh he ring!\" Bad rap, cuties cling Ass cap, put them in the river I'm the sushi king And I'ma keep ya fresh Let the fish eat ya flesh Yes sir, please confess Just say he's the best (Killa!) [Chorus] Killa Cam (sing) Killa Cam Cam (clap) Killa Cam Killa Cam (yes) Killa Cam Cam (it's me, sing) Killa Cam Killa Cam Cam (sing) Killa Killa Killa Cam Killa Cam Cam Killa (clap, yes sir, uhh) Killa Cam Killa Cam Cam (sing, clap) Killa Cam Killa Cam Killa Cam Cam (it's me) Killa Cam (sing, clap) Killa Cam Cam Killa Killa Killa Cam (Let me end this shit, listen) Killa Cam Cam Killa [Verse 3] (Killa!) Yo How dope is this? Teach you how to rope a chick What you want: coke or piff? Got it all, smoke or sniff? (everything) And you know my drift Used to figures, dough and shit (millions) You a rooster nigga, just a roaster, bitch And I roast ya bitch That's how it usually ends Tell her and her groupie friends Go get their coochie cleansed We the moody Gucci, Louis and Pucci men Escada, Prada The chopper it got the Uzi lens Bird's-eye view The birds I knew flip birds Bird gangs, it was birds I flew And word I blew off herb I grew I would serve on stoops Now swerve in coupes It's me, sing! Killa, uhh [Chorus] Killa Cam Killa Cam Cam Killa Cam Killa Cam Killa Cam Cam Killa Cam Killa Cam Cam Killa Killa Killa Cam Killa Cam Cam Killa Killa Cam Killa Cam Cam Killa Cam Killa Cam Killa Cam Cam Killa Cam Killa Cam Cam Killa Killa Killa Cam Killa Cam Cam Killa\n"
     ]
    }
   ],
   "source": [
    "lyrics = api.get_lyrics(song[\"url\"])\n",
    "print(lyrics)"
   ]
  },
  {
   "source": [
    "## Scraping des données"
   ],
   "cell_type": "markdown",
   "metadata": {}
  },
  {
   "source": [
    "### Récupération de toutes les musiques d'un fichier"
   ],
   "cell_type": "markdown",
   "metadata": {}
  },
  {
   "cell_type": "code",
   "execution_count": 7,
   "metadata": {
    "tags": []
   },
   "outputs": [
    {
     "output_type": "stream",
     "name": "stdout",
     "text": [
      "0.08%     Médine - Grand Paris\n",
      "0.16%     Dabs - Ouloulou\n",
      "0.24%     Vald - Bonjour\n",
      "0.33%     Damso - Ι. Peur d’être père\n",
      "0.41%     Djadja & Dinaz - J’fais mes affaires\n"
     ]
    },
    {
     "output_type": "error",
     "ename": "KeyboardInterrupt",
     "evalue": "",
     "traceback": [
      "\u001b[0;31m---------------------------------------------------------------------------\u001b[0m",
      "\u001b[0;31mKeyboardInterrupt\u001b[0m                         Traceback (most recent call last)",
      "\u001b[0;32m<ipython-input-7-39774cc2921e>\u001b[0m in \u001b[0;36m<module>\u001b[0;34m\u001b[0m\n\u001b[1;32m     10\u001b[0m \u001b[0;34m\u001b[0m\u001b[0m\n\u001b[1;32m     11\u001b[0m         \u001b[0;32mif\u001b[0m \u001b[0mlen\u001b[0m\u001b[0;34m(\u001b[0m\u001b[0mresults\u001b[0m\u001b[0;34m)\u001b[0m \u001b[0;34m>\u001b[0m \u001b[0;36m0\u001b[0m\u001b[0;34m:\u001b[0m\u001b[0;34m\u001b[0m\u001b[0;34m\u001b[0m\u001b[0m\n\u001b[0;32m---> 12\u001b[0;31m             \u001b[0msong\u001b[0m \u001b[0;34m=\u001b[0m \u001b[0mapi\u001b[0m\u001b[0;34m.\u001b[0m\u001b[0mget_song\u001b[0m\u001b[0;34m(\u001b[0m\u001b[0mresults\u001b[0m\u001b[0;34m[\u001b[0m\u001b[0;36m0\u001b[0m\u001b[0;34m]\u001b[0m\u001b[0;34m[\u001b[0m\u001b[0;34m\"id\"\u001b[0m\u001b[0;34m]\u001b[0m\u001b[0;34m,\u001b[0m \u001b[0;32mTrue\u001b[0m\u001b[0;34m,\u001b[0m \u001b[0;32mTrue\u001b[0m\u001b[0;34m,\u001b[0m \u001b[0;36m0\u001b[0m\u001b[0;34m,\u001b[0m \u001b[0;36m0\u001b[0m\u001b[0;34m)\u001b[0m\u001b[0;34m\u001b[0m\u001b[0;34m\u001b[0m\u001b[0m\n\u001b[0m\u001b[1;32m     13\u001b[0m             \u001b[0msongs\u001b[0m\u001b[0;34m.\u001b[0m\u001b[0mappend\u001b[0m\u001b[0;34m(\u001b[0m\u001b[0msong\u001b[0m\u001b[0;34m)\u001b[0m\u001b[0;34m\u001b[0m\u001b[0;34m\u001b[0m\u001b[0m\n\u001b[1;32m     14\u001b[0m \u001b[0;34m\u001b[0m\u001b[0m\n",
      "\u001b[0;32m<ipython-input-2-6aa57d8e4c9b>\u001b[0m in \u001b[0;36mget_song\u001b[0;34m(self, id, with_lyrics, retry, wait_retry, wait)\u001b[0m\n\u001b[1;32m    133\u001b[0m \u001b[0;34m\u001b[0m\u001b[0m\n\u001b[1;32m    134\u001b[0m         \u001b[0;32mif\u001b[0m \u001b[0mwith_lyrics\u001b[0m\u001b[0;34m:\u001b[0m\u001b[0;34m\u001b[0m\u001b[0;34m\u001b[0m\u001b[0m\n\u001b[0;32m--> 135\u001b[0;31m             \u001b[0mlyrics\u001b[0m \u001b[0;34m=\u001b[0m \u001b[0mself\u001b[0m\u001b[0;34m.\u001b[0m\u001b[0mget_lyrics\u001b[0m\u001b[0;34m(\u001b[0m\u001b[0murl\u001b[0m\u001b[0;34m,\u001b[0m \u001b[0mretry\u001b[0m\u001b[0;34m,\u001b[0m \u001b[0mwait_retry\u001b[0m\u001b[0;34m,\u001b[0m \u001b[0mwait\u001b[0m\u001b[0;34m)\u001b[0m\u001b[0;34m\u001b[0m\u001b[0;34m\u001b[0m\u001b[0m\n\u001b[0m\u001b[1;32m    136\u001b[0m \u001b[0;34m\u001b[0m\u001b[0m\n\u001b[1;32m    137\u001b[0m         \u001b[0;32mif\u001b[0m \u001b[0mlyrics\u001b[0m \u001b[0;34m!=\u001b[0m \u001b[0;32mNone\u001b[0m\u001b[0;34m:\u001b[0m\u001b[0;34m\u001b[0m\u001b[0;34m\u001b[0m\u001b[0m\n",
      "\u001b[0;32m<ipython-input-2-6aa57d8e4c9b>\u001b[0m in \u001b[0;36mget_lyrics\u001b[0;34m(self, url, retry, wait_retry, wait)\u001b[0m\n\u001b[1;32m     48\u001b[0m         \"\"\"\n\u001b[1;32m     49\u001b[0m \u001b[0;34m\u001b[0m\u001b[0m\n\u001b[0;32m---> 50\u001b[0;31m         \u001b[0mhtmlRes\u001b[0m \u001b[0;34m=\u001b[0m \u001b[0mrequests\u001b[0m\u001b[0;34m.\u001b[0m\u001b[0mget\u001b[0m\u001b[0;34m(\u001b[0m\u001b[0murl\u001b[0m\u001b[0;34m)\u001b[0m\u001b[0;34m.\u001b[0m\u001b[0mtext\u001b[0m\u001b[0;34m\u001b[0m\u001b[0;34m\u001b[0m\u001b[0m\n\u001b[0m\u001b[1;32m     51\u001b[0m \u001b[0;34m\u001b[0m\u001b[0m\n\u001b[1;32m     52\u001b[0m         \u001b[0mhtml\u001b[0m \u001b[0;34m=\u001b[0m \u001b[0mBeautifulSoup\u001b[0m\u001b[0;34m(\u001b[0m\u001b[0mhtmlRes\u001b[0m\u001b[0;34m,\u001b[0m \u001b[0;34m'html.parser'\u001b[0m\u001b[0;34m)\u001b[0m\u001b[0;34m\u001b[0m\u001b[0;34m\u001b[0m\u001b[0m\n",
      "\u001b[0;32m/Library/Frameworks/Python.framework/Versions/3.9/lib/python3.9/site-packages/requests/api.py\u001b[0m in \u001b[0;36mget\u001b[0;34m(url, params, **kwargs)\u001b[0m\n\u001b[1;32m     74\u001b[0m \u001b[0;34m\u001b[0m\u001b[0m\n\u001b[1;32m     75\u001b[0m     \u001b[0mkwargs\u001b[0m\u001b[0;34m.\u001b[0m\u001b[0msetdefault\u001b[0m\u001b[0;34m(\u001b[0m\u001b[0;34m'allow_redirects'\u001b[0m\u001b[0;34m,\u001b[0m \u001b[0;32mTrue\u001b[0m\u001b[0;34m)\u001b[0m\u001b[0;34m\u001b[0m\u001b[0;34m\u001b[0m\u001b[0m\n\u001b[0;32m---> 76\u001b[0;31m     \u001b[0;32mreturn\u001b[0m \u001b[0mrequest\u001b[0m\u001b[0;34m(\u001b[0m\u001b[0;34m'get'\u001b[0m\u001b[0;34m,\u001b[0m \u001b[0murl\u001b[0m\u001b[0;34m,\u001b[0m \u001b[0mparams\u001b[0m\u001b[0;34m=\u001b[0m\u001b[0mparams\u001b[0m\u001b[0;34m,\u001b[0m \u001b[0;34m**\u001b[0m\u001b[0mkwargs\u001b[0m\u001b[0;34m)\u001b[0m\u001b[0;34m\u001b[0m\u001b[0;34m\u001b[0m\u001b[0m\n\u001b[0m\u001b[1;32m     77\u001b[0m \u001b[0;34m\u001b[0m\u001b[0m\n\u001b[1;32m     78\u001b[0m \u001b[0;34m\u001b[0m\u001b[0m\n",
      "\u001b[0;32m/Library/Frameworks/Python.framework/Versions/3.9/lib/python3.9/site-packages/requests/api.py\u001b[0m in \u001b[0;36mrequest\u001b[0;34m(method, url, **kwargs)\u001b[0m\n\u001b[1;32m     59\u001b[0m     \u001b[0;31m# cases, and look like a memory leak in others.\u001b[0m\u001b[0;34m\u001b[0m\u001b[0;34m\u001b[0m\u001b[0;34m\u001b[0m\u001b[0m\n\u001b[1;32m     60\u001b[0m     \u001b[0;32mwith\u001b[0m \u001b[0msessions\u001b[0m\u001b[0;34m.\u001b[0m\u001b[0mSession\u001b[0m\u001b[0;34m(\u001b[0m\u001b[0;34m)\u001b[0m \u001b[0;32mas\u001b[0m \u001b[0msession\u001b[0m\u001b[0;34m:\u001b[0m\u001b[0;34m\u001b[0m\u001b[0;34m\u001b[0m\u001b[0m\n\u001b[0;32m---> 61\u001b[0;31m         \u001b[0;32mreturn\u001b[0m \u001b[0msession\u001b[0m\u001b[0;34m.\u001b[0m\u001b[0mrequest\u001b[0m\u001b[0;34m(\u001b[0m\u001b[0mmethod\u001b[0m\u001b[0;34m=\u001b[0m\u001b[0mmethod\u001b[0m\u001b[0;34m,\u001b[0m \u001b[0murl\u001b[0m\u001b[0;34m=\u001b[0m\u001b[0murl\u001b[0m\u001b[0;34m,\u001b[0m \u001b[0;34m**\u001b[0m\u001b[0mkwargs\u001b[0m\u001b[0;34m)\u001b[0m\u001b[0;34m\u001b[0m\u001b[0;34m\u001b[0m\u001b[0m\n\u001b[0m\u001b[1;32m     62\u001b[0m \u001b[0;34m\u001b[0m\u001b[0m\n\u001b[1;32m     63\u001b[0m \u001b[0;34m\u001b[0m\u001b[0m\n",
      "\u001b[0;32m/Library/Frameworks/Python.framework/Versions/3.9/lib/python3.9/site-packages/requests/sessions.py\u001b[0m in \u001b[0;36mrequest\u001b[0;34m(self, method, url, params, data, headers, cookies, files, auth, timeout, allow_redirects, proxies, hooks, stream, verify, cert, json)\u001b[0m\n\u001b[1;32m    540\u001b[0m         }\n\u001b[1;32m    541\u001b[0m         \u001b[0msend_kwargs\u001b[0m\u001b[0;34m.\u001b[0m\u001b[0mupdate\u001b[0m\u001b[0;34m(\u001b[0m\u001b[0msettings\u001b[0m\u001b[0;34m)\u001b[0m\u001b[0;34m\u001b[0m\u001b[0;34m\u001b[0m\u001b[0m\n\u001b[0;32m--> 542\u001b[0;31m         \u001b[0mresp\u001b[0m \u001b[0;34m=\u001b[0m \u001b[0mself\u001b[0m\u001b[0;34m.\u001b[0m\u001b[0msend\u001b[0m\u001b[0;34m(\u001b[0m\u001b[0mprep\u001b[0m\u001b[0;34m,\u001b[0m \u001b[0;34m**\u001b[0m\u001b[0msend_kwargs\u001b[0m\u001b[0;34m)\u001b[0m\u001b[0;34m\u001b[0m\u001b[0;34m\u001b[0m\u001b[0m\n\u001b[0m\u001b[1;32m    543\u001b[0m \u001b[0;34m\u001b[0m\u001b[0m\n\u001b[1;32m    544\u001b[0m         \u001b[0;32mreturn\u001b[0m \u001b[0mresp\u001b[0m\u001b[0;34m\u001b[0m\u001b[0;34m\u001b[0m\u001b[0m\n",
      "\u001b[0;32m/Library/Frameworks/Python.framework/Versions/3.9/lib/python3.9/site-packages/requests/sessions.py\u001b[0m in \u001b[0;36msend\u001b[0;34m(self, request, **kwargs)\u001b[0m\n\u001b[1;32m    653\u001b[0m \u001b[0;34m\u001b[0m\u001b[0m\n\u001b[1;32m    654\u001b[0m         \u001b[0;31m# Send the request\u001b[0m\u001b[0;34m\u001b[0m\u001b[0;34m\u001b[0m\u001b[0;34m\u001b[0m\u001b[0m\n\u001b[0;32m--> 655\u001b[0;31m         \u001b[0mr\u001b[0m \u001b[0;34m=\u001b[0m \u001b[0madapter\u001b[0m\u001b[0;34m.\u001b[0m\u001b[0msend\u001b[0m\u001b[0;34m(\u001b[0m\u001b[0mrequest\u001b[0m\u001b[0;34m,\u001b[0m \u001b[0;34m**\u001b[0m\u001b[0mkwargs\u001b[0m\u001b[0;34m)\u001b[0m\u001b[0;34m\u001b[0m\u001b[0;34m\u001b[0m\u001b[0m\n\u001b[0m\u001b[1;32m    656\u001b[0m \u001b[0;34m\u001b[0m\u001b[0m\n\u001b[1;32m    657\u001b[0m         \u001b[0;31m# Total elapsed time of the request (approximately)\u001b[0m\u001b[0;34m\u001b[0m\u001b[0;34m\u001b[0m\u001b[0;34m\u001b[0m\u001b[0m\n",
      "\u001b[0;32m/Library/Frameworks/Python.framework/Versions/3.9/lib/python3.9/site-packages/requests/adapters.py\u001b[0m in \u001b[0;36msend\u001b[0;34m(self, request, stream, timeout, verify, cert, proxies)\u001b[0m\n\u001b[1;32m    437\u001b[0m         \u001b[0;32mtry\u001b[0m\u001b[0;34m:\u001b[0m\u001b[0;34m\u001b[0m\u001b[0;34m\u001b[0m\u001b[0m\n\u001b[1;32m    438\u001b[0m             \u001b[0;32mif\u001b[0m \u001b[0;32mnot\u001b[0m \u001b[0mchunked\u001b[0m\u001b[0;34m:\u001b[0m\u001b[0;34m\u001b[0m\u001b[0;34m\u001b[0m\u001b[0m\n\u001b[0;32m--> 439\u001b[0;31m                 resp = conn.urlopen(\n\u001b[0m\u001b[1;32m    440\u001b[0m                     \u001b[0mmethod\u001b[0m\u001b[0;34m=\u001b[0m\u001b[0mrequest\u001b[0m\u001b[0;34m.\u001b[0m\u001b[0mmethod\u001b[0m\u001b[0;34m,\u001b[0m\u001b[0;34m\u001b[0m\u001b[0;34m\u001b[0m\u001b[0m\n\u001b[1;32m    441\u001b[0m                     \u001b[0murl\u001b[0m\u001b[0;34m=\u001b[0m\u001b[0murl\u001b[0m\u001b[0;34m,\u001b[0m\u001b[0;34m\u001b[0m\u001b[0;34m\u001b[0m\u001b[0m\n",
      "\u001b[0;32m/Library/Frameworks/Python.framework/Versions/3.9/lib/python3.9/site-packages/urllib3/connectionpool.py\u001b[0m in \u001b[0;36murlopen\u001b[0;34m(self, method, url, body, headers, retries, redirect, assert_same_host, timeout, pool_timeout, release_conn, chunked, body_pos, **response_kw)\u001b[0m\n\u001b[1;32m    697\u001b[0m \u001b[0;34m\u001b[0m\u001b[0m\n\u001b[1;32m    698\u001b[0m             \u001b[0;31m# Make the request on the httplib connection object.\u001b[0m\u001b[0;34m\u001b[0m\u001b[0;34m\u001b[0m\u001b[0;34m\u001b[0m\u001b[0m\n\u001b[0;32m--> 699\u001b[0;31m             httplib_response = self._make_request(\n\u001b[0m\u001b[1;32m    700\u001b[0m                 \u001b[0mconn\u001b[0m\u001b[0;34m,\u001b[0m\u001b[0;34m\u001b[0m\u001b[0;34m\u001b[0m\u001b[0m\n\u001b[1;32m    701\u001b[0m                 \u001b[0mmethod\u001b[0m\u001b[0;34m,\u001b[0m\u001b[0;34m\u001b[0m\u001b[0;34m\u001b[0m\u001b[0m\n",
      "\u001b[0;32m/Library/Frameworks/Python.framework/Versions/3.9/lib/python3.9/site-packages/urllib3/connectionpool.py\u001b[0m in \u001b[0;36m_make_request\u001b[0;34m(self, conn, method, url, timeout, chunked, **httplib_request_kw)\u001b[0m\n\u001b[1;32m    443\u001b[0m                     \u001b[0;31m# Python 3 (including for exceptions like SystemExit).\u001b[0m\u001b[0;34m\u001b[0m\u001b[0;34m\u001b[0m\u001b[0;34m\u001b[0m\u001b[0m\n\u001b[1;32m    444\u001b[0m                     \u001b[0;31m# Otherwise it looks like a bug in the code.\u001b[0m\u001b[0;34m\u001b[0m\u001b[0;34m\u001b[0m\u001b[0;34m\u001b[0m\u001b[0m\n\u001b[0;32m--> 445\u001b[0;31m                     \u001b[0msix\u001b[0m\u001b[0;34m.\u001b[0m\u001b[0mraise_from\u001b[0m\u001b[0;34m(\u001b[0m\u001b[0me\u001b[0m\u001b[0;34m,\u001b[0m \u001b[0;32mNone\u001b[0m\u001b[0;34m)\u001b[0m\u001b[0;34m\u001b[0m\u001b[0;34m\u001b[0m\u001b[0m\n\u001b[0m\u001b[1;32m    446\u001b[0m         \u001b[0;32mexcept\u001b[0m \u001b[0;34m(\u001b[0m\u001b[0mSocketTimeout\u001b[0m\u001b[0;34m,\u001b[0m \u001b[0mBaseSSLError\u001b[0m\u001b[0;34m,\u001b[0m \u001b[0mSocketError\u001b[0m\u001b[0;34m)\u001b[0m \u001b[0;32mas\u001b[0m \u001b[0me\u001b[0m\u001b[0;34m:\u001b[0m\u001b[0;34m\u001b[0m\u001b[0;34m\u001b[0m\u001b[0m\n\u001b[1;32m    447\u001b[0m             \u001b[0mself\u001b[0m\u001b[0;34m.\u001b[0m\u001b[0m_raise_timeout\u001b[0m\u001b[0;34m(\u001b[0m\u001b[0merr\u001b[0m\u001b[0;34m=\u001b[0m\u001b[0me\u001b[0m\u001b[0;34m,\u001b[0m \u001b[0murl\u001b[0m\u001b[0;34m=\u001b[0m\u001b[0murl\u001b[0m\u001b[0;34m,\u001b[0m \u001b[0mtimeout_value\u001b[0m\u001b[0;34m=\u001b[0m\u001b[0mread_timeout\u001b[0m\u001b[0;34m)\u001b[0m\u001b[0;34m\u001b[0m\u001b[0;34m\u001b[0m\u001b[0m\n",
      "\u001b[0;32m/Library/Frameworks/Python.framework/Versions/3.9/lib/python3.9/site-packages/urllib3/packages/six.py\u001b[0m in \u001b[0;36mraise_from\u001b[0;34m(value, from_value)\u001b[0m\n",
      "\u001b[0;32m/Library/Frameworks/Python.framework/Versions/3.9/lib/python3.9/site-packages/urllib3/connectionpool.py\u001b[0m in \u001b[0;36m_make_request\u001b[0;34m(self, conn, method, url, timeout, chunked, **httplib_request_kw)\u001b[0m\n\u001b[1;32m    438\u001b[0m                 \u001b[0;31m# Python 3\u001b[0m\u001b[0;34m\u001b[0m\u001b[0;34m\u001b[0m\u001b[0;34m\u001b[0m\u001b[0m\n\u001b[1;32m    439\u001b[0m                 \u001b[0;32mtry\u001b[0m\u001b[0;34m:\u001b[0m\u001b[0;34m\u001b[0m\u001b[0;34m\u001b[0m\u001b[0m\n\u001b[0;32m--> 440\u001b[0;31m                     \u001b[0mhttplib_response\u001b[0m \u001b[0;34m=\u001b[0m \u001b[0mconn\u001b[0m\u001b[0;34m.\u001b[0m\u001b[0mgetresponse\u001b[0m\u001b[0;34m(\u001b[0m\u001b[0;34m)\u001b[0m\u001b[0;34m\u001b[0m\u001b[0;34m\u001b[0m\u001b[0m\n\u001b[0m\u001b[1;32m    441\u001b[0m                 \u001b[0;32mexcept\u001b[0m \u001b[0mBaseException\u001b[0m \u001b[0;32mas\u001b[0m \u001b[0me\u001b[0m\u001b[0;34m:\u001b[0m\u001b[0;34m\u001b[0m\u001b[0;34m\u001b[0m\u001b[0m\n\u001b[1;32m    442\u001b[0m                     \u001b[0;31m# Remove the TypeError from the exception chain in\u001b[0m\u001b[0;34m\u001b[0m\u001b[0;34m\u001b[0m\u001b[0;34m\u001b[0m\u001b[0m\n",
      "\u001b[0;32m/Library/Frameworks/Python.framework/Versions/3.9/lib/python3.9/http/client.py\u001b[0m in \u001b[0;36mgetresponse\u001b[0;34m(self)\u001b[0m\n\u001b[1;32m   1343\u001b[0m         \u001b[0;32mtry\u001b[0m\u001b[0;34m:\u001b[0m\u001b[0;34m\u001b[0m\u001b[0;34m\u001b[0m\u001b[0m\n\u001b[1;32m   1344\u001b[0m             \u001b[0;32mtry\u001b[0m\u001b[0;34m:\u001b[0m\u001b[0;34m\u001b[0m\u001b[0;34m\u001b[0m\u001b[0m\n\u001b[0;32m-> 1345\u001b[0;31m                 \u001b[0mresponse\u001b[0m\u001b[0;34m.\u001b[0m\u001b[0mbegin\u001b[0m\u001b[0;34m(\u001b[0m\u001b[0;34m)\u001b[0m\u001b[0;34m\u001b[0m\u001b[0;34m\u001b[0m\u001b[0m\n\u001b[0m\u001b[1;32m   1346\u001b[0m             \u001b[0;32mexcept\u001b[0m \u001b[0mConnectionError\u001b[0m\u001b[0;34m:\u001b[0m\u001b[0;34m\u001b[0m\u001b[0;34m\u001b[0m\u001b[0m\n\u001b[1;32m   1347\u001b[0m                 \u001b[0mself\u001b[0m\u001b[0;34m.\u001b[0m\u001b[0mclose\u001b[0m\u001b[0;34m(\u001b[0m\u001b[0;34m)\u001b[0m\u001b[0;34m\u001b[0m\u001b[0;34m\u001b[0m\u001b[0m\n",
      "\u001b[0;32m/Library/Frameworks/Python.framework/Versions/3.9/lib/python3.9/http/client.py\u001b[0m in \u001b[0;36mbegin\u001b[0;34m(self)\u001b[0m\n\u001b[1;32m    305\u001b[0m         \u001b[0;31m# read until we get a non-100 response\u001b[0m\u001b[0;34m\u001b[0m\u001b[0;34m\u001b[0m\u001b[0;34m\u001b[0m\u001b[0m\n\u001b[1;32m    306\u001b[0m         \u001b[0;32mwhile\u001b[0m \u001b[0;32mTrue\u001b[0m\u001b[0;34m:\u001b[0m\u001b[0;34m\u001b[0m\u001b[0;34m\u001b[0m\u001b[0m\n\u001b[0;32m--> 307\u001b[0;31m             \u001b[0mversion\u001b[0m\u001b[0;34m,\u001b[0m \u001b[0mstatus\u001b[0m\u001b[0;34m,\u001b[0m \u001b[0mreason\u001b[0m \u001b[0;34m=\u001b[0m \u001b[0mself\u001b[0m\u001b[0;34m.\u001b[0m\u001b[0m_read_status\u001b[0m\u001b[0;34m(\u001b[0m\u001b[0;34m)\u001b[0m\u001b[0;34m\u001b[0m\u001b[0;34m\u001b[0m\u001b[0m\n\u001b[0m\u001b[1;32m    308\u001b[0m             \u001b[0;32mif\u001b[0m \u001b[0mstatus\u001b[0m \u001b[0;34m!=\u001b[0m \u001b[0mCONTINUE\u001b[0m\u001b[0;34m:\u001b[0m\u001b[0;34m\u001b[0m\u001b[0;34m\u001b[0m\u001b[0m\n\u001b[1;32m    309\u001b[0m                 \u001b[0;32mbreak\u001b[0m\u001b[0;34m\u001b[0m\u001b[0;34m\u001b[0m\u001b[0m\n",
      "\u001b[0;32m/Library/Frameworks/Python.framework/Versions/3.9/lib/python3.9/http/client.py\u001b[0m in \u001b[0;36m_read_status\u001b[0;34m(self)\u001b[0m\n\u001b[1;32m    266\u001b[0m \u001b[0;34m\u001b[0m\u001b[0m\n\u001b[1;32m    267\u001b[0m     \u001b[0;32mdef\u001b[0m \u001b[0m_read_status\u001b[0m\u001b[0;34m(\u001b[0m\u001b[0mself\u001b[0m\u001b[0;34m)\u001b[0m\u001b[0;34m:\u001b[0m\u001b[0;34m\u001b[0m\u001b[0;34m\u001b[0m\u001b[0m\n\u001b[0;32m--> 268\u001b[0;31m         \u001b[0mline\u001b[0m \u001b[0;34m=\u001b[0m \u001b[0mstr\u001b[0m\u001b[0;34m(\u001b[0m\u001b[0mself\u001b[0m\u001b[0;34m.\u001b[0m\u001b[0mfp\u001b[0m\u001b[0;34m.\u001b[0m\u001b[0mreadline\u001b[0m\u001b[0;34m(\u001b[0m\u001b[0m_MAXLINE\u001b[0m \u001b[0;34m+\u001b[0m \u001b[0;36m1\u001b[0m\u001b[0;34m)\u001b[0m\u001b[0;34m,\u001b[0m \u001b[0;34m\"iso-8859-1\"\u001b[0m\u001b[0;34m)\u001b[0m\u001b[0;34m\u001b[0m\u001b[0;34m\u001b[0m\u001b[0m\n\u001b[0m\u001b[1;32m    269\u001b[0m         \u001b[0;32mif\u001b[0m \u001b[0mlen\u001b[0m\u001b[0;34m(\u001b[0m\u001b[0mline\u001b[0m\u001b[0;34m)\u001b[0m \u001b[0;34m>\u001b[0m \u001b[0m_MAXLINE\u001b[0m\u001b[0;34m:\u001b[0m\u001b[0;34m\u001b[0m\u001b[0;34m\u001b[0m\u001b[0m\n\u001b[1;32m    270\u001b[0m             \u001b[0;32mraise\u001b[0m \u001b[0mLineTooLong\u001b[0m\u001b[0;34m(\u001b[0m\u001b[0;34m\"status line\"\u001b[0m\u001b[0;34m)\u001b[0m\u001b[0;34m\u001b[0m\u001b[0;34m\u001b[0m\u001b[0m\n",
      "\u001b[0;32m/Library/Frameworks/Python.framework/Versions/3.9/lib/python3.9/socket.py\u001b[0m in \u001b[0;36mreadinto\u001b[0;34m(self, b)\u001b[0m\n\u001b[1;32m    702\u001b[0m         \u001b[0;32mwhile\u001b[0m \u001b[0;32mTrue\u001b[0m\u001b[0;34m:\u001b[0m\u001b[0;34m\u001b[0m\u001b[0;34m\u001b[0m\u001b[0m\n\u001b[1;32m    703\u001b[0m             \u001b[0;32mtry\u001b[0m\u001b[0;34m:\u001b[0m\u001b[0;34m\u001b[0m\u001b[0;34m\u001b[0m\u001b[0m\n\u001b[0;32m--> 704\u001b[0;31m                 \u001b[0;32mreturn\u001b[0m \u001b[0mself\u001b[0m\u001b[0;34m.\u001b[0m\u001b[0m_sock\u001b[0m\u001b[0;34m.\u001b[0m\u001b[0mrecv_into\u001b[0m\u001b[0;34m(\u001b[0m\u001b[0mb\u001b[0m\u001b[0;34m)\u001b[0m\u001b[0;34m\u001b[0m\u001b[0;34m\u001b[0m\u001b[0m\n\u001b[0m\u001b[1;32m    705\u001b[0m             \u001b[0;32mexcept\u001b[0m \u001b[0mtimeout\u001b[0m\u001b[0;34m:\u001b[0m\u001b[0;34m\u001b[0m\u001b[0;34m\u001b[0m\u001b[0m\n\u001b[1;32m    706\u001b[0m                 \u001b[0mself\u001b[0m\u001b[0;34m.\u001b[0m\u001b[0m_timeout_occurred\u001b[0m \u001b[0;34m=\u001b[0m \u001b[0;32mTrue\u001b[0m\u001b[0;34m\u001b[0m\u001b[0;34m\u001b[0m\u001b[0m\n",
      "\u001b[0;32m/Library/Frameworks/Python.framework/Versions/3.9/lib/python3.9/ssl.py\u001b[0m in \u001b[0;36mrecv_into\u001b[0;34m(self, buffer, nbytes, flags)\u001b[0m\n\u001b[1;32m   1239\u001b[0m                   \u001b[0;34m\"non-zero flags not allowed in calls to recv_into() on %s\"\u001b[0m \u001b[0;34m%\u001b[0m\u001b[0;34m\u001b[0m\u001b[0;34m\u001b[0m\u001b[0m\n\u001b[1;32m   1240\u001b[0m                   self.__class__)\n\u001b[0;32m-> 1241\u001b[0;31m             \u001b[0;32mreturn\u001b[0m \u001b[0mself\u001b[0m\u001b[0;34m.\u001b[0m\u001b[0mread\u001b[0m\u001b[0;34m(\u001b[0m\u001b[0mnbytes\u001b[0m\u001b[0;34m,\u001b[0m \u001b[0mbuffer\u001b[0m\u001b[0;34m)\u001b[0m\u001b[0;34m\u001b[0m\u001b[0;34m\u001b[0m\u001b[0m\n\u001b[0m\u001b[1;32m   1242\u001b[0m         \u001b[0;32melse\u001b[0m\u001b[0;34m:\u001b[0m\u001b[0;34m\u001b[0m\u001b[0;34m\u001b[0m\u001b[0m\n\u001b[1;32m   1243\u001b[0m             \u001b[0;32mreturn\u001b[0m \u001b[0msuper\u001b[0m\u001b[0;34m(\u001b[0m\u001b[0;34m)\u001b[0m\u001b[0;34m.\u001b[0m\u001b[0mrecv_into\u001b[0m\u001b[0;34m(\u001b[0m\u001b[0mbuffer\u001b[0m\u001b[0;34m,\u001b[0m \u001b[0mnbytes\u001b[0m\u001b[0;34m,\u001b[0m \u001b[0mflags\u001b[0m\u001b[0;34m)\u001b[0m\u001b[0;34m\u001b[0m\u001b[0;34m\u001b[0m\u001b[0m\n",
      "\u001b[0;32m/Library/Frameworks/Python.framework/Versions/3.9/lib/python3.9/ssl.py\u001b[0m in \u001b[0;36mread\u001b[0;34m(self, len, buffer)\u001b[0m\n\u001b[1;32m   1097\u001b[0m         \u001b[0;32mtry\u001b[0m\u001b[0;34m:\u001b[0m\u001b[0;34m\u001b[0m\u001b[0;34m\u001b[0m\u001b[0m\n\u001b[1;32m   1098\u001b[0m             \u001b[0;32mif\u001b[0m \u001b[0mbuffer\u001b[0m \u001b[0;32mis\u001b[0m \u001b[0;32mnot\u001b[0m \u001b[0;32mNone\u001b[0m\u001b[0;34m:\u001b[0m\u001b[0;34m\u001b[0m\u001b[0;34m\u001b[0m\u001b[0m\n\u001b[0;32m-> 1099\u001b[0;31m                 \u001b[0;32mreturn\u001b[0m \u001b[0mself\u001b[0m\u001b[0;34m.\u001b[0m\u001b[0m_sslobj\u001b[0m\u001b[0;34m.\u001b[0m\u001b[0mread\u001b[0m\u001b[0;34m(\u001b[0m\u001b[0mlen\u001b[0m\u001b[0;34m,\u001b[0m \u001b[0mbuffer\u001b[0m\u001b[0;34m)\u001b[0m\u001b[0;34m\u001b[0m\u001b[0;34m\u001b[0m\u001b[0m\n\u001b[0m\u001b[1;32m   1100\u001b[0m             \u001b[0;32melse\u001b[0m\u001b[0;34m:\u001b[0m\u001b[0;34m\u001b[0m\u001b[0;34m\u001b[0m\u001b[0m\n\u001b[1;32m   1101\u001b[0m                 \u001b[0;32mreturn\u001b[0m \u001b[0mself\u001b[0m\u001b[0;34m.\u001b[0m\u001b[0m_sslobj\u001b[0m\u001b[0;34m.\u001b[0m\u001b[0mread\u001b[0m\u001b[0;34m(\u001b[0m\u001b[0mlen\u001b[0m\u001b[0;34m)\u001b[0m\u001b[0;34m\u001b[0m\u001b[0;34m\u001b[0m\u001b[0m\n",
      "\u001b[0;31mKeyboardInterrupt\u001b[0m: "
     ]
    }
   ],
   "source": [
    "input_path: str = \"./datas/songs.txt\"\n",
    "output_path: str = \"./datas/api_songs.json\"\n",
    "\n",
    "with open(input_path, \"r\", encoding=\"utf8\") as file:\n",
    "    songs_inputs = file.read().splitlines()\n",
    "    songs: List[str] = []\n",
    "\n",
    "    for index, song_input in enumerate(songs_inputs, start=1):\n",
    "        results = api.search(song_input)\n",
    "\n",
    "        if len(results) > 0:\n",
    "            song = api.get_song(results[0][\"id\"], True, True, 0, 0)\n",
    "            songs.append(song)\n",
    "\n",
    "            print(f\"{index / len(songs_inputs) * 100:.2f}%     {song['artist']['name']} - {song['name']}\")\n",
    "\n",
    "        with open(output_path, \"w\", encoding=\"utf8\") as output:\n",
    "            output.write(\n",
    "                json.dumps(\n",
    "                    songs,\n",
    "                    default=lambda obj: obj.__dict__,\n",
    "                    ensure_ascii=False\n",
    "                )\n",
    "            )\n",
    "            output.close()\n",
    "    file.close()\n",
    "\n",
    "    print(\"Output written at\", output_path)"
   ]
  },
  {
   "source": [
    "# RENOMMEZ `./datas/new_songs.json` EN `./datas/songs.json` POUR LES PROCHAINS NOTEBOOKS"
   ],
   "cell_type": "markdown",
   "metadata": {}
  }
 ]
}