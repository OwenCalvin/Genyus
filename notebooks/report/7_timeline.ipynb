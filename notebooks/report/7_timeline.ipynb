{
 "metadata": {
  "language_info": {
   "codemirror_mode": {
    "name": "ipython",
    "version": 3
   },
   "file_extension": ".py",
   "mimetype": "text/x-python",
   "name": "python",
   "nbconvert_exporter": "python",
   "pygments_lexer": "ipython3",
   "version": "3.9.5"
  },
  "orig_nbformat": 2,
  "kernelspec": {
   "name": "python395jvsc74a57bd093ad480a54dfe9bd795c518354d898cb64ee6e6895a3f8c350fb267ef01e64da",
   "display_name": "Python 3.9.5 64-bit (windows store)"
  },
  "metadata": {
   "interpreter": {
    "hash": "93ad480a54dfe9bd795c518354d898cb64ee6e6895a3f8c350fb267ef01e64da"
   }
  }
 },
 "nbformat": 4,
 "nbformat_minor": 2,
 "cells": [
  {
   "source": [
    "# Statistiques dans le temps"
   ],
   "cell_type": "markdown",
   "metadata": {}
  },
  {
   "source": [
    "## Paquets utilisés"
   ],
   "cell_type": "markdown",
   "metadata": {}
  },
  {
   "cell_type": "code",
   "execution_count": 23,
   "metadata": {},
   "outputs": [],
   "source": [
    "import numpy as np\n",
    "import json\n",
    "import datetime\n",
    "import pandas as pd\n",
    "import matplotlib.pyplot as plt\n",
    "import ipywidgets as ipw\n",
    "from wordcloud import WordCloud\n",
    "from typing import List"
   ]
  },
  {
   "source": [
    "## Regroupement des mots par années"
   ],
   "cell_type": "markdown",
   "metadata": {}
  },
  {
   "cell_type": "code",
   "execution_count": 24,
   "metadata": {},
   "outputs": [
    {
     "output_type": "execute_result",
     "data": {
      "text/plain": [
       "    year                                    lyrics_keywords\n",
       "2   1998  [boom, boom, bang, bad, boy, pose, ton, gun, b...\n",
       "3   2000  [hauts-de-seine, alors, comme, ça, on, veut, r...\n",
       "4   2001  [couplet, génération, qui, fait, honte, ses, p...\n",
       "5   2004  [dédicacé, ceux, qui, rappaient, sur, beatbox,...\n",
       "6   2005  [garde, la, pêche, les, mcs, sont, fauchés, pr...\n",
       "7   2006  [hahaha, mmmm, viens, au, fond, la, classe, là...\n",
       "8   2009  [just, get, home, and, then, leave, again, it'...\n",
       "9   2011  [lève, ton, verre, lève, ton, verre, lève, ton...\n",
       "10  2012  [décembre, aux, abymes, suis, né, une, famille...\n",
       "11  2013  [tous, ces, haineux, ai, amour, pour, vous, as...\n",
       "12  2014  [igo, en, bats, les, couilles, de, ta, vie, te...\n",
       "13  2015  [je, mène, pas, une, vie, hyper, saine, même, ...\n",
       "14  2016  [est-ce, que, tu, es, jà, fait, rabaisser, par...\n",
       "15  2017  [ben, eu, un, truc, très, beau, ailleurs, est,...\n",
       "16  2018  [stone, de, flanc, hennessy, hennessy, henness...\n",
       "17  2019  [elle, veut, que, aie, de, yeux, que, pour, el...\n",
       "18  2020  [ah, ah, ah, ah, okay, okay, okay, okay, as, b...\n",
       "19  2021  [monnaie, sur, té-c, té-c, bois, le, jack, sec..."
      ],
      "text/html": "<div>\n<style scoped>\n    .dataframe tbody tr th:only-of-type {\n        vertical-align: middle;\n    }\n\n    .dataframe tbody tr th {\n        vertical-align: top;\n    }\n\n    .dataframe thead th {\n        text-align: right;\n    }\n</style>\n<table border=\"1\" class=\"dataframe\">\n  <thead>\n    <tr style=\"text-align: right;\">\n      <th></th>\n      <th>year</th>\n      <th>lyrics_keywords</th>\n    </tr>\n  </thead>\n  <tbody>\n    <tr>\n      <th>2</th>\n      <td>1998</td>\n      <td>[boom, boom, bang, bad, boy, pose, ton, gun, b...</td>\n    </tr>\n    <tr>\n      <th>3</th>\n      <td>2000</td>\n      <td>[hauts-de-seine, alors, comme, ça, on, veut, r...</td>\n    </tr>\n    <tr>\n      <th>4</th>\n      <td>2001</td>\n      <td>[couplet, génération, qui, fait, honte, ses, p...</td>\n    </tr>\n    <tr>\n      <th>5</th>\n      <td>2004</td>\n      <td>[dédicacé, ceux, qui, rappaient, sur, beatbox,...</td>\n    </tr>\n    <tr>\n      <th>6</th>\n      <td>2005</td>\n      <td>[garde, la, pêche, les, mcs, sont, fauchés, pr...</td>\n    </tr>\n    <tr>\n      <th>7</th>\n      <td>2006</td>\n      <td>[hahaha, mmmm, viens, au, fond, la, classe, là...</td>\n    </tr>\n    <tr>\n      <th>8</th>\n      <td>2009</td>\n      <td>[just, get, home, and, then, leave, again, it'...</td>\n    </tr>\n    <tr>\n      <th>9</th>\n      <td>2011</td>\n      <td>[lève, ton, verre, lève, ton, verre, lève, ton...</td>\n    </tr>\n    <tr>\n      <th>10</th>\n      <td>2012</td>\n      <td>[décembre, aux, abymes, suis, né, une, famille...</td>\n    </tr>\n    <tr>\n      <th>11</th>\n      <td>2013</td>\n      <td>[tous, ces, haineux, ai, amour, pour, vous, as...</td>\n    </tr>\n    <tr>\n      <th>12</th>\n      <td>2014</td>\n      <td>[igo, en, bats, les, couilles, de, ta, vie, te...</td>\n    </tr>\n    <tr>\n      <th>13</th>\n      <td>2015</td>\n      <td>[je, mène, pas, une, vie, hyper, saine, même, ...</td>\n    </tr>\n    <tr>\n      <th>14</th>\n      <td>2016</td>\n      <td>[est-ce, que, tu, es, jà, fait, rabaisser, par...</td>\n    </tr>\n    <tr>\n      <th>15</th>\n      <td>2017</td>\n      <td>[ben, eu, un, truc, très, beau, ailleurs, est,...</td>\n    </tr>\n    <tr>\n      <th>16</th>\n      <td>2018</td>\n      <td>[stone, de, flanc, hennessy, hennessy, henness...</td>\n    </tr>\n    <tr>\n      <th>17</th>\n      <td>2019</td>\n      <td>[elle, veut, que, aie, de, yeux, que, pour, el...</td>\n    </tr>\n    <tr>\n      <th>18</th>\n      <td>2020</td>\n      <td>[ah, ah, ah, ah, okay, okay, okay, okay, as, b...</td>\n    </tr>\n    <tr>\n      <th>19</th>\n      <td>2021</td>\n      <td>[monnaie, sur, té-c, té-c, bois, le, jack, sec...</td>\n    </tr>\n  </tbody>\n</table>\n</div>"
     },
     "metadata": {},
     "execution_count": 24
    }
   ],
   "source": [
    "songs = pd.read_json(\"./datas/songs.json\")\n",
    "\n",
    "songs[\"year\"] = songs[\"date\"].map(lambda x: datetime.datetime.strptime(x, \"%Y-%m-%dT%H:%M:%S\").year)\n",
    "\n",
    "songs.sort_values(\"year\", ascending=False, inplace=True)\n",
    "\n",
    "songs[\"words\"] = songs[\"lyrics_keywords\"].map(lambda x: x.split(\" \"))\n",
    "\n",
    "songs = pd.DataFrame(songs.groupby(\"year\")[\"lyrics_keywords\"].apply(list))\n",
    "\n",
    "songs[\"lyrics_keywords\"] = songs[\"lyrics_keywords\"].str.join(\" \")\n",
    "songs[\"lyrics_keywords\"] = songs[\"lyrics_keywords\"].apply(lambda x: x.split(\" \"))\n",
    "\n",
    "songs = songs.reset_index()\n",
    "\n",
    "songs = songs[songs[\"year\"] > 1900]\n",
    "\n",
    "songs"
   ]
  },
  {
   "source": [
    "## Affichages de l'utilisation d'un mot par années"
   ],
   "cell_type": "markdown",
   "metadata": {}
  },
  {
   "cell_type": "code",
   "execution_count": 25,
   "metadata": {},
   "outputs": [
    {
     "output_type": "display_data",
     "data": {
      "text/plain": "interactive(children=(Text(value='', description='word'), Button(description='Run Interact', style=ButtonStyle…",
      "application/vnd.jupyter.widget-view+json": {
       "version_major": 2,
       "version_minor": 0,
       "model_id": "4fc7fd579d934ce1bae37638ec7c0c04"
      }
     },
     "metadata": {}
    },
    {
     "output_type": "execute_result",
     "data": {
      "text/plain": [
       "<function __main__.textbox_changed(word: str)>"
      ]
     },
     "metadata": {},
     "execution_count": 25
    }
   ],
   "source": [
    "# Textbox creation\n",
    "word_textbox = ipw.Text(value=\"\", placeholder=\"Search word\", description=\"Word to count:\", disabled=False)\n",
    "\n",
    "songs_count: pd.DataFrame\n",
    "searched_word: str\n",
    "\n",
    "def count_word(word: str, words: List[str]):\n",
    "    words = pd.Series(words)\n",
    "    return len(words[words == word]) / len(words) * 100\n",
    "\n",
    "def count_percentage(word: str, words: List[str]):\n",
    "    words = pd.Series(words)\n",
    "    return len(words[words == word]) / len(words) * 100\n",
    "\n",
    "# Function called when the button is clicked\n",
    "def textbox_changed(word: str):\n",
    "    searched_word = word\n",
    "    word_searched = word.lower().strip()\n",
    "\n",
    "    songs_count = songs\n",
    "    songs_count[\"word_count\"] = songs_count[\"lyrics_keywords\"].map(lambda x: count_word(word, x))\n",
    "    songs_count[\"percentage_of_usage\"] = songs_count[\"lyrics_keywords\"].map(lambda x: count_word(word, x))\n",
    "\n",
    "    songs_count.plot(kind=\"bar\", x=\"year\", y=\"percentage_of_usage\", figsize=(14, 7))\n",
    "\n",
    "# Button interaction\n",
    "ipw.interact_manual(textbox_changed, word=word_textbox.value)"
   ]
  },
  {
   "cell_type": "code",
   "execution_count": null,
   "metadata": {},
   "outputs": [],
   "source": []
  }
 ]
}