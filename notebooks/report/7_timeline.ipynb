{
 "metadata": {
  "language_info": {
   "codemirror_mode": {
    "name": "ipython",
    "version": 3
   },
   "file_extension": ".py",
   "mimetype": "text/x-python",
   "name": "python",
   "nbconvert_exporter": "python",
   "pygments_lexer": "ipython3",
   "version": "3.9.5"
  },
  "orig_nbformat": 2,
  "kernelspec": {
   "name": "python395jvsc74a57bd093ad480a54dfe9bd795c518354d898cb64ee6e6895a3f8c350fb267ef01e64da",
   "display_name": "Python 3.9.5 64-bit (windows store)"
  },
  "metadata": {
   "interpreter": {
    "hash": "93ad480a54dfe9bd795c518354d898cb64ee6e6895a3f8c350fb267ef01e64da"
   }
  }
 },
 "nbformat": 4,
 "nbformat_minor": 2,
 "cells": [
  {
   "source": [
    "# Statistiques dans le temps"
   ],
   "cell_type": "markdown",
   "metadata": {}
  },
  {
   "source": [
    "## Paquets utilisés"
   ],
   "cell_type": "markdown",
   "metadata": {}
  },
  {
   "cell_type": "code",
   "execution_count": 1,
   "metadata": {},
   "outputs": [],
   "source": [
    "import numpy as np\n",
    "import json\n",
    "import datetime\n",
    "import pandas as pd\n",
    "import matplotlib.pyplot as plt\n",
    "import ipywidgets as ipw\n",
    "from wordcloud import WordCloud\n",
    "from typing import List"
   ]
  },
  {
   "source": [
    "## Regroupement des mots par années"
   ],
   "cell_type": "markdown",
   "metadata": {}
  },
  {
   "cell_type": "code",
   "execution_count": 2,
   "metadata": {},
   "outputs": [
    {
     "output_type": "execute_result",
     "data": {
      "text/plain": [
       "    year                                    lyrics_keywords\n",
       "2   1998  [boom, boom, bang, bad, boy, pose, ton, gun, b...\n",
       "3   2000  [hauts-de-seine, alors, comme, ça, on, veut, r...\n",
       "4   2001  [ta-ya, pa, pa-ya, hey, yo, déséquilibre, ta-y...\n",
       "5   2004  [profonde, écriture, comme, faire, un, massage...\n",
       "6   2005  [garde, la, pêche, les, mcs, sont, fauchés, pr...\n",
       "7   2006  [boulouloubi, boulouloubi, bordel, quand, on, ...\n",
       "8   2009  [putain, plus, avance, plus, grandis, plus, co...\n",
       "9   2011  [laisser, la, trace, un, passage, éphémère, di...\n",
       "10  2012  [hé, mais, pourquoi, quand, es, petit, que, es...\n",
       "11  2013  [donne-moi, un, faible, te, ferai, un, fort, d...\n",
       "12  2014  [igo, en, bats, les, couilles, de, ta, vie, te...\n",
       "13  2015  [igo, suis, dans, mon, bat, argent, vient, et,...\n",
       "14  2016  [au, départ, mes, potes, quand, est, plus, éco...\n",
       "15  2017  [oh, ouais, oh, ouais, oh, ouais, oh, ouais, r...\n",
       "16  2018  [depuis, ai, stop, les, grandes, études, jeune...\n",
       "17  2019  [vie, ai, envie, rentrer, la, maison, le, chem...\n",
       "18  2020  [ah, ah, ah, ah, okay, okay, okay, okay, as, b...\n",
       "19  2021  [monnaie, sur, té-c, té-c, bois, le, jack, sec..."
      ],
      "text/html": "<div>\n<style scoped>\n    .dataframe tbody tr th:only-of-type {\n        vertical-align: middle;\n    }\n\n    .dataframe tbody tr th {\n        vertical-align: top;\n    }\n\n    .dataframe thead th {\n        text-align: right;\n    }\n</style>\n<table border=\"1\" class=\"dataframe\">\n  <thead>\n    <tr style=\"text-align: right;\">\n      <th></th>\n      <th>year</th>\n      <th>lyrics_keywords</th>\n    </tr>\n  </thead>\n  <tbody>\n    <tr>\n      <th>2</th>\n      <td>1998</td>\n      <td>[boom, boom, bang, bad, boy, pose, ton, gun, b...</td>\n    </tr>\n    <tr>\n      <th>3</th>\n      <td>2000</td>\n      <td>[hauts-de-seine, alors, comme, ça, on, veut, r...</td>\n    </tr>\n    <tr>\n      <th>4</th>\n      <td>2001</td>\n      <td>[ta-ya, pa, pa-ya, hey, yo, déséquilibre, ta-y...</td>\n    </tr>\n    <tr>\n      <th>5</th>\n      <td>2004</td>\n      <td>[profonde, écriture, comme, faire, un, massage...</td>\n    </tr>\n    <tr>\n      <th>6</th>\n      <td>2005</td>\n      <td>[garde, la, pêche, les, mcs, sont, fauchés, pr...</td>\n    </tr>\n    <tr>\n      <th>7</th>\n      <td>2006</td>\n      <td>[boulouloubi, boulouloubi, bordel, quand, on, ...</td>\n    </tr>\n    <tr>\n      <th>8</th>\n      <td>2009</td>\n      <td>[putain, plus, avance, plus, grandis, plus, co...</td>\n    </tr>\n    <tr>\n      <th>9</th>\n      <td>2011</td>\n      <td>[laisser, la, trace, un, passage, éphémère, di...</td>\n    </tr>\n    <tr>\n      <th>10</th>\n      <td>2012</td>\n      <td>[hé, mais, pourquoi, quand, es, petit, que, es...</td>\n    </tr>\n    <tr>\n      <th>11</th>\n      <td>2013</td>\n      <td>[donne-moi, un, faible, te, ferai, un, fort, d...</td>\n    </tr>\n    <tr>\n      <th>12</th>\n      <td>2014</td>\n      <td>[igo, en, bats, les, couilles, de, ta, vie, te...</td>\n    </tr>\n    <tr>\n      <th>13</th>\n      <td>2015</td>\n      <td>[igo, suis, dans, mon, bat, argent, vient, et,...</td>\n    </tr>\n    <tr>\n      <th>14</th>\n      <td>2016</td>\n      <td>[au, départ, mes, potes, quand, est, plus, éco...</td>\n    </tr>\n    <tr>\n      <th>15</th>\n      <td>2017</td>\n      <td>[oh, ouais, oh, ouais, oh, ouais, oh, ouais, r...</td>\n    </tr>\n    <tr>\n      <th>16</th>\n      <td>2018</td>\n      <td>[depuis, ai, stop, les, grandes, études, jeune...</td>\n    </tr>\n    <tr>\n      <th>17</th>\n      <td>2019</td>\n      <td>[vie, ai, envie, rentrer, la, maison, le, chem...</td>\n    </tr>\n    <tr>\n      <th>18</th>\n      <td>2020</td>\n      <td>[ah, ah, ah, ah, okay, okay, okay, okay, as, b...</td>\n    </tr>\n    <tr>\n      <th>19</th>\n      <td>2021</td>\n      <td>[monnaie, sur, té-c, té-c, bois, le, jack, sec...</td>\n    </tr>\n  </tbody>\n</table>\n</div>"
     },
     "metadata": {},
     "execution_count": 2
    }
   ],
   "source": [
    "songs = pd.read_json(\"./datas/songs.json\")\n",
    "\n",
    "songs[\"year\"] = songs[\"date\"].map(lambda x: datetime.datetime.strptime(x, \"%Y-%m-%dT%H:%M:%S\").year)\n",
    "\n",
    "songs.sort_values(\"year\", ascending=False, inplace=True)\n",
    "\n",
    "songs[\"words\"] = songs[\"lyrics_keywords\"].map(lambda x: x.split(\" \"))\n",
    "\n",
    "songs = pd.DataFrame(songs.groupby(\"year\")[\"lyrics_keywords\"].apply(list))\n",
    "\n",
    "songs[\"lyrics_keywords\"] = songs[\"lyrics_keywords\"].str.join(\" \")\n",
    "songs[\"lyrics_keywords\"] = songs[\"lyrics_keywords\"].apply(lambda x: x.split(\" \"))\n",
    "\n",
    "songs = songs.reset_index()\n",
    "\n",
    "songs = songs[songs[\"year\"] > 1900]\n",
    "\n",
    "songs"
   ]
  },
  {
   "source": [
    "## Affichages de l'utilisation d'un mot par années"
   ],
   "cell_type": "markdown",
   "metadata": {}
  },
  {
   "cell_type": "code",
   "execution_count": 3,
   "metadata": {},
   "outputs": [
    {
     "output_type": "display_data",
     "data": {
      "text/plain": "interactive(children=(Text(value='', description='word'), Button(description='Run Interact', style=ButtonStyle…",
      "application/vnd.jupyter.widget-view+json": {
       "version_major": 2,
       "version_minor": 0,
       "model_id": "967a215b98da4396abd18e495cd288e3"
      }
     },
     "metadata": {}
    },
    {
     "output_type": "execute_result",
     "data": {
      "text/plain": [
       "<function __main__.textbox_changed(word: str)>"
      ]
     },
     "metadata": {},
     "execution_count": 3
    }
   ],
   "source": [
    "# Textbox creation\n",
    "word_textbox = ipw.Text(value=\"\", placeholder=\"Search word\", description=\"Word to count:\", disabled=False)\n",
    "\n",
    "songs_count: pd.DataFrame\n",
    "searched_word: str\n",
    "\n",
    "def count_word(word: str, words: List[str]):\n",
    "    words = pd.Series(words)\n",
    "    return len(words[words == word]) / len(words) * 100\n",
    "\n",
    "def count_percentage(word: str, words: List[str]):\n",
    "    words = pd.Series(words)\n",
    "    return len(words[words == word]) / len(words) * 100\n",
    "\n",
    "# Function called when the button is clicked\n",
    "def textbox_changed(word: str):\n",
    "    searched_word = word\n",
    "    word_searched = word.lower().strip()\n",
    "\n",
    "    songs_count = songs\n",
    "    songs_count[\"word_count\"] = songs_count[\"lyrics_keywords\"].map(lambda x: count_word(word, x))\n",
    "    songs_count[\"percentage_of_usage\"] = songs_count[\"lyrics_keywords\"].map(lambda x: count_word(word, x))\n",
    "\n",
    "    songs_count.plot(kind=\"bar\", x=\"year\", y=\"percentage_of_usage\", figsize=(14, 7))\n",
    "\n",
    "# Button interaction\n",
    "ipw.interact_manual(textbox_changed, word=word_textbox.value)"
   ]
  }
 ]
}