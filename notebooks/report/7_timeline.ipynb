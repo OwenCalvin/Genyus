{
 "metadata": {
  "language_info": {
   "codemirror_mode": {
    "name": "ipython",
    "version": 3
   },
   "file_extension": ".py",
   "mimetype": "text/x-python",
   "name": "python",
   "nbconvert_exporter": "python",
   "pygments_lexer": "ipython3",
   "version": "3.9.4"
  },
  "orig_nbformat": 2,
  "kernelspec": {
   "name": "python394jvsc74a57bd0aee8b7b246df8f9039afb4144a1f6fd8d2ca17a180786b69acc140d282b71a49",
   "display_name": "Python 3.9.4 64-bit"
  },
  "metadata": {
   "interpreter": {
    "hash": "aee8b7b246df8f9039afb4144a1f6fd8d2ca17a180786b69acc140d282b71a49"
   }
  }
 },
 "nbformat": 4,
 "nbformat_minor": 2,
 "cells": [
  {
   "source": [
    "# Statistiques dans le temps"
   ],
   "cell_type": "markdown",
   "metadata": {}
  },
  {
   "source": [
    "## Paquets utilisés"
   ],
   "cell_type": "markdown",
   "metadata": {}
  },
  {
   "cell_type": "code",
   "execution_count": 4,
   "metadata": {},
   "outputs": [],
   "source": [
    "import numpy as np\n",
    "import json\n",
    "import pandas as pd\n",
    "import matplotlib.pyplot as plt\n",
    "import ipywidgets as ipw\n",
    "from wordcloud import WordCloud\n",
    "from typing import List"
   ]
  },
  {
   "source": [
    "## Regroupement des mots par années"
   ],
   "cell_type": "markdown",
   "metadata": {}
  },
  {
   "cell_type": "code",
   "execution_count": 5,
   "metadata": {},
   "outputs": [
    {
     "output_type": "execute_result",
     "data": {
      "text/plain": [
       "    year                                    lyrics_keywords\n",
       "0   1900  [bouteille, absinthe, tous, illicites, dans, l...\n",
       "1   1997  [depuis, mon, plus, jeune, âge, je, rêve, de, ...\n",
       "2   1998  [est, le, nouveau, phénoménal, freestyle, du, ...\n",
       "3   1999  [je, suis, le, mec, on, appelle, mystik, mysti...\n",
       "4   2000  [re-noi, ai, reçu, ta, lettre, du, dehors, tou...\n",
       "5   2001  [on, appelle, lim, suis, marié, la, rue, que, ...\n",
       "6   2002  [braquage, vocal, visage, découvert, plus, rie...\n",
       "7   2003  [la, place, un, père, la, place, une, mère, da...\n",
       "8   2004  [que, des, numéros, dans, ma, team, négro, att...\n",
       "9   2005  [garde, la, pêche, les, mcs, sont, fauchés, pr...\n",
       "10  2006  [savoure, savoure, savoure, kamelancien, est, ...\n",
       "11  2007  [tous, les, jours, je, taffe, dur, tous, les, ...\n",
       "12  2008  [ai, proposé, mille, en, as, voulu, dix, mille...\n",
       "13  2009  [des, hormones, de, dos, argenté, constatent, ...\n",
       "14  2010  [tu, sais, bien, ce, qui, brisé, nos, chaines,...\n",
       "15  2011  [ok, salam, aleyk, wesh, malfait, comment, tu,...\n",
       "16  2012  [ok, soninké, yankee, alpha, fox-deux-fois, al...\n",
       "17  2013  [fais, des, millions, fais, des, millions, sui...\n",
       "18  2014  [aïe, aïe, aïe, yougataga, mister, you, jul, v...\n",
       "19  2015  [avant, de, toucher, ma, tite-pe, il, faudra, ...\n",
       "20  2016  [fais, les, ronds, fais, les, ronds, fais, les...\n",
       "21  2017  [la, vie, de, rêve, mes, habits, sont, chers, ...\n",
       "22  2018  [quelques, mois, plus, tard, il, est, du, mat,...\n",
       "23  2019  [noxious, oh, yeah, capitaine, capitaine, capi...\n",
       "24  2020  [eh, ouh, ouh, ouh, ouh, ouh, ouh, ouh, ouh, o...\n",
       "25  2021  [askip, je, fais, pas, du, rap, moi, décris, l..."
      ],
      "text/html": "<div>\n<style scoped>\n    .dataframe tbody tr th:only-of-type {\n        vertical-align: middle;\n    }\n\n    .dataframe tbody tr th {\n        vertical-align: top;\n    }\n\n    .dataframe thead th {\n        text-align: right;\n    }\n</style>\n<table border=\"1\" class=\"dataframe\">\n  <thead>\n    <tr style=\"text-align: right;\">\n      <th></th>\n      <th>year</th>\n      <th>lyrics_keywords</th>\n    </tr>\n  </thead>\n  <tbody>\n    <tr>\n      <th>0</th>\n      <td>1900</td>\n      <td>[bouteille, absinthe, tous, illicites, dans, l...</td>\n    </tr>\n    <tr>\n      <th>1</th>\n      <td>1997</td>\n      <td>[depuis, mon, plus, jeune, âge, je, rêve, de, ...</td>\n    </tr>\n    <tr>\n      <th>2</th>\n      <td>1998</td>\n      <td>[est, le, nouveau, phénoménal, freestyle, du, ...</td>\n    </tr>\n    <tr>\n      <th>3</th>\n      <td>1999</td>\n      <td>[je, suis, le, mec, on, appelle, mystik, mysti...</td>\n    </tr>\n    <tr>\n      <th>4</th>\n      <td>2000</td>\n      <td>[re-noi, ai, reçu, ta, lettre, du, dehors, tou...</td>\n    </tr>\n    <tr>\n      <th>5</th>\n      <td>2001</td>\n      <td>[on, appelle, lim, suis, marié, la, rue, que, ...</td>\n    </tr>\n    <tr>\n      <th>6</th>\n      <td>2002</td>\n      <td>[braquage, vocal, visage, découvert, plus, rie...</td>\n    </tr>\n    <tr>\n      <th>7</th>\n      <td>2003</td>\n      <td>[la, place, un, père, la, place, une, mère, da...</td>\n    </tr>\n    <tr>\n      <th>8</th>\n      <td>2004</td>\n      <td>[que, des, numéros, dans, ma, team, négro, att...</td>\n    </tr>\n    <tr>\n      <th>9</th>\n      <td>2005</td>\n      <td>[garde, la, pêche, les, mcs, sont, fauchés, pr...</td>\n    </tr>\n    <tr>\n      <th>10</th>\n      <td>2006</td>\n      <td>[savoure, savoure, savoure, kamelancien, est, ...</td>\n    </tr>\n    <tr>\n      <th>11</th>\n      <td>2007</td>\n      <td>[tous, les, jours, je, taffe, dur, tous, les, ...</td>\n    </tr>\n    <tr>\n      <th>12</th>\n      <td>2008</td>\n      <td>[ai, proposé, mille, en, as, voulu, dix, mille...</td>\n    </tr>\n    <tr>\n      <th>13</th>\n      <td>2009</td>\n      <td>[des, hormones, de, dos, argenté, constatent, ...</td>\n    </tr>\n    <tr>\n      <th>14</th>\n      <td>2010</td>\n      <td>[tu, sais, bien, ce, qui, brisé, nos, chaines,...</td>\n    </tr>\n    <tr>\n      <th>15</th>\n      <td>2011</td>\n      <td>[ok, salam, aleyk, wesh, malfait, comment, tu,...</td>\n    </tr>\n    <tr>\n      <th>16</th>\n      <td>2012</td>\n      <td>[ok, soninké, yankee, alpha, fox-deux-fois, al...</td>\n    </tr>\n    <tr>\n      <th>17</th>\n      <td>2013</td>\n      <td>[fais, des, millions, fais, des, millions, sui...</td>\n    </tr>\n    <tr>\n      <th>18</th>\n      <td>2014</td>\n      <td>[aïe, aïe, aïe, yougataga, mister, you, jul, v...</td>\n    </tr>\n    <tr>\n      <th>19</th>\n      <td>2015</td>\n      <td>[avant, de, toucher, ma, tite-pe, il, faudra, ...</td>\n    </tr>\n    <tr>\n      <th>20</th>\n      <td>2016</td>\n      <td>[fais, les, ronds, fais, les, ronds, fais, les...</td>\n    </tr>\n    <tr>\n      <th>21</th>\n      <td>2017</td>\n      <td>[la, vie, de, rêve, mes, habits, sont, chers, ...</td>\n    </tr>\n    <tr>\n      <th>22</th>\n      <td>2018</td>\n      <td>[quelques, mois, plus, tard, il, est, du, mat,...</td>\n    </tr>\n    <tr>\n      <th>23</th>\n      <td>2019</td>\n      <td>[noxious, oh, yeah, capitaine, capitaine, capi...</td>\n    </tr>\n    <tr>\n      <th>24</th>\n      <td>2020</td>\n      <td>[eh, ouh, ouh, ouh, ouh, ouh, ouh, ouh, ouh, o...</td>\n    </tr>\n    <tr>\n      <th>25</th>\n      <td>2021</td>\n      <td>[askip, je, fais, pas, du, rap, moi, décris, l...</td>\n    </tr>\n  </tbody>\n</table>\n</div>"
     },
     "metadata": {},
     "execution_count": 5
    }
   ],
   "source": [
    "songs = pd.read_json(\"./datas/songs.json\")\n",
    "\n",
    "songs[\"year\"] = songs[\"date\"].map(lambda x: x.year)\n",
    "\n",
    "songs.sort_values(\"year\", ascending=False, inplace=True)\n",
    "\n",
    "songs[\"words\"] = songs[\"lyrics_keywords\"].map(lambda x: x.split(\" \"))\n",
    "\n",
    "songs = pd.DataFrame(songs.groupby(\"year\")[\"lyrics_keywords\"].apply(list))\n",
    "\n",
    "songs[\"lyrics_keywords\"] = songs[\"lyrics_keywords\"].str.join(\" \")\n",
    "songs[\"lyrics_keywords\"] = songs[\"lyrics_keywords\"].apply(lambda x: x.split(\" \"))\n",
    "\n",
    "songs = songs.reset_index()\n",
    "\n",
    "songs"
   ]
  },
  {
   "source": [
    "## Affichages de l'utilisation d'un mot par années"
   ],
   "cell_type": "markdown",
   "metadata": {}
  },
  {
   "cell_type": "code",
   "execution_count": 6,
   "metadata": {},
   "outputs": [
    {
     "output_type": "display_data",
     "data": {
      "text/plain": "interactive(children=(Text(value='', description='word'), Button(description='Run Interact', style=ButtonStyle…",
      "application/vnd.jupyter.widget-view+json": {
       "version_major": 2,
       "version_minor": 0,
       "model_id": "0a5ce888b12940d0898e67cc9aad2ba8"
      }
     },
     "metadata": {}
    },
    {
     "output_type": "execute_result",
     "data": {
      "text/plain": [
       "<function __main__.textbox_changed(word: str)>"
      ]
     },
     "metadata": {},
     "execution_count": 6
    }
   ],
   "source": [
    "# Textbox creation\n",
    "word_textbox = ipw.Text(value=\"\", placeholder=\"Search word\", description=\"Word to count:\", disabled=False)\n",
    "\n",
    "songs_count: pd.DataFrame\n",
    "searched_word: str\n",
    "\n",
    "def count_word(word: str, words: List[str]):\n",
    "    words = pd.Series(words)\n",
    "    return len(words[words == word]) / len(words) * 100\n",
    "\n",
    "def count_percentage(word: str, words: List[str]):\n",
    "    words = pd.Series(words)\n",
    "    return len(words[words == word]) / len(words) * 100\n",
    "\n",
    "# Function called when the button is clicked\n",
    "def textbox_changed(word: str):\n",
    "    searched_word = word\n",
    "    word_searched = word.lower().strip()\n",
    "\n",
    "    songs_count = songs\n",
    "    songs_count[\"word_count\"] = songs_count[\"lyrics_keywords\"].map(lambda x: count_word(word, x))\n",
    "    songs_count[\"percentage_of_usage\"] = songs_count[\"lyrics_keywords\"].map(lambda x: count_word(word, x))\n",
    "\n",
    "    songs_count.plot(kind=\"bar\", x=\"year\", y=\"percentage_of_usage\", figsize=(14, 7))\n",
    "\n",
    "# Button interaction\n",
    "ipw.interact_manual(textbox_changed, word=word_textbox.value)"
   ]
  },
  {
   "cell_type": "code",
   "execution_count": null,
   "metadata": {},
   "outputs": [],
   "source": []
  }
 ]
}