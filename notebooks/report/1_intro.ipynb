{
 "metadata": {
  "language_info": {
   "codemirror_mode": {
    "name": "ipython",
    "version": 3
   },
   "file_extension": ".py",
   "mimetype": "text/x-python",
   "name": "python",
   "nbconvert_exporter": "python",
   "pygments_lexer": "ipython3",
   "version": "3.8.5"
  },
  "orig_nbformat": 2,
  "kernelspec": {
   "name": "python385jvsc74a57bd0fe6d48a06cf1965613c5c4b5d21b1182ca2e59212f354219b1b23c436410da45",
   "display_name": "Python 3.8.5 64-bit ('base': conda)"
  }
 },
 "nbformat": 4,
 "nbformat_minor": 2,
 "cells": [
  {
   "source": [
    "# Introduction\n",
    "\n",
    "C’est dans le cadre de notre cours de python (1242.4 PYTHON) que nous avons effectué ce projet. L’objectif du travail était de prendre en main le langage python et d’avoir une première introduction à l’analyse de données grâce aux outils fournis par le langage. Mais également une prise en main de l’utilisation de notebooks jupyter pour la mise en place du projet.\n",
    "\n",
    "En ce qui concerne le travail en lui-même, notre projet est un outil d’analyse du “vocabulaire” utilisé dans le rap francophone. Pour être plus précis, on va analyser les paroles d’un échantillon de chansons de rap francophones de ces 20-30 dernières années et les utiliser pour effectuer plusieurs statistiques. Nous avons dans un premier temps délibérément choisi de nous limiter uniquement à des musiques de rap car selon nous, c'est le genre de musique qui jouïe de la plus grande diversité de langage et qui a le plus évolué dans le temps durant ces dernière années.\n",
    "\n",
    "Exemples de statistiques:\n",
    "\n",
    "    1) Afficher les mots français les plus utilisés, les mots anglais les plus utilisés mais également les mots les plus utilisés du jargon qui ne figure pas officiellement dans le dictionnaire français.\n",
    "    2) Analyse de quels artistes à les textes les plus variés en termes de vocabulaire.\n",
    "    3) Le pourcentage d’utilisation d’un mot particulier sur l’ensemble des chansons ou encore son pourcentage d’utilisation au cours des différentes années. \n",
    "\n",
    "<br><br>\n",
    "\n",
    "# API et services utilisés\n",
    "\n",
    "En ce qui concerne le choix de notre échantillon nous avons effectué une playlist avec un total de 1847 titres différents pour un total de 109h50min de chanson en continue. Nous avons ensuite exporté le nom des musiques et les artistes qui leurs sont associés en un fichier texte, qui sera utilisé pour la récupération des données. Une partie seulement de toutes les chansons seront utilisés en raison de l’API utilisé (cf CHAPITRE).\n",
    "Afin de récupérer les données nécessaires au projet, nous avons besoin de : \n",
    "\n",
    "\n",
    "## 1) [Spotify](https://www.spotify.com/fr/)\n",
    "Grâce Spotify on va facilement pouvoir regrouper les chansons qui nous intéresse.\n",
    "La playlist utilisé dans le cadre du projet : https://open.spotify.com/playlist/3bp6rWaNssiLhZP431bkU7?si=a5f19a02267a4101\n",
    "<br>\n",
    "\n",
    "## 2) [Tune My Music](https://www.tunemymusic.com/fr/Spotify-to-File.php)\n",
    "Ce site permet d'exporter une playlist dans un fichier texte simple au format:\n",
    "```\n",
    "Artist - Titre 1\n",
    "Artist - Titre 2\n",
    "Artist 2 - Titre 2.2\n",
    "```\n",
    "## 3) [Genius](https://genius.com)\n",
    "Genius est un site fournissant les paroles de musiques, et c'est l'API de ce site que l'on a utilisé afin d'obtenir des information relative à la musique.\n",
    "\n",
    "### Fonctionnalités de l'API\n",
    "Nous avons principalement utilisé que deux fonctionnalités de l'API:\n",
    "- Recherche globale de musiques, d'artistes ou d'albums\n",
    "- Récupération des informations d'une musique, d'un artiste ou d'un album\n",
    "\n",
    "### Récupération des paroles\n",
    "Malhereusement l'API ne nous fournit pas la possibilité d'obtenir les paroles, on va devoir \"scraper\" les données avec `beautifulsoup` qui est un module python.\n",
    "\n",
    "<br><br>\n",
    "\n",
    "# Statistiques principales\n",
    "\n",
    "\n",
    "\n",
    "\n",
    "\n",
    "\n"
   ],
   "cell_type": "markdown",
   "metadata": {}
  },
  {
   "cell_type": "code",
   "execution_count": 1,
   "metadata": {},
   "outputs": [],
   "source": []
  }
 ]
}