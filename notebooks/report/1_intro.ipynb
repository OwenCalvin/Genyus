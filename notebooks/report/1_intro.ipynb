{
 "metadata": {
  "language_info": {
   "codemirror_mode": {
    "name": "ipython",
    "version": 3
   },
   "file_extension": ".py",
   "mimetype": "text/x-python",
   "name": "python",
   "nbconvert_exporter": "python",
   "pygments_lexer": "ipython3",
   "version": "3.8.5"
  },
  "orig_nbformat": 2,
  "kernelspec": {
   "name": "python385jvsc74a57bd06af4a7e200b8c217d7973e6d50269a6a4daca88db886ecffdbbac6a0247262d4",
   "display_name": "Python 3.8.5 64-bit ('base': conda)"
  }
 },
 "nbformat": 4,
 "nbformat_minor": 2,
 "cells": [
  {
   "source": [
    "# Introduction\n",
    "Nous avons pour objectif de créer un projet analysant les paroles de musiques française, nous avons délibérément choisi d'analyser uniquement des musiques de rap car selon nous, c'est le genre de musique qui jouïe de la plus grande diversité de langage et qui a le plus évolué dans le temps durant ces dernière années.\n",
    "\n",
    "# API et services utilisés\n",
    "Afin de récupérer les données nécessaires au projet, nous avons besoin de [Spotify](spotify.com), un exporteur de playlist Spotify ainsi que de [Genius](genius.com)\n",
    "\n",
    "## Spotify\n",
    "Grâce Spotify on va facilement pouvoir séléctionner des playlist faites par les utilisateurs regroupant les sons qui nous intéresse  \n",
    "[Playlist 1](https://open.spotify.com/playlist/2dRYCqtniv09ode7AL2zUL?si=knUcJ9SmS7yG7jF1Un073w)\n",
    "\n",
    "## [Tune My Music](https://www.tunemymusic.com/fr/Spotify-to-File.php)\n",
    "Ce site permet d'exporter une playlist dans un fichier texte simple au format:\n",
    "```\n",
    "Artist - Titre 1\n",
    "Artist - Titre 2\n",
    "Artist 2 - Titre 2.2\n",
    "```\n",
    "\n",
    "## Genius\n",
    "Genius est un site fournissant les paroles de musiques, et c'est l'API de ce site que l'on a utilisé afin d'obtenir des information relative à la musique\n",
    "\n",
    "### Fonctionnalités de l'API\n",
    "Nous avons principalement utilisé que deux fonctionnalités de l'API:\n",
    "- Recherche globale de musiques, d'artistes ou d'albums\n",
    "- Récupération des informations d'une musique, d'un artiste ou d'un album\n",
    "\n",
    "### Récupération des paroles\n",
    "Malhereusement l'API ne nous fournit pas la possibilité d'obtenir les paroles, on va devoir \"scraper\" les données avec `beautifulsoup` qui est un module python\n"
   ],
   "cell_type": "markdown",
   "metadata": {}
  }
 ]
}