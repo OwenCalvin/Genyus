{
 "metadata": {
  "language_info": {
   "codemirror_mode": {
    "name": "ipython",
    "version": 3
   },
   "file_extension": ".py",
   "mimetype": "text/x-python",
   "name": "python",
   "nbconvert_exporter": "python",
   "pygments_lexer": "ipython3",
   "version": "3.9.4"
  },
  "orig_nbformat": 2,
  "kernelspec": {
   "name": "python394jvsc74a57bd0aee8b7b246df8f9039afb4144a1f6fd8d2ca17a180786b69acc140d282b71a49",
   "display_name": "Python 3.9.4 64-bit"
  },
  "metadata": {
   "interpreter": {
    "hash": "aee8b7b246df8f9039afb4144a1f6fd8d2ca17a180786b69acc140d282b71a49"
   }
  }
 },
 "nbformat": 4,
 "nbformat_minor": 2,
 "cells": [
  {
   "source": [
    "# Clean de la liste des musiques avant récupération"
   ],
   "cell_type": "markdown",
   "metadata": {}
  },
  {
   "source": [
    "## Paquets utilisés"
   ],
   "cell_type": "markdown",
   "metadata": {}
  },
  {
   "cell_type": "code",
   "execution_count": 37,
   "metadata": {},
   "outputs": [],
   "source": [
    "import pandas as pd"
   ]
  },
  {
   "source": [
    "## Suppression des doublons"
   ],
   "cell_type": "markdown",
   "metadata": {}
  },
  {
   "cell_type": "code",
   "execution_count": 38,
   "metadata": {},
   "outputs": [
    {
     "output_type": "stream",
     "name": "stdout",
     "text": [
      "Removing duplicated songs... \n\n\nBefore \n 0            Médine - Grand Paris\n1                 Dabs - Ouloulou\n2                  Vald - Bonjour\n3     Damso - Ι. Peur d'être père\n4    Djadja & Dinaz - Déstabilisé\ndtype: object \n ... \n\n\nAfter \n 0            Médine - Grand Paris\n1                 Dabs - Ouloulou\n2                  Vald - Bonjour\n3     Damso - Ι. Peur d'être père\n4    Djadja & Dinaz - Déstabilisé\ndtype: object \n ...\n"
     ]
    }
   ],
   "source": [
    "print(\"Removing duplicated songs...\", \"\\n\\n\")\n",
    "\n",
    "with open(\"./datas/songs.txt\", \"r\", encoding=\"utf8\") as file:\n",
    "    songs_inputs = file.read().splitlines()\n",
    "    songs = pd.Series(songs_inputs)\n",
    "\n",
    "    print(\"Before\", \"\\n\", songs[:5], \"\\n\", \"...\", \"\\n\\n\")\n",
    "    \n",
    "    songs.drop_duplicates(inplace=True)\n",
    "\n",
    "    print(\"After\", \"\\n\", songs[:5], \"\\n\", \"...\")\n",
    "\n",
    "    with open(\"./datas/songs.txt\", \"w\", encoding=\"utf8\") as file:\n",
    "        file.write(\"\\n\".join(songs))\n",
    "        file.close()\n",
    "\n",
    "    file.close()"
   ]
  }
 ]
}