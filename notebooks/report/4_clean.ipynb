{
 "metadata": {
  "language_info": {
   "codemirror_mode": {
    "name": "ipython",
    "version": 3
   },
   "file_extension": ".py",
   "mimetype": "text/x-python",
   "name": "python",
   "nbconvert_exporter": "python",
   "pygments_lexer": "ipython3",
   "version": "3.9.5"
  },
  "orig_nbformat": 2,
  "kernelspec": {
   "name": "python395jvsc74a57bd093ad480a54dfe9bd795c518354d898cb64ee6e6895a3f8c350fb267ef01e64da",
   "display_name": "Python 3.9.5 64-bit (windows store)"
  },
  "metadata": {
   "interpreter": {
    "hash": "93ad480a54dfe9bd795c518354d898cb64ee6e6895a3f8c350fb267ef01e64da"
   }
  }
 },
 "nbformat": 4,
 "nbformat_minor": 2,
 "cells": [
  {
   "source": [
    "# Clean des sons après récupération"
   ],
   "cell_type": "markdown",
   "metadata": {}
  },
  {
   "source": [
    "## Paquets utilisés"
   ],
   "cell_type": "markdown",
   "metadata": {}
  },
  {
   "cell_type": "code",
   "execution_count": 12,
   "metadata": {},
   "outputs": [],
   "source": [
    "import json\n",
    "import re\n",
    "import pandas as pd\n",
    "from typing import List"
   ]
  },
  {
   "cell_type": "code",
   "execution_count": 13,
   "metadata": {},
   "outputs": [],
   "source": [
    "input_path = \"./datas/api_songs.json\"\n",
    "output_path = \"./datas/clean_songs.json\""
   ]
  },
  {
   "cell_type": "code",
   "execution_count": 14,
   "metadata": {},
   "outputs": [
    {
     "output_type": "stream",
     "name": "stdout",
     "text": [
      "With 1830 songs, Genius provided 1268 correct songs\nWe keep 69.29% of the songs\n"
     ]
    },
    {
     "output_type": "execute_result",
     "data": {
      "text/plain": [
       "           id                   name                                  album  \\\n",
       "0     6408722            F*cked Up 4  {'name': 'MYSTR J.O.$', 'id': 726527}   \n",
       "1     6408724                   Doré  {'name': 'MYSTR J.O.$', 'id': 726527}   \n",
       "2     6408725              Décisions  {'name': 'MYSTR J.O.$', 'id': 726527}   \n",
       "3     6408726                    SEC  {'name': 'MYSTR J.O.$', 'id': 726527}   \n",
       "4     6408727  New Hares (Same Sh!t)  {'name': 'MYSTR J.O.$', 'id': 726527}   \n",
       "...       ...                    ...                                    ...   \n",
       "1813  6708599                 Follow      {'name': 'Mektoub', 'id': 760403}   \n",
       "1815  6708601                Turn Up      {'name': 'Mektoub', 'id': 760403}   \n",
       "1816  6708602                  Gâtée      {'name': 'Mektoub', 'id': 760403}   \n",
       "1817  6708603               Week-end      {'name': 'Mektoub', 'id': 760403}   \n",
       "1820  6679804       4x4 Diplomatique      {'name': 'Mektoub', 'id': 760403}   \n",
       "\n",
       "                                                 artist  \\\n",
       "0     {'name': 'Josman', 'id': 153477, 'url': 'https...   \n",
       "1     {'name': 'Josman', 'id': 153477, 'url': 'https...   \n",
       "2     {'name': 'Josman', 'id': 153477, 'url': 'https...   \n",
       "3     {'name': 'Josman', 'id': 153477, 'url': 'https...   \n",
       "4     {'name': 'Josman', 'id': 153477, 'url': 'https...   \n",
       "...                                                 ...   \n",
       "1813  {'name': 'Di-Meh', 'id': 60891, 'url': 'https:...   \n",
       "1815  {'name': 'Di-Meh', 'id': 60891, 'url': 'https:...   \n",
       "1816  {'name': 'Di-Meh', 'id': 60891, 'url': 'https:...   \n",
       "1817  {'name': 'Di-Meh', 'id': 60891, 'url': 'https:...   \n",
       "1820  {'name': 'Di-Meh', 'id': 60891, 'url': 'https:...   \n",
       "\n",
       "                                                  image  \\\n",
       "0     https://images.genius.com/5d1737204d5b010efc28...   \n",
       "1     https://images.genius.com/b6488c411877313d186d...   \n",
       "2     https://images.genius.com/b6488c411877313d186d...   \n",
       "3     https://images.genius.com/b6488c411877313d186d...   \n",
       "4     https://images.genius.com/b6488c411877313d186d...   \n",
       "...                                                 ...   \n",
       "1813  https://images.genius.com/691df6a4289d4b326502...   \n",
       "1815  https://images.genius.com/691df6a4289d4b326502...   \n",
       "1816  https://images.genius.com/691df6a4289d4b326502...   \n",
       "1817  https://images.genius.com/691df6a4289d4b326502...   \n",
       "1820  https://images.genius.com/ea3d2df0059116a8acaa...   \n",
       "\n",
       "                                                    url  \\\n",
       "0           https://genius.com/Josman-fcked-up-4-lyrics   \n",
       "1                 https://genius.com/Josman-dore-lyrics   \n",
       "2            https://genius.com/Josman-decisions-lyrics   \n",
       "3                  https://genius.com/Josman-sec-lyrics   \n",
       "4     https://genius.com/Josman-new-hares-same-sh-t-...   \n",
       "...                                                 ...   \n",
       "1813            https://genius.com/Di-meh-follow-lyrics   \n",
       "1815           https://genius.com/Di-meh-turn-up-lyrics   \n",
       "1816             https://genius.com/Di-meh-gatee-lyrics   \n",
       "1817          https://genius.com/Di-meh-week-end-lyrics   \n",
       "1820  https://genius.com/Di-meh-4x4-diplomatique-lyrics   \n",
       "\n",
       "                                        original_lyrics                 date  \\\n",
       "0     [Paroles de \"F*cked Up 4\"] [Intro] J.O.S J.O.S...  2021-01-28T00:00:00   \n",
       "1     [Paroles de \"Doré\"] [Refrain] Le ciel est doré...  2021-01-29T00:00:00   \n",
       "2     [Paroles de \"Décisions\"] [Couplet 1] J'peux pa...  2021-01-29T00:00:00   \n",
       "3     [Paroles de \"SEC\"] [Intro] Sec comme le miel, ...  2021-01-29T00:00:00   \n",
       "4     [Paroles de \"New Hares (Same Sh!t)\"] [Couplet ...  2021-01-29T00:00:00   \n",
       "...                                                 ...                  ...   \n",
       "1813  [Paroles de \"Follow\"] [Refrain] Ouais j'y vais...  2021-05-14T00:00:00   \n",
       "1815  [Paroles de \"Turn Up\"] [Intro] Hmm Yeah Hmm [R...  2021-05-14T00:00:00   \n",
       "1816  [Paroles de \"Gâtée\"] [Refrain] Dis-moi pourquo...  2021-05-14T00:00:00   \n",
       "1817  [Paroles de \"Week-end\" ft. Klench Poko] RETRAN...  2021-05-14T00:00:00   \n",
       "1820  [Paroles de \"4x4 Diplomatique\"] [Intro] Di-Meh...  2021-04-08T00:00:00   \n",
       "\n",
       "                               query  \n",
       "0               josman - f*cked up 4  \n",
       "1                      josman - doré  \n",
       "2                 josman - décisions  \n",
       "3                       josman - sec  \n",
       "4     josman - new hares (same sh!t)  \n",
       "...                              ...  \n",
       "1813                 di-meh - follow  \n",
       "1815                di-meh - turn up  \n",
       "1816                  di-meh - gâtée  \n",
       "1817               di-meh - week-end  \n",
       "1820       di-meh - 4x4 diplomatique  \n",
       "\n",
       "[1268 rows x 9 columns]"
      ],
      "text/html": "<div>\n<style scoped>\n    .dataframe tbody tr th:only-of-type {\n        vertical-align: middle;\n    }\n\n    .dataframe tbody tr th {\n        vertical-align: top;\n    }\n\n    .dataframe thead th {\n        text-align: right;\n    }\n</style>\n<table border=\"1\" class=\"dataframe\">\n  <thead>\n    <tr style=\"text-align: right;\">\n      <th></th>\n      <th>id</th>\n      <th>name</th>\n      <th>album</th>\n      <th>artist</th>\n      <th>image</th>\n      <th>url</th>\n      <th>original_lyrics</th>\n      <th>date</th>\n      <th>query</th>\n    </tr>\n  </thead>\n  <tbody>\n    <tr>\n      <th>0</th>\n      <td>6408722</td>\n      <td>F*cked Up 4</td>\n      <td>{'name': 'MYSTR J.O.$', 'id': 726527}</td>\n      <td>{'name': 'Josman', 'id': 153477, 'url': 'https...</td>\n      <td>https://images.genius.com/5d1737204d5b010efc28...</td>\n      <td>https://genius.com/Josman-fcked-up-4-lyrics</td>\n      <td>[Paroles de \"F*cked Up 4\"] [Intro] J.O.S J.O.S...</td>\n      <td>2021-01-28T00:00:00</td>\n      <td>josman - f*cked up 4</td>\n    </tr>\n    <tr>\n      <th>1</th>\n      <td>6408724</td>\n      <td>Doré</td>\n      <td>{'name': 'MYSTR J.O.$', 'id': 726527}</td>\n      <td>{'name': 'Josman', 'id': 153477, 'url': 'https...</td>\n      <td>https://images.genius.com/b6488c411877313d186d...</td>\n      <td>https://genius.com/Josman-dore-lyrics</td>\n      <td>[Paroles de \"Doré\"] [Refrain] Le ciel est doré...</td>\n      <td>2021-01-29T00:00:00</td>\n      <td>josman - doré</td>\n    </tr>\n    <tr>\n      <th>2</th>\n      <td>6408725</td>\n      <td>Décisions</td>\n      <td>{'name': 'MYSTR J.O.$', 'id': 726527}</td>\n      <td>{'name': 'Josman', 'id': 153477, 'url': 'https...</td>\n      <td>https://images.genius.com/b6488c411877313d186d...</td>\n      <td>https://genius.com/Josman-decisions-lyrics</td>\n      <td>[Paroles de \"Décisions\"] [Couplet 1] J'peux pa...</td>\n      <td>2021-01-29T00:00:00</td>\n      <td>josman - décisions</td>\n    </tr>\n    <tr>\n      <th>3</th>\n      <td>6408726</td>\n      <td>SEC</td>\n      <td>{'name': 'MYSTR J.O.$', 'id': 726527}</td>\n      <td>{'name': 'Josman', 'id': 153477, 'url': 'https...</td>\n      <td>https://images.genius.com/b6488c411877313d186d...</td>\n      <td>https://genius.com/Josman-sec-lyrics</td>\n      <td>[Paroles de \"SEC\"] [Intro] Sec comme le miel, ...</td>\n      <td>2021-01-29T00:00:00</td>\n      <td>josman - sec</td>\n    </tr>\n    <tr>\n      <th>4</th>\n      <td>6408727</td>\n      <td>New Hares (Same Sh!t)</td>\n      <td>{'name': 'MYSTR J.O.$', 'id': 726527}</td>\n      <td>{'name': 'Josman', 'id': 153477, 'url': 'https...</td>\n      <td>https://images.genius.com/b6488c411877313d186d...</td>\n      <td>https://genius.com/Josman-new-hares-same-sh-t-...</td>\n      <td>[Paroles de \"New Hares (Same Sh!t)\"] [Couplet ...</td>\n      <td>2021-01-29T00:00:00</td>\n      <td>josman - new hares (same sh!t)</td>\n    </tr>\n    <tr>\n      <th>...</th>\n      <td>...</td>\n      <td>...</td>\n      <td>...</td>\n      <td>...</td>\n      <td>...</td>\n      <td>...</td>\n      <td>...</td>\n      <td>...</td>\n      <td>...</td>\n    </tr>\n    <tr>\n      <th>1813</th>\n      <td>6708599</td>\n      <td>Follow</td>\n      <td>{'name': 'Mektoub', 'id': 760403}</td>\n      <td>{'name': 'Di-Meh', 'id': 60891, 'url': 'https:...</td>\n      <td>https://images.genius.com/691df6a4289d4b326502...</td>\n      <td>https://genius.com/Di-meh-follow-lyrics</td>\n      <td>[Paroles de \"Follow\"] [Refrain] Ouais j'y vais...</td>\n      <td>2021-05-14T00:00:00</td>\n      <td>di-meh - follow</td>\n    </tr>\n    <tr>\n      <th>1815</th>\n      <td>6708601</td>\n      <td>Turn Up</td>\n      <td>{'name': 'Mektoub', 'id': 760403}</td>\n      <td>{'name': 'Di-Meh', 'id': 60891, 'url': 'https:...</td>\n      <td>https://images.genius.com/691df6a4289d4b326502...</td>\n      <td>https://genius.com/Di-meh-turn-up-lyrics</td>\n      <td>[Paroles de \"Turn Up\"] [Intro] Hmm Yeah Hmm [R...</td>\n      <td>2021-05-14T00:00:00</td>\n      <td>di-meh - turn up</td>\n    </tr>\n    <tr>\n      <th>1816</th>\n      <td>6708602</td>\n      <td>Gâtée</td>\n      <td>{'name': 'Mektoub', 'id': 760403}</td>\n      <td>{'name': 'Di-Meh', 'id': 60891, 'url': 'https:...</td>\n      <td>https://images.genius.com/691df6a4289d4b326502...</td>\n      <td>https://genius.com/Di-meh-gatee-lyrics</td>\n      <td>[Paroles de \"Gâtée\"] [Refrain] Dis-moi pourquo...</td>\n      <td>2021-05-14T00:00:00</td>\n      <td>di-meh - gâtée</td>\n    </tr>\n    <tr>\n      <th>1817</th>\n      <td>6708603</td>\n      <td>Week-end</td>\n      <td>{'name': 'Mektoub', 'id': 760403}</td>\n      <td>{'name': 'Di-Meh', 'id': 60891, 'url': 'https:...</td>\n      <td>https://images.genius.com/691df6a4289d4b326502...</td>\n      <td>https://genius.com/Di-meh-week-end-lyrics</td>\n      <td>[Paroles de \"Week-end\" ft. Klench Poko] RETRAN...</td>\n      <td>2021-05-14T00:00:00</td>\n      <td>di-meh - week-end</td>\n    </tr>\n    <tr>\n      <th>1820</th>\n      <td>6679804</td>\n      <td>4x4 Diplomatique</td>\n      <td>{'name': 'Mektoub', 'id': 760403}</td>\n      <td>{'name': 'Di-Meh', 'id': 60891, 'url': 'https:...</td>\n      <td>https://images.genius.com/ea3d2df0059116a8acaa...</td>\n      <td>https://genius.com/Di-meh-4x4-diplomatique-lyrics</td>\n      <td>[Paroles de \"4x4 Diplomatique\"] [Intro] Di-Meh...</td>\n      <td>2021-04-08T00:00:00</td>\n      <td>di-meh - 4x4 diplomatique</td>\n    </tr>\n  </tbody>\n</table>\n<p>1268 rows × 9 columns</p>\n</div>"
     },
     "metadata": {},
     "execution_count": 14
    }
   ],
   "source": [
    "songs = pd.read_json(input_path)\n",
    "inputs: pd.Series\n",
    "\n",
    "with open(\"./datas/songs.txt\", \"r\", encoding=\"utf8\") as file:\n",
    "    inputs = pd.Series(file.read().lower().splitlines())\n",
    "    file.close()\n",
    "\n",
    "songs[\"artist_name\"] = songs['artist'].apply(pd.Series)[\"name\"]\n",
    "songs[\"query\"] = songs['artist_name'].str.lower() + \" - \" + songs['name'].str.lower()\n",
    "\n",
    "songs[\"is_in_inputs\"] = songs[\"query\"].isin(inputs)\n",
    "\n",
    "songs = songs[songs[\"is_in_inputs\"] == True]\n",
    "\n",
    "songs.drop_duplicates(subset=[\"id\"], inplace=True)\n",
    "\n",
    "del songs[\"is_in_inputs\"]\n",
    "del songs[\"artist_name\"]\n",
    "\n",
    "print(f\"With {len(inputs)} songs, Genius provided {len(songs)} correct songs\")\n",
    "print(f\"We keep {len(songs) / len(inputs) * 100:.2f}% of the songs\")\n",
    "\n",
    "songs"
   ]
  },
  {
   "source": [
    "## Création de plusieurs champs dérivé des paroles originales\n",
    "\n",
    "### `original_lyrics`\n",
    "Les paroles originales, celles récupérées sur le site [genius.com](https://genius.com)\n",
    "\n",
    "### `lyrics`\n",
    "Les paroles sans: `[Couplet]`, `mot94`, `34`, `  `\n",
    "\n",
    "### `lyrics_keywords`\n",
    "Les paroles utilisées pour être comparée avec un dictionnaire, elles sont normalisés à leur forme la plus simple"
   ],
   "cell_type": "markdown",
   "metadata": {}
  },
  {
   "cell_type": "code",
   "execution_count": 15,
   "metadata": {
    "tags": []
   },
   "outputs": [
    {
     "output_type": "stream",
     "name": "stdout",
     "text": [
      "Output written at ./datas/clean_songs.json\n"
     ]
    }
   ],
   "source": [
    "def clean_lyrics(lyrics: str):\n",
    "    lyrics = re.sub(r\"\\([^()]*\\)\", \" \", lyrics, flags=re.M | re.I)\n",
    "    lyrics = re.sub(r\"\\s*\\[(.*?)\\]\\s*\", \" \", lyrics, flags=re.M | re.I)\n",
    "    lyrics = re.sub(r\"[^a-zA-Z \\w ' -]\", \" \", lyrics, flags=re.M | re.I)\n",
    "    lyrics = re.sub(r\"\\w*\\d\\w*\", \"\", lyrics, flags=re.M | re.I)\n",
    "    lyrics = re.sub(r\"\\s{2,}\", \" \", lyrics, flags=re.M | re.I)\n",
    "    lyrics = lyrics.strip().lower()\n",
    "\n",
    "    return lyrics\n",
    "\n",
    "def clean_lyrics_keywords(lyrics: str):\n",
    "    lyrics = clean_lyrics(lyrics)\n",
    "    lyrics = re.sub(r\"(^|\\s)(qu'|j'|l'|t'|c'|t'|d'|s'|n'|y'|m')*\", \" \", lyrics, flags=re.M | re.I)\n",
    "    lyrics = re.sub(r\"'(\\s|$)\", \" \", lyrics, flags=re.M | re.I)\n",
    "    lyrics = re.sub(r\"(\\s|^)'\", \" \", lyrics, flags=re.M | re.I)\n",
    "    lyrics = re.sub(r\"-(\\s|$)\", \" \", lyrics, flags=re.M | re.I)\n",
    "    lyrics = re.sub(r\"(\\s|^)-\", \" \", lyrics, flags=re.M | re.I)\n",
    "    lyrics = re.sub(r\"(^| ).(( ).)*( |$)\", \" \", lyrics, flags=re.M | re.I)\n",
    "    lyrics = re.sub(r\"\\s{2,}\", \" \", lyrics, flags=re.M | re.I)\n",
    "    lyrics = lyrics.strip().lower()\n",
    "\n",
    "    return lyrics\n",
    "\n",
    "songs[\"lyrics\"] = songs[\"original_lyrics\"].apply(clean_lyrics)\n",
    "songs[\"lyrics_keywords\"] = songs[\"original_lyrics\"].apply(clean_lyrics_keywords)\n",
    "\n",
    "songs_json = songs.to_json(force_ascii=False, orient=\"records\")\n",
    "\n",
    "with open(output_path, \"w\", encoding=\"utf8\") as file:\n",
    "    file.write(songs_json)\n",
    "    file.close()\n",
    "\n",
    "print(\"Output written at\", output_path)"
   ]
  },
  {
   "source": [
    "# RENOMMEZ `./datas/clean_songs.json` EN `./datas/songs.json` POUR LES PROCHAINS NOTEBOOKS"
   ],
   "cell_type": "markdown",
   "metadata": {}
  }
 ]
}