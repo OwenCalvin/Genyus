{
 "metadata": {
  "language_info": {
   "codemirror_mode": {
    "name": "ipython",
    "version": 3
   },
   "file_extension": ".py",
   "mimetype": "text/x-python",
   "name": "python",
   "nbconvert_exporter": "python",
   "pygments_lexer": "ipython3",
   "version": "3.8.5"
  },
  "orig_nbformat": 2,
  "kernelspec": {
   "name": "python385jvsc74a57bd09b66b6258be2cf2534b9c77aba94da6a735b5d87bd70f0d518f322b0feb6a91c",
   "display_name": "Python 3.8.5 64-bit ('hearc': conda)"
  },
  "metadata": {
   "interpreter": {
    "hash": "aee8b7b246df8f9039afb4144a1f6fd8d2ca17a180786b69acc140d282b71a49"
   }
  }
 },
 "nbformat": 4,
 "nbformat_minor": 2,
 "cells": [
  {
   "source": [
    "# Clean des sons après récupération"
   ],
   "cell_type": "markdown",
   "metadata": {}
  },
  {
   "source": [
    "## Paquets utilisés"
   ],
   "cell_type": "markdown",
   "metadata": {}
  },
  {
   "cell_type": "code",
   "execution_count": 33,
   "metadata": {},
   "outputs": [],
   "source": [
    "import json\n",
    "import re\n",
    "import pandas as pd\n",
    "from typing import List"
   ]
  },
  {
   "cell_type": "code",
   "execution_count": 34,
   "metadata": {},
   "outputs": [],
   "source": [
    "input_path = \"./datas/api_songs.json\"\n",
    "output_path = \"./datas/songs.json\""
   ]
  },
  {
   "cell_type": "code",
   "execution_count": 35,
   "metadata": {},
   "outputs": [
    {
     "output_type": "stream",
     "name": "stdout",
     "text": [
      "With 1830 songs, Genius provided 1307 correct songs\nWe keep 71.42% of the songs\n"
     ]
    },
    {
     "output_type": "execute_result",
     "data": {
      "text/plain": [
       "          id          name                                    album  \\\n",
       "688  6258610  La pharmacie  {'name': 'Loin du monde', 'id': 698521}   \n",
       "\n",
       "                                                artist  \\\n",
       "688  {'name': 'JuL', 'id': 74283, 'url': 'https://g...   \n",
       "\n",
       "                                                 image  \\\n",
       "688  https://images.genius.com/e62f9ec698e11fdfc79c...   \n",
       "\n",
       "                                            url  \\\n",
       "688  https://genius.com/Jul-la-pharmacie-lyrics   \n",
       "\n",
       "                                       original_lyrics                 date  \\\n",
       "688  [Paroles de \"La pharmacie\"] [Intro] Que tu che...  2020-12-18T00:00:00   \n",
       "\n",
       "                  query  \n",
       "688  jul - la pharmacie  "
      ],
      "text/html": "<div>\n<style scoped>\n    .dataframe tbody tr th:only-of-type {\n        vertical-align: middle;\n    }\n\n    .dataframe tbody tr th {\n        vertical-align: top;\n    }\n\n    .dataframe thead th {\n        text-align: right;\n    }\n</style>\n<table border=\"1\" class=\"dataframe\">\n  <thead>\n    <tr style=\"text-align: right;\">\n      <th></th>\n      <th>id</th>\n      <th>name</th>\n      <th>album</th>\n      <th>artist</th>\n      <th>image</th>\n      <th>url</th>\n      <th>original_lyrics</th>\n      <th>date</th>\n      <th>query</th>\n    </tr>\n  </thead>\n  <tbody>\n    <tr>\n      <th>688</th>\n      <td>6258610</td>\n      <td>La pharmacie</td>\n      <td>{'name': 'Loin du monde', 'id': 698521}</td>\n      <td>{'name': 'JuL', 'id': 74283, 'url': 'https://g...</td>\n      <td>https://images.genius.com/e62f9ec698e11fdfc79c...</td>\n      <td>https://genius.com/Jul-la-pharmacie-lyrics</td>\n      <td>[Paroles de \"La pharmacie\"] [Intro] Que tu che...</td>\n      <td>2020-12-18T00:00:00</td>\n      <td>jul - la pharmacie</td>\n    </tr>\n  </tbody>\n</table>\n</div>"
     },
     "metadata": {},
     "execution_count": 35
    }
   ],
   "source": [
    "songs = pd.read_json(input_path)\n",
    "inputs: pd.Series\n",
    "\n",
    "with open(\"./datas/songs.txt\", \"r\", encoding=\"utf8\") as file:\n",
    "    inputs = pd.Series(file.read().lower().splitlines())\n",
    "    file.close()\n",
    "\n",
    "songs[\"artist_name\"] = songs['artist'].apply(pd.Series)[\"name\"]\n",
    "songs[\"query\"] = songs['artist_name'].str.lower() + \" - \" + songs['name'].str.lower()\n",
    "\n",
    "songs[\"is_in_inputs\"] = songs[\"query\"].isin(inputs)\n",
    "\n",
    "songs = songs[songs[\"is_in_inputs\"] == True]\n",
    "\n",
    "del songs[\"is_in_inputs\"]\n",
    "del songs[\"artist_name\"]\n",
    "\n",
    "print(f\"With {len(inputs)} songs, Genius provided {len(songs)} correct songs\")\n",
    "print(f\"We keep {len(songs) / len(inputs) * 100:.2f}% of the songs\")\n",
    "\n",
    "songs\n",
    "\n",
    "songs[songs[\"query\"] == \"jul - la pharmacie\"]"
   ]
  },
  {
   "cell_type": "code",
   "execution_count": 36,
   "metadata": {},
   "outputs": [
    {
     "output_type": "execute_result",
     "data": {
      "text/plain": [
       "700    jul - la pharmacie\n",
       "dtype: object"
      ]
     },
     "metadata": {},
     "execution_count": 36
    }
   ],
   "source": [
    "inputs[inputs == \"jul - la pharmacie\"]"
   ]
  },
  {
   "source": [
    "## Création de plusieurs champs dérivé des paroles originales\n",
    "\n",
    "### `original_lyrics`\n",
    "Les paroles originales, celles récupérées sur le site [genius.com](https://genius.com)\n",
    "\n",
    "### `lyrics`\n",
    "Les paroles sans: `[Couplet]`, `mot94`, `34`, `  `\n",
    "\n",
    "### `lyrics_keywords`\n",
    "Les paroles utilisées pour être comparée avec un dictionnaire, elles sont normalisés à leur forme la plus simple"
   ],
   "cell_type": "markdown",
   "metadata": {}
  },
  {
   "cell_type": "code",
   "execution_count": 37,
   "metadata": {
    "tags": []
   },
   "outputs": [
    {
     "output_type": "stream",
     "name": "stdout",
     "text": [
      "Output written at ./datas/songs.json\n"
     ]
    }
   ],
   "source": [
    "def clean_lyrics(lyrics: str):\n",
    "    lyrics = re.sub(r\"\\([^()]*\\)\", \" \", lyrics, flags=re.M | re.I)\n",
    "    lyrics = re.sub(r\"\\s*\\[(.*?)\\]\\s*\", \" \", lyrics, flags=re.M | re.I)\n",
    "    lyrics = re.sub(r\"[^a-zA-Z \\w ' -]\", \" \", lyrics, flags=re.M | re.I)\n",
    "    lyrics = re.sub(r\"\\w*\\d\\w*\", \"\", lyrics, flags=re.M | re.I)\n",
    "    lyrics = re.sub(r\"\\s{2,}\", \" \", lyrics, flags=re.M | re.I)\n",
    "    lyrics = lyrics.strip().lower()\n",
    "\n",
    "    return lyrics\n",
    "\n",
    "def clean_lyrics_keywords(lyrics: str):\n",
    "    lyrics = clean_lyrics(lyrics)\n",
    "    lyrics = re.sub(r\"(^|\\s)(qu'|j'|l'|t'|c'|t'|d'|s'|n'|y'|m')*\", \" \", lyrics, flags=re.M | re.I)\n",
    "    lyrics = re.sub(r\"'(\\s|$)\", \" \", lyrics, flags=re.M | re.I)\n",
    "    lyrics = re.sub(r\"(\\s|^)'\", \" \", lyrics, flags=re.M | re.I)\n",
    "    lyrics = re.sub(r\"-(\\s|$)\", \" \", lyrics, flags=re.M | re.I)\n",
    "    lyrics = re.sub(r\"(\\s|^)-\", \" \", lyrics, flags=re.M | re.I)\n",
    "    lyrics = re.sub(r\"(^| ).(( ).)*( |$)\", \" \", lyrics, flags=re.M | re.I)\n",
    "    lyrics = re.sub(r\"\\s{2,}\", \" \", lyrics, flags=re.M | re.I)\n",
    "    lyrics = lyrics.strip().lower()\n",
    "\n",
    "    return lyrics\n",
    "\n",
    "songs[\"lyrics\"] = songs[\"original_lyrics\"].apply(clean_lyrics)\n",
    "songs[\"lyrics_keywords\"] = songs[\"original_lyrics\"].apply(clean_lyrics_keywords)\n",
    "\n",
    "songs_json = songs.to_json(force_ascii=False, orient=\"records\")\n",
    "\n",
    "with open(output_path, \"w\", encoding=\"utf8\") as file:\n",
    "    file.write(songs_json)\n",
    "    file.close()\n",
    "\n",
    "print(\"Output written at\", output_path)"
   ]
  },
  {
   "source": [
    "# RENOMMEZ `./datas/clean_songs.json` EN `./datas/songs.json` POUR LES PROCHAINS NOTEBOOKS"
   ],
   "cell_type": "markdown",
   "metadata": {}
  }
 ]
}