{
 "metadata": {
  "language_info": {
   "codemirror_mode": {
    "name": "ipython",
    "version": 3
   },
   "file_extension": ".py",
   "mimetype": "text/x-python",
   "name": "python",
   "nbconvert_exporter": "python",
   "pygments_lexer": "ipython3",
   "version": "3.9.5"
  },
  "orig_nbformat": 2,
  "kernelspec": {
   "name": "python395jvsc74a57bd0707c403a81e52c0fdfe5ec770b1801115695da961511c6cb341409c2dee9cd15",
   "display_name": "Python 3.9.5 64-bit (windows store)"
  },
  "metadata": {
   "interpreter": {
    "hash": "707c403a81e52c0fdfe5ec770b1801115695da961511c6cb341409c2dee9cd15"
   }
  }
 },
 "nbformat": 4,
 "nbformat_minor": 2,
 "cells": [
  {
   "source": [
    "# Clean des sons après récupération"
   ],
   "cell_type": "markdown",
   "metadata": {}
  },
  {
   "source": [
    "## Paquets utilisés"
   ],
   "cell_type": "markdown",
   "metadata": {}
  },
  {
   "cell_type": "code",
   "execution_count": 11,
   "metadata": {},
   "outputs": [],
   "source": [
    "import json\n",
    "import re\n",
    "import pandas as pd\n",
    "from typing import List"
   ]
  },
  {
   "source": [
    "## Création de plusieurs champs dérivé des paroles originales\n",
    "\n",
    "### `original_lyrics`\n",
    "Les paroles originales, celles récupérées sur le site [genius.com](https://genius.com)\n",
    "\n",
    "### `lyrics`\n",
    "Les paroles sans: `[Couplet]`, `mot94`, `34`, `  `\n",
    "\n",
    "### `lyrics_keywords`\n",
    "Les paroles utilisées pour être comparée avec un dictionnaire, elles sont normalisés à leur forme la plus simple"
   ],
   "cell_type": "markdown",
   "metadata": {}
  },
  {
   "cell_type": "code",
   "execution_count": 12,
   "metadata": {
    "tags": []
   },
   "outputs": [
    {
     "output_type": "stream",
     "name": "stdout",
     "text": [
      "Output written at ./datas/post_clean_songs.json\n"
     ]
    }
   ],
   "source": [
    "def clean_lyrics(lyrics: str):\n",
    "    lyrics = re.sub(r\"\\([^()]*\\)\", \" \", lyrics, flags=re.M | re.I)\n",
    "    lyrics = re.sub(r\"\\s*\\[(.*?)\\]\\s*\", \" \", lyrics, flags=re.M | re.I)\n",
    "    lyrics = re.sub(r\"[^a-zA-Z \\w ' -]\", \" \", lyrics, flags=re.M | re.I)\n",
    "    lyrics = re.sub(r\"\\w*\\d\\w*\", \"\", lyrics, flags=re.M | re.I)\n",
    "    lyrics = re.sub(r\"\\s{2,}\", \" \", lyrics, flags=re.M | re.I)\n",
    "    lyrics = lyrics.strip().lower()\n",
    "\n",
    "    return lyrics\n",
    "\n",
    "def clean_lyrics_keywords(lyrics: str):\n",
    "    lyrics = clean_lyrics(lyrics)\n",
    "    lyrics = re.sub(r\"(^|\\s)(qu'|j'|l'|t'|c'|t'|d'|s'|n'|y'|m')*\", \" \", lyrics, flags=re.M | re.I)\n",
    "    lyrics = re.sub(r\"'(\\s|$)\", \" \", lyrics, flags=re.M | re.I)\n",
    "    lyrics = re.sub(r\"(\\s|^)'\", \" \", lyrics, flags=re.M | re.I)\n",
    "    lyrics = re.sub(r\"-(\\s|$)\", \" \", lyrics, flags=re.M | re.I)\n",
    "    lyrics = re.sub(r\"(\\s|^)-\", \" \", lyrics, flags=re.M | re.I)\n",
    "    lyrics = re.sub(r\"(^| ).(( ).)*( |$)\", \" \", lyrics, flags=re.M | re.I)\n",
    "    lyrics = re.sub(r\"\\s{2,}\", \" \", lyrics, flags=re.M | re.I)\n",
    "    lyrics = lyrics.strip().lower()\n",
    "\n",
    "    return lyrics\n",
    "\n",
    "input_path = \"./datas/songs.json\"\n",
    "output_path = \"./datas/post_clean_songs.json\"\n",
    "\n",
    "with open(input_path, \"r\", encoding=\"utf8\") as file:\n",
    "    songs_inputs: List[dict] = json.loads(file.read())\n",
    "\n",
    "    songs = pd.DataFrame(songs_inputs)\n",
    "\n",
    "    songs[\"lyrics\"] = songs[\"original_lyrics\"].apply(clean_lyrics)\n",
    "    songs[\"lyrics_keywords\"] = songs[\"original_lyrics\"].apply(clean_lyrics_keywords)\n",
    "\n",
    "    songs_json = songs.to_json(force_ascii=False, orient=\"records\")\n",
    "\n",
    "    with open(output_path, \"w\", encoding=\"utf8\") as file:\n",
    "        file.write(songs_json)\n",
    "        file.close()\n",
    "\n",
    "    print(\"Output written at\", output_path)"
   ]
  },
  {
   "source": [
    "# RENOMMEZ `./datas/clean_songs.json` EN `./datas/songs.json` POUR LES PROCHAINS NOTEBOOKS"
   ],
   "cell_type": "markdown",
   "metadata": {}
  }
 ]
}