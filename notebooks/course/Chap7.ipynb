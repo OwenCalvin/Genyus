{
 "cells": [
  {
   "cell_type": "markdown",
   "metadata": {},
   "source": [
    "# Chapitre 7 : introduction à Pandas\n",
    "## [Documentation Pandas](https://pandas.pydata.org/pandas-docs/stable/#)"
   ]
  },
  {
   "cell_type": "markdown",
   "metadata": {},
   "source": [
    "## Les `Series`\n",
    "\n",
    "- Un peu comme un super-dictionnaire.\n",
    "- `ndarray` à 1 dimension.\n",
    "- Chaque élément est labellisé.\n",
    "- Similaires aux dictionnaires mais offrent beaucoup plus de fonctions.\n",
    "- Idéales pour manipuler des données (contrairement aux dictionnaires).\n",
    "\n",
    "### Création à partir de listes\n",
    "\n",
    "**Exemple :**\n",
    "```\n",
    "import pandas as pd\n",
    "\n",
    "values = [1, 2, 3, 4, 5]\n",
    "labels = [\"Label_A\", \"Label_B\", \"Label_C\", \"Label_D\", \"Label_E\"]\n",
    "my_serie = pd.Series(values, index=labels)\n",
    "```"
   ]
  },
  {
   "cell_type": "markdown",
   "metadata": {},
   "source": [
    "### ==================== EXERCICE ====================\n",
    "1. Exécuter l'exemple donné précédemment.\n",
    "2. Expérimenter.\n",
    "5. Créer une `Serie` contenant 2 labels indentiques. Que se passe-t-il ?\n",
    "\n",
    "### ==================== SOLUTION ==================="
   ]
  },
  {
   "cell_type": "markdown",
   "metadata": {},
   "source": [
    "### =============================================="
   ]
  },
  {
   "cell_type": "markdown",
   "metadata": {},
   "source": [
    "### Création à partir d'un dictionnaire\n",
    "#### Les index de la `Serie` sont les clefs du dictionnaire.\n",
    "\n",
    "**Exemple :**\n",
    "```\n",
    "import pandas as pd\n",
    "\n",
    "init_values = {\"Label_A\":1, \"Label_B\":2, \"Label_C\":3, \"Label_D\":4, \"Label_E\":5}\n",
    "my_serie = pd.Series(init_values)\n",
    "```"
   ]
  },
  {
   "cell_type": "markdown",
   "metadata": {},
   "source": [
    "### ==================== EXERCICE ====================\n",
    "1. Exécuter l'exemple donné précédemment.\n",
    "2. Expérimenter.\n",
    "3. Créer un nouveau dictionnaire `init_values2` avec les éléments de `init_value` mais dans un ordre différent.\n",
    "4. Utiliser `init_values2` pour créer un nouveau `Serie`. Que remarquez-vous ?\n",
    "5. Créer une `Serie` contenant 2 labels indentiques en passant par les dictionnaires. Que se passe-t-il ? Pourquoi ? Que faut-il faire ?\n",
    "\n",
    "### ==================== SOLUTION ==================="
   ]
  },
  {
   "cell_type": "markdown",
   "metadata": {},
   "source": [
    "### =============================================="
   ]
  },
  {
   "cell_type": "markdown",
   "metadata": {},
   "source": [
    "### Création à partir d'un `ndarray` à 1 dimension\n",
    "\n",
    "**Exemple :**\n",
    "```\n",
    "import numpy as np\n",
    "import pandas as pd\n",
    "\n",
    "values = np.random.randn(5)\n",
    "labels = [\"Label_A\", \"Label_B\", \"Label_C\", \"Label_D\", \"Label_E\"]\n",
    "my_serie = pd.Series(values, index=labels)\n",
    "```"
   ]
  },
  {
   "cell_type": "markdown",
   "metadata": {},
   "source": [
    "### ==================== EXERCICE ====================\n",
    "1. Exécuter l'exemple donné précédemment.\n",
    "2. Expérimenter.\n",
    "5. Créer une `Serie` contenant 2 labels indentiques. Que se passe-t-il ?\n",
    "\n",
    "### ==================== SOLUTION ==================="
   ]
  },
  {
   "cell_type": "markdown",
   "metadata": {},
   "source": [
    "### =============================================="
   ]
  },
  {
   "cell_type": "markdown",
   "metadata": {},
   "source": [
    "### Accéder aux éléments de la `Serie`\n",
    "#### Comme avec un `ndarray`\n",
    "\n",
    "**Exemple :**\n",
    "```\n",
    "import numpy as np\n",
    "import pandas as pd\n",
    "\n",
    "values = np.random.randn(5)\n",
    "labels = [\"Label_A\", \"Label_B\", \"Label_C\", \"Label_D\", \"Label_E\"]\n",
    "my_serie = pd.Series(values, index=labels)\n",
    "# Get elements 3 and 4\n",
    "my_subserie = my_serie[2:-1]\n",
    "```\n",
    "\n",
    "#### Avec une liste d'index\n",
    "\n",
    "**Exemple :**\n",
    "```\n",
    "import numpy as np\n",
    "import pandas as pd\n",
    "\n",
    "values = np.random.randn(5)\n",
    "labels = [\"Label_A\", \"Label_B\", \"Label_C\", \"Label_D\", \"Label_E\"]\n",
    "my_serie = pd.Series(values, index=labels)\n",
    "\n",
    "# Get elements 0 and 4\n",
    "my_subserie = my_serie[[\"Label_A\", \"Label_E\"]]\n",
    "```"
   ]
  },
  {
   "cell_type": "markdown",
   "metadata": {},
   "source": [
    "### ==================== EXERCICE ====================\n",
    "1. Exécuter les exemples donnés précédemment.\n",
    "2. Expérimenter en accédant à différents éléments de la `Serie`.\n",
    "3. Que se passe-t-il quand on accède à un élément avec un label inexistant ?\n",
    "4. Que se passe-t-il quand on accède à un label existant plusieurs fois ?\n",
    "\n",
    "### ==================== SOLUTION ==================="
   ]
  },
  {
   "cell_type": "markdown",
   "metadata": {},
   "source": [
    "### =============================================="
   ]
  },
  {
   "cell_type": "markdown",
   "metadata": {},
   "source": [
    "### Faire des requêtes sur une `Serie`\n",
    "\n",
    "**Exemple :**\n",
    "```\n",
    "import numpy as np\n",
    "import pandas as pd\n",
    "\n",
    "values = np.random.randn(5)\n",
    "labels = [\"Label_A\", \"Label_B\", \"Label_C\", \"Label_D\", \"Label_E\"]\n",
    "my_serie = pd.Series(values, index=labels)\n",
    "# Get elements with values < -0.5 or values > 0.5\n",
    "my_subserie = my_serie[(my_serie<-0.5) | (my_serie>0.5)]\n",
    "```\n",
    "\n",
    "**ATTENTION :** les opérateurs logiques dans une requêtes sont différents des opérateurs logiques classiques en Python. On utilise `|` pour le `or`, `&` pour le `and` et `!` pour le `not`. \n",
    "\n",
    "**ATTENTION :** les parenthèses sont importantes."
   ]
  },
  {
   "cell_type": "markdown",
   "metadata": {},
   "source": [
    "### ==================== EXERCICE ====================\n",
    "1. Exécuter l'exemple précédent.\n",
    "2. Expérimenter.\n",
    "3. Tenter d'utiliser l'opérateur `or`. Que se passe-t-il ?\n",
    "4. Enlever les parenthèses. Que se passe-t-il ?\n",
    "\n",
    "### ==================== SOLUTION ==================="
   ]
  },
  {
   "cell_type": "markdown",
   "metadata": {},
   "source": [
    "### =============================================="
   ]
  },
  {
   "cell_type": "markdown",
   "metadata": {},
   "source": [
    "### Opérations sur des `Serie`s\n",
    "#### Similaires aux opérations sur des `ndarray`s\n",
    "\n",
    "**Exemple :**\n",
    "```\n",
    "import numpy as np\n",
    "import pandas as pd\n",
    "\n",
    "values1 = np.random.randn(5)\n",
    "labels1 = [\"Label_A\", \"Label_B\", \"Label_C\", \"Label_D\", \"Label_E\"]\n",
    "my_serie1 = pd.Series(values1, index=labels1)\n",
    "\n",
    "values2 = np.random.randn(5)\n",
    "labels2 = [\"Label_A\", \"Label_B\", \"Label_C\", \"Label_D\", \"Label_E\"]\n",
    "my_serie2 = pd.Series(values2, index=labels2)\n",
    "\n",
    "sum_series = my_serie1 + my_serie2\n",
    "```\n",
    "\n",
    "**ATTENTION :** les valeurs correspondantes aux labels manquants sont considérées comme des `NaN`.\n",
    "\n",
    "#### Argument `fill_value`\n",
    "Pour initialiser les valeurs manquantes.\n",
    "\n",
    "**Exemple :**\n",
    "```\n",
    "import numpy as np\n",
    "import pandas as pd\n",
    "\n",
    "values1 = np.random.randn(5)\n",
    "labels1 = [\"Label_A\", \"Label_B\", \"Label_C\", \"Label_D\", \"Label_E\"]\n",
    "my_serie1 = pd.Series(values1, index=labels1)\n",
    "\n",
    "values2 = np.random.randn(5)\n",
    "labels2 = [\"Label_A\", \"Label_B\", \"Label_C\", \"Label_D\", \"Label_Z\"]\n",
    "my_serie2 = pd.Series(values2, index=labels2)\n",
    "\n",
    "sum_series = my_serie1.add(my_serie2, fill_value = 10)\n",
    "```"
   ]
  },
  {
   "cell_type": "markdown",
   "metadata": {},
   "source": [
    "### ==================== EXERCICE ====================\n",
    "1. Exécuter l'exemple précédent.\n",
    "2. Expérimenter.\n",
    "3. Créer des `Serie`s avec des labels différents. Exécuter une opération sur ces 2 `Serie`s. Que se passe-t-il ?\n",
    "4. Utiliser `fill_value`.\n",
    "\n",
    "### ==================== SOLUTION ==================="
   ]
  },
  {
   "cell_type": "markdown",
   "metadata": {},
   "source": [
    "### =============================================="
   ]
  },
  {
   "cell_type": "markdown",
   "metadata": {},
   "source": [
    "## Les `DataFrame`s\n",
    "- Extension des `Serie`s à 2 dimensions : données en colonne, 1 colonne par variable.\n",
    "- Similaire à une table Excel.\n",
    "- Accès par colonne ou par ligne.\n",
    "\n",
    "### Création à partir de dictionnaire\n",
    "\n",
    "**Exemple :**\n",
    "```\n",
    "import pandas as pd\n",
    "\n",
    "courses_values = {\n",
    "    \"Name\": [\"C\", \"CPP\", \"Python\", \"Algorithms\"], # column 1\n",
    "    \"Teaching_periods\": [4, 4, 4, 2], # column 2\n",
    "    \"Practical_test\": [False, False, True, False] # column 3\n",
    "}\n",
    "\n",
    "my_data_frame = pd.DataFrame(courses_values)\n",
    "```"
   ]
  },
  {
   "cell_type": "markdown",
   "metadata": {},
   "source": [
    "### ==================== EXERCICE ====================\n",
    "1. Exécuter l'exemple précédent.\n",
    "2. Expérimenter.\n",
    "\n",
    "### ==================== SOLUTION ==================="
   ]
  },
  {
   "cell_type": "markdown",
   "metadata": {},
   "source": [
    "### =============================================="
   ]
  },
  {
   "cell_type": "markdown",
   "metadata": {},
   "source": [
    "### Création à partir d'une liste de listes\n",
    "\n",
    "**Exemple :**\n",
    "```\n",
    "import pandas as pd\n",
    "\n",
    "courses_values = [\n",
    "    [\"C\", 4, False], # line 1\n",
    "    [\"CPP\", 4, False], # line 2\n",
    "    [\"Python\", 4, True], # line 3\n",
    "    [\"Algorithms\", 2, False], # line 4\n",
    "]\n",
    "\n",
    "ids = [0, 1, 2, 3]\n",
    "cols = [\"Name\", \"Teaching_periods\", \"Practical_test\"]\n",
    "\n",
    "my_data_frame = pd.DataFrame(courses_values, index=ids, columns=cols)\n",
    "print(my_data_frame)\n",
    "my_data_frame.columns = [\"Name\", \"Teaching_periods\", \"Practical_test\"]\n",
    "```"
   ]
  },
  {
   "cell_type": "markdown",
   "metadata": {},
   "source": [
    "### ==================== EXERCICE ====================\n",
    "1. Exécuter l'exemple précédent.\n",
    "2. Expérimenter.\n",
    "3. Que se passe-t-il si on omet le paramètre `index` ?\n",
    "3. Que se passe-t-il pour les noms de colonnes ?\n",
    "\n",
    "### ==================== SOLUTION ==================="
   ]
  },
  {
   "cell_type": "markdown",
   "metadata": {},
   "source": [
    "### =============================================="
   ]
  },
  {
   "cell_type": "markdown",
   "metadata": {},
   "source": [
    "### Renommer les colonnes : l'attribut `columns` et la fonction `rename()`\n",
    "#### `columns` : on doit spécifier le nom de toutes les colonnes\n",
    "#### `rename()` : on peut renommer qu'une seule colonne si besoin\n",
    "\n",
    "**Exemple :**\n",
    "```\n",
    "import pandas as pd\n",
    "\n",
    "courses_values = [\n",
    "    [\"C\", 4, False], # line 1\n",
    "    [\"CPP\", 4, False], # line 2\n",
    "    [\"Python\", 4, True], # line 3\n",
    "    [\"Algorithms\", 2, False], # line 4\n",
    "]\n",
    "\n",
    "\n",
    "my_data_frame = pd.DataFrame(courses_values)\n",
    "\n",
    "cols = [\"OUPS\", \"Teaching_periods\", \"OUPS2\"]\n",
    "my_data_frame.columns = cols\n",
    "\n",
    "my_data_frame.rename(columns={\"OUPS\":\"Name\", \"OUPS2\":\"Practical_test\"}, inplace=True)\n",
    "```"
   ]
  },
  {
   "cell_type": "markdown",
   "metadata": {},
   "source": [
    "### ==================== EXERCICE ====================\n",
    "1. Exécuter l'exemple précédent.\n",
    "2. Expérimenter.\n",
    "3. Que se passe-t-il si on omet le paramètre `inplace` ?\n",
    "\n",
    "### ==================== SOLUTION ==================="
   ]
  },
  {
   "cell_type": "markdown",
   "metadata": {},
   "source": [
    "### =============================================="
   ]
  },
  {
   "cell_type": "markdown",
   "metadata": {},
   "source": [
    "### Renommer les lignes avec les valeurs d'une colonne : la fonction `set_index`\n",
    "\n",
    "**Exemple :**\n",
    "```\n",
    "import pandas as pd\n",
    "\n",
    "courses_values = {\n",
    "    \"Name\": [\"C\", \"CPP\", \"Python\", \"Algorithms\"], # column 1\n",
    "    \"Teaching_periods\": [4, 4, 4, 2], # column 2\n",
    "    \"Practical_test\": [False, False, False, False] # column 3\n",
    "}\n",
    "\n",
    "my_data_frame = pd.DataFrame(courses_values)\n",
    "\n",
    "# Insert a column at the end\n",
    "my_data_frame[\"Difficulty\"] = [2, 3, 2, 3]\n",
    "\n",
    "my_data_frame = my_data_frame.set_index(\"Name\")\n",
    "```"
   ]
  },
  {
   "cell_type": "markdown",
   "metadata": {},
   "source": [
    "### ==================== EXERCICE ====================\n",
    "1. Exécuter l'exemple précédent.\n",
    "2. Reprendre et adapter les exemples de modifications vus précédemment.\n",
    "3. Que se passe-t-il quand on modifie la colonne \"Name\" ?\n",
    "\n",
    "### ==================== SOLUTION ==================="
   ]
  },
  {
   "cell_type": "markdown",
   "metadata": {},
   "source": [
    "### =============================================="
   ]
  },
  {
   "cell_type": "markdown",
   "metadata": {},
   "source": [
    "### Extraire une colonne\n",
    "#### On obtient un objet de type `Serie`\n",
    "**Exemple :**\n",
    "```\n",
    "import pandas as pd\n",
    "\n",
    "courses_values = {\n",
    "    \"Name\": [\"C\", \"CPP\", \"Python\", \"Algorithms\"], # column 1\n",
    "    \"Teaching_periods\": [4, 4, 4, 2], # column 2\n",
    "    \"Practical_test\": [False, False, True, False] # column 3\n",
    "}\n",
    "\n",
    "my_data_frame = pd.DataFrame(courses_values)\n",
    "courses_names = my_data_frame[\"Name\"]\n",
    "```"
   ]
  },
  {
   "cell_type": "markdown",
   "metadata": {},
   "source": [
    "### ==================== EXERCICE ====================\n",
    "1. Exécuter l'exemple précédent.\n",
    "2. Expérimenter.\n",
    "3. Quel est le type de la colonne extraite ?\n",
    "\n",
    "### ==================== SOLUTION ==================="
   ]
  },
  {
   "cell_type": "markdown",
   "metadata": {},
   "source": [
    "### =============================================="
   ]
  },
  {
   "cell_type": "markdown",
   "metadata": {},
   "source": [
    "### Ajouter une colonne\n",
    "#### À la fin avec `[<new_label>]` ou à une colonne précise avec la méthode `insert()`\n",
    "\n",
    "**Exemple :**\n",
    "```\n",
    "import pandas as pd\n",
    "\n",
    "courses_values = {\n",
    "    \"Name\": [\"C\", \"CPP\", \"Python\", \"Algorithms\"], # column 1\n",
    "    \"Teaching_periods\": [4, 4, 4, 2], # column 2\n",
    "    \"Practical_test\": [False, False, True, False] # column 3\n",
    "}\n",
    "\n",
    "my_data_frame = pd.DataFrame(courses_values)\n",
    "\n",
    "# At the end\n",
    "my_data_frame[\"Difficulty\"] = [2, 3, 2, 3]\n",
    "\n",
    "# At column 0\n",
    "my_data_frame.insert(0, \"Module\", [1242, 1242, 1242, 1242])\n",
    "\n",
    "```"
   ]
  },
  {
   "cell_type": "markdown",
   "metadata": {},
   "source": [
    "### ==================== EXERCICE ====================\n",
    "1. Exécuter l'exemple précédent.\n",
    "2. Expérimenter.\n",
    "3. Que se passe-t-il si on tente de rajouter une colonne qui ne contient pas le bon nombre de valeurs ?\n",
    "\n",
    "### ==================== SOLUTION ==================="
   ]
  },
  {
   "cell_type": "markdown",
   "metadata": {},
   "source": [
    "### =============================================="
   ]
  },
  {
   "cell_type": "markdown",
   "metadata": {},
   "source": [
    "### Extraire une ligne : la méthode `loc[line]`\n",
    "\n",
    "**ATTENTION :** il faut utiliser des `[]` et non des `()`\n",
    "\n",
    "**ATTENTION :** `loc[]` interroge par label (et non par position). Donc si la valeur n'est pas un label de ligne, il y a une erreur.\n",
    "\n",
    "**ATTENTION :** pour interroger par position, il faut utiliser `iloc[]`.\n",
    "\n",
    "**Exemple :**\n",
    "```\n",
    "import pandas as pd\n",
    "\n",
    "courses_values = {\n",
    "    \"Name\": [\"C\", \"CPP\", \"Python\", \"Algorithms\"], # column 1\n",
    "    \"Teaching_periods\": [4, 4, 4, 2], # column 2\n",
    "    \"Practical_test\": [False, False, True, False] # column 3\n",
    "}\n",
    "\n",
    "my_data_frame = pd.DataFrame(courses_values)\n",
    "\n",
    "# At the end\n",
    "my_data_frame[\"Difficulty\"] = [2, 3, 2, 3]\n",
    "\n",
    "# At column 0\n",
    "my_data_frame.insert(0, \"Module\", [1242, 1242, 1242, 1242])\n",
    "\n",
    "# Retrive first element\n",
    "first_element = my_data_frame.loc[0]\n",
    "\n",
    "# Retrieve elements from line with label 1, until the end\n",
    "from_label_2 = my_data_frame.loc[1:]\n",
    "\n",
    "# Retrieve last 2 elements\n",
    "last_2_elements = my_data_frame.iloc[-2:]\n",
    "```"
   ]
  },
  {
   "cell_type": "markdown",
   "metadata": {},
   "source": [
    "### ==================== EXERCICE ====================\n",
    "1. Exécuter l'exemple précédent.\n",
    "2. Expérimenter.\n",
    "3. Que se passe-t-il si on tente d'accéder à un index qui n'existe pas ?\n",
    "4. Bien noter la différence entre `loc[]` et `iloc[]`.\n",
    "5. Que se passe-t-il si on accède au `DataFrame` comme pour une liste classique ?\n",
    "6. Extraire plusieurs lignes et colonnes à la fois.\n",
    "\n",
    "### ==================== SOLUTION ==================="
   ]
  },
  {
   "cell_type": "markdown",
   "metadata": {},
   "source": [
    "### =============================================="
   ]
  },
  {
   "cell_type": "markdown",
   "metadata": {},
   "source": [
    "### Extraire un élément : la méthode `loc[line, column]`\n",
    "\n",
    "**ATTENTION :** il faut utiliser des `[]` et non des `()`\n",
    "\n",
    "**ATTENTION :** `loc[]` interroge par label (et non par position). Donc si la valeur n'est pas un label de ligne et de colonne, il y a une erreur.\n",
    "\n",
    "**ATTENTION :** pour interroger par position, il faut utiliser `iloc[line, column]`.\n",
    "\n",
    "**Exemple :**\n",
    "```\n",
    "import pandas as pd\n",
    "\n",
    "courses_values = {\n",
    "    \"Name\": [\"C\", \"CPP\", \"Python\", \"Algorithms\"], # column 1\n",
    "    \"Teaching_periods\": [4, 4, 4, 2], # column 2\n",
    "    \"Practical_test\": [False, False, True, False] # column 3\n",
    "}\n",
    "\n",
    "my_data_frame = pd.DataFrame(courses_values)\n",
    "\n",
    "# At the end\n",
    "my_data_frame[\"Difficulty\"] = [2, 3, 2, 3]\n",
    "\n",
    "# At column 0\n",
    "my_data_frame.insert(0, \"Module\", [1242, 1242, 1242, 1242])\n",
    "\n",
    "# Retrive first value\n",
    "first_value = my_data_frame.loc[0,\"Name\"]\n",
    "\n",
    "# Retrieve elements from line with label 1, until the end\n",
    "from_label_2 = my_data_frame.loc[1:, \"Name\"]\n",
    "\n",
    "# Retrieve last 2 elements, second label\n",
    "last_2_elements = my_data_frame.iloc[-2:, 1]\n",
    "```"
   ]
  },
  {
   "cell_type": "markdown",
   "metadata": {},
   "source": [
    "### Effacer une colonne : `del`\n",
    "\n",
    "**Exemple :**\n",
    "```\n",
    "import pandas as pd\n",
    "\n",
    "courses_values = {\n",
    "    \"Name\": [\"C\", \"CPP\", \"Python\", \"Algorithms\"], # column 1\n",
    "    \"Teaching_periods\": [4, 4, 4, 2], # column 2\n",
    "    \"Practical_test\": [False, False, True, False] # column 3\n",
    "}\n",
    "\n",
    "my_data_frame = pd.DataFrame(courses_values)\n",
    "\n",
    "# At the end\n",
    "my_data_frame[\"Difficuly\"] = [2, 3, 2, 3]\n",
    "\n",
    "# At column 0\n",
    "my_data_frame.insert(0, \"Module\", [1242, 1242, 1242, 1242])\n",
    "\n",
    "# Wrong typing\n",
    "my_data_frame.insert(1, \"Oups\", [9, 9, 9, 9])\n",
    "\n",
    "# Remove wrong column\n",
    "del my_data_frame[\"Oups\"]\n",
    "```"
   ]
  },
  {
   "cell_type": "markdown",
   "metadata": {},
   "source": [
    "### ==================== EXERCICE ====================\n",
    "1. Exécuter l'exemple précédent.\n",
    "2. Expérimenter.\n",
    "\n",
    "### ==================== SOLUTION ==================="
   ]
  },
  {
   "cell_type": "markdown",
   "metadata": {},
   "source": [
    "### =============================================="
   ]
  },
  {
   "cell_type": "markdown",
   "metadata": {},
   "source": [
    "### Modifer les valeurs d'un `DataFrame`\n",
    "\n",
    "**Exemple :**\n",
    "```\n",
    "import pandas as pd\n",
    "\n",
    "courses_values = {\n",
    "    \"Name\": [\"C\", \"CPP\", \"Python\", \"Algorithms\"], # column 1\n",
    "    \"Teaching_periods\": [4, 4, 4, 2], # column 2\n",
    "    \"Practical_test\": [False, False, False, False] # column 3\n",
    "}\n",
    "\n",
    "my_data_frame = pd.DataFrame(courses_values)\n",
    "\n",
    "# Insert a column at the end\n",
    "my_data_frame[\"Difficulty\"] = [2, 3, 2, 3]\n",
    "\n",
    "# Modify an element\n",
    "my_data_frame.loc[2,\"Difficulty\"] = 5\n",
    "\n",
    "# Modify a column\n",
    "my_data_frame[\"Difficulty\"] = 5\n",
    "\n",
    "# Modify a line\n",
    "my_data_frame.loc[2] = [\"Python\", 4, True, 3]\n",
    "\n",
    "# Modify several columns at once\n",
    "my_data_frame[[\"Name\", \"Teaching_periods\"]] = [[\"C\", 4], [\"CPP\", 4], [\"Python\", 4], [\"Algorithms\", 2]]\n",
    "\n",
    "# Modify several lines at once\n",
    "my_data_frame[0:2] = [[\"CPP\", 4, False, 5], [\"C\", 4, False, 5]]\n",
    "```"
   ]
  },
  {
   "cell_type": "markdown",
   "metadata": {},
   "source": [
    "### ==================== EXERCICE ====================\n",
    "1. Exécuter l'exemple précédent.\n",
    "2. Expérimenter.\n",
    "\n",
    "### ==================== SOLUTION ==================="
   ]
  },
  {
   "cell_type": "markdown",
   "metadata": {},
   "source": [
    "### =============================================="
   ]
  }
 ],
 "metadata": {
  "kernelspec": {
   "display_name": "Python 3",
   "language": "python",
   "name": "python3"
  },
  "language_info": {
   "codemirror_mode": {
    "name": "ipython",
    "version": 3
   },
   "file_extension": ".py",
   "mimetype": "text/x-python",
   "name": "python",
   "nbconvert_exporter": "python",
   "pygments_lexer": "ipython3",
   "version": "3.8.5"
  }
 },
 "nbformat": 4,
 "nbformat_minor": 4
}
