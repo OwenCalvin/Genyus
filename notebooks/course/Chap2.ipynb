{
 "cells": [
  {
   "cell_type": "markdown",
   "metadata": {},
   "source": [
    "# Chapitre 2 : les bases"
   ]
  },
  {
   "cell_type": "markdown",
   "metadata": {},
   "source": [
    "## Qu'est-ce que Python ?\n",
    "### 1 - Langage interprété\n",
    "**??? Qu'est-ce que ça veut dire ???**\n",
    "\n",
    "**??? Par opposition à quels langages ???**\n",
    "\n",
    "**??? Avantages / inconvénients ???**\n",
    "\n",
    "### 2 - Langage de haut-niveau\n",
    "**??? Qu'est-ce que ça veut dire ???**\n",
    "\n",
    "**??? Par opposition à quels langages ???**\n",
    "\n",
    "**??? Avantages / inconvénients ???**\n",
    "\n",
    "### 3 - Langage orienté object : voir le cours de C++\n",
    "\n"
   ]
  },
  {
   "cell_type": "markdown",
   "metadata": {},
   "source": [
    "## Avoir de l'aide\n",
    "### Rajouter `?` après le nom de la fonction"
   ]
  },
  {
   "cell_type": "markdown",
   "metadata": {},
   "source": [
    "### ==================== EXERCICE ====================\n",
    "1. Afficher l'aide pour la fonction `print`\n",
    "\n",
    "**NOTE :** ça peut prendre un peu de temps.\n",
    "\n",
    "### ==================== SOLUTION ==================="
   ]
  },
  {
   "cell_type": "markdown",
   "metadata": {},
   "source": [
    "### ==============================================="
   ]
  },
  {
   "cell_type": "markdown",
   "metadata": {},
   "source": [
    "## Utiliser les entrées / sorties intermédiaires\n",
    "### `_` correspond à la dernière sortie\n",
    "### `_4` correspond à la sortie numéro 4\n",
    "### `_i` correspond à la dernière entrée\n",
    "### `_i4` correspond à l'entrée numéro 4"
   ]
  },
  {
   "cell_type": "markdown",
   "metadata": {},
   "source": [
    "### ==================== EXERCICE ====================\n",
    "1. Exécuter `10+1*2` dans une cellule\n",
    "2. Récupérer sa sortie et la multiplier par `4`\n",
    "3. Récupérer la sortie précédente et soustraire `6`\n",
    "4. Utiliser l'entrée au point 1, la multiplier par `4` et soustraire 6, sans résultat intermédiaire. **Quelle erreur obtenez-vous ?**\n",
    "5. Refaire la même chose mais en multipliant par `4` uniquement. **Quel résultat obtenez-vous ?**\n",
    "\n",
    "### ==================== SOLUTION ==================="
   ]
  },
  {
   "cell_type": "markdown",
   "metadata": {},
   "source": [
    "### ==============================================="
   ]
  },
  {
   "cell_type": "markdown",
   "metadata": {},
   "source": [
    "## Vérifier le type d'objets\n",
    "### La fonction `type()`"
   ]
  },
  {
   "cell_type": "markdown",
   "metadata": {},
   "source": [
    "### ==================== EXERCICE ====================\n",
    "1. Utiliser la fonction `type()` pour vérifier le type des entrées et des sorties\n",
    "\n",
    "### ==================== SOLUTION ==================="
   ]
  },
  {
   "cell_type": "markdown",
   "metadata": {},
   "source": [
    "### ==============================================="
   ]
  },
  {
   "cell_type": "markdown",
   "metadata": {},
   "source": [
    "## Variables et types\n",
    "### Déclaration avec un identifiant uniquement (par opposition au C par exemple)\n",
    "### Affectation avec l'opérateur `=`\n",
    "### Le type est déduit directement par Python\n"
   ]
  },
  {
   "cell_type": "markdown",
   "metadata": {},
   "source": [
    "### ==================== EXERCICE ====================\n",
    "1. Créer une variable `i` et lui affecter la valeur `42`\n",
    "2. Créer une variable `f` et lui affecter la valeur `42.42`\n",
    "3. Créer une variable `b` et lui affecter la valeur `True`\n",
    "4. Créer une variable `t` et lui affecteur la valeur `\"Hello work!\"`\n",
    "5. Afficher le type pour chacune des variables créées en utilisant les fonction `print()` et `type()`\n",
    "6. Réaffecter les variables avec des valeurs de types différents. **??? Que se passe-t-il ???**\n",
    "\n",
    "### ==================== SOLUTION ==================="
   ]
  },
  {
   "cell_type": "markdown",
   "metadata": {},
   "source": [
    "### ==============================================="
   ]
  },
  {
   "cell_type": "markdown",
   "metadata": {},
   "source": [
    "### Python est un langage tout objet (par opposition au C)\n",
    "### => ceci offre une très grande souplesse\n"
   ]
  },
  {
   "cell_type": "markdown",
   "metadata": {},
   "source": [
    "### ==================== EXERCICE ====================\n",
    "1. Appliquer la fonction `upper()` à la chaîne de caractère `\"Hello\"`, sans passer par une variable. **??? Que se passe-t-il ???**\n",
    "2. Idem avec la fonction `lower()`.  **??? Que se passe-t-il ???**\n",
    "3. Noter la différence avec le C.\n",
    "\n",
    "### ==================== SOLUTION ==================="
   ]
  },
  {
   "cell_type": "markdown",
   "metadata": {},
   "source": [
    "### ==============================================="
   ]
  },
  {
   "cell_type": "markdown",
   "metadata": {},
   "source": [
    "### Les lignes de commentaire commencent par le caractère `#`"
   ]
  },
  {
   "cell_type": "markdown",
   "metadata": {},
   "source": [
    "### Les opérateurs logique `not`, `and`, `or`"
   ]
  },
  {
   "cell_type": "markdown",
   "metadata": {},
   "source": [
    "### ==================== EXERCICE ====================\n",
    "1. Expérimentez avec ces opérateurs\n",
    "\n",
    "### ==================== SOLUTION ==================="
   ]
  },
  {
   "cell_type": "markdown",
   "metadata": {},
   "source": [
    "### ==============================================="
   ]
  },
  {
   "cell_type": "markdown",
   "metadata": {},
   "source": [
    "### Les opérateurs de comparaison `==`, `!=`, `>`, `<`, `>=` et `<=`"
   ]
  },
  {
   "cell_type": "markdown",
   "metadata": {},
   "source": [
    "### ==================== EXERCICE ====================\n",
    "1. Expérimentez avec ces opérateurs\n",
    "\n",
    "### ==================== SOLUTION ==================="
   ]
  },
  {
   "cell_type": "markdown",
   "metadata": {},
   "source": [
    "### ==============================================="
   ]
  },
  {
   "cell_type": "markdown",
   "metadata": {},
   "source": [
    "### Les opérateurs `+`, `-`, `*`, `/`, `//`, `**`, `%` et la fonction `pow()`"
   ]
  },
  {
   "cell_type": "markdown",
   "metadata": {},
   "source": [
    "### ==================== EXERCICE ====================\n",
    "1. Expérimentez avec ces opérateurs\n",
    "2. Que fait `2 ** 3` ?\n",
    "3. Que fait `pow(2, 3)` ?\n",
    "4. Que retourne `12 / 5` ?\n",
    "5. Que retourne `12 // 5` ?\n",
    "\n",
    "### ==================== SOLUTION =================="
   ]
  },
  {
   "cell_type": "markdown",
   "metadata": {},
   "source": [
    "### =============================================="
   ]
  }
 ],
 "metadata": {
  "kernelspec": {
   "display_name": "Python 3",
   "language": "python",
   "name": "python3"
  },
  "language_info": {
   "codemirror_mode": {
    "name": "ipython",
    "version": 3
   },
   "file_extension": ".py",
   "mimetype": "text/x-python",
   "name": "python",
   "nbconvert_exporter": "python",
   "pygments_lexer": "ipython3",
   "version": "3.8.5"
  }
 },
 "nbformat": 4,
 "nbformat_minor": 4
}
