{
 "cells": [
  {
   "cell_type": "markdown",
   "metadata": {},
   "source": [
    "<h1 style=\"background-color:red;color:white;padding:10px;text-align: center;font-size: 60px;\">CHAPITRE 12 : NUMPY (SUITE)</h1>"
   ]
  },
  {
   "cell_type": "markdown",
   "metadata": {},
   "source": [
    "<h1 style=\"color:red;padding:4px;border-bottom: 4px solid red\">RÉFÉRENCES</h1>\n",
    "\n",
    "## [Documentation NumPy](https://numpy.org)"
   ]
  },
  {
   "cell_type": "markdown",
   "metadata": {},
   "source": [
    "<h1 style=\"color:red;padding:4px;border-bottom: 4px solid red\">RAPPELS</h1>\n",
    "\n",
    "# Les `ndarray` : tableaux à `n` dimensions\n",
    "# Construction : `np.array()`, `linspace()`, `arange()`\n",
    "# `np.array()` prédéfinis : `eye()`, `zeros()`, `ones()` et `full()`\n",
    "# `ndarray` de valeurs aléatoires : le module `numpy.random`\n",
    "# La méthode `reshape()`\n",
    "# Slicing avec `[start:end:step]`\n",
    "\n",
    "**Exemple :**\n",
    "```python\n",
    "import numpy as np\n",
    "\n",
    "mean = 0\n",
    "sd = 1\n",
    "size = (3, 4) # 3 lines, 4 columns\n",
    "arr = np.random.normal(mean, sd, size)\n",
    "\n",
    "# The last 2 columns\n",
    "arr[:, -2:]\n",
    "```"
   ]
  },
  {
   "cell_type": "markdown",
   "metadata": {},
   "source": [
    "<h1 style=\"color:red;padding:4px;border-bottom: 4px solid red\">ASSEMBLAGES</h1>\n",
    "\n",
    "# Verticalement : la fonction [`vstack()`](https://numpy.org/doc/stable/reference/generated/numpy.vstack.html)\n",
    "# Horizontalement : la fonction [`hstack()`](https://numpy.org/doc/stable/reference/generated/numpy.hstack.html)\n",
    "# Génériquement : la fonction [`concatenate()`](https://numpy.org/doc/stable/reference/generated/numpy.concatenate.html)\n",
    "\n",
    "**Exemple :**\n",
    "```python\n",
    "import numpy as np\n",
    "\n",
    "size = (2, 5)\n",
    "A = np.ones(size)\n",
    "B = A*10\n",
    "\n",
    "C1 = np.vstack((A,B))\n",
    "C2 = np.concatenate((A,B), axis=0)\n",
    "\n",
    "D1 = np.hstack((A,B))\n",
    "D2 = np.concatenate((A,B), axis=1)\n",
    "```"
   ]
  },
  {
   "cell_type": "markdown",
   "metadata": {},
   "source": [
    "<h4 style=\"background-color:#ffdddd;padding:10px;font-weight: bold;\">\n",
    "\n",
    "EXERCICE\n",
    "1. Exécuter l'exemple donné précédemment.\n",
    "2. Expérimenter.\n",
    "3. Afficher la forme des arrays.\n",
    "</h4>"
   ]
  },
  {
   "cell_type": "markdown",
   "metadata": {},
   "source": [
    "<h1 style=\"color:red;padding:4px;border-bottom: 4px solid red\">COMPRESSIONS</h1>\n",
    "\n",
    "# La méthode [`squeeze()`](https://numpy.org/doc/stable/reference/generated/numpy.squeeze.html)\n",
    "# La méthode [`ravel()`](https://numpy.org/doc/stable/reference/generated/numpy.ndarray.ravel.html)\n",
    "\n",
    "**Exemple :**\n",
    "```python\n",
    "import numpy as np\n",
    "\n",
    "size = (2, 1, 3, 1)\n",
    "A = np.ones(size)\n",
    "\n",
    "B = A.squeeze()\n",
    "\n",
    "C = A.ravel()\n",
    "```"
   ]
  },
  {
   "cell_type": "markdown",
   "metadata": {},
   "source": [
    "<h4 style=\"background-color:#ffdddd;padding:10px;font-weight: bold;\">\n",
    "\n",
    "EXERCICE\n",
    "1. Exécuter l'exemple donné précédemment.\n",
    "2. Expérimenter.\n",
    "3. Afficher le nombre de dimensions des arrays.\n",
    "</h4>"
   ]
  },
  {
   "cell_type": "markdown",
   "metadata": {},
   "source": [
    "<h1 style=\"color:red;padding:4px;border-bottom: 4px solid red\">MASQUES</h1>\n",
    "\n",
    "# Utiliser une liste de booléens pour indexer le `ndarray`\n",
    "\n",
    "**Exemple :**\n",
    "```python\n",
    "import numpy as np\n",
    "\n",
    "mean = 0\n",
    "sd = 10\n",
    "size = (3, 3)\n",
    "A = np.random.normal(mean, sd, size)\n",
    "\n",
    "# Element-wise comparison => returns an array of booleans\n",
    "B = A<0\n",
    "\n",
    "# Only considers indexes for which the value is negative, then edit it\n",
    "A[B] = 0\n",
    "```"
   ]
  },
  {
   "cell_type": "markdown",
   "metadata": {},
   "source": [
    "<h4 style=\"background-color:#ffdddd;padding:10px;font-weight: bold;\">\n",
    "\n",
    "EXERCICE\n",
    "1. Exécuter l'exemple donné précédemment.\n",
    "2. Expérimenter.\n",
    "3. Utiliser la fonction [`invert()`](https://numpy.org/doc/stable/reference/generated/numpy.invert.html) pour uniquement modifier les valeurs positives.\n",
    "4. Comment combiner plusieurs comparaisons pour modifier notre `array` ?\n",
    "</h4>"
   ]
  },
  {
   "cell_type": "markdown",
   "metadata": {},
   "source": [
    "<h1 style=\"color:red;padding:4px;border-bottom: 4px solid red\">FONCTIONS MATHÉMATIQUES</h1>\n",
    "\n",
    "# La fonction [`sum(axis)`](https://numpy.org/doc/stable/reference/generated/numpy.sum.html#numpy.sum)\n",
    "\n",
    "**Exemple :**\n",
    "```python\n",
    "import numpy as np\n",
    "\n",
    "size = (4, 3)\n",
    "A = np.ones(size)\n",
    "\n",
    "B = A.sum(axis=0)\n",
    "C = A.sum(axis=1)\n",
    "```"
   ]
  },
  {
   "cell_type": "markdown",
   "metadata": {},
   "source": [
    "<h4 style=\"background-color:#ffdddd;padding:10px;font-weight: bold;\">\n",
    "\n",
    "EXERCICE\n",
    "1. Exécuter l'exemple donné précédemment.\n",
    "2. Expérimenter.\n",
    "</h4>"
   ]
  },
  {
   "cell_type": "markdown",
   "metadata": {},
   "source": [
    "# La fonction [`prod(axis)`](https://numpy.org/doc/stable/reference/generated/numpy.prod.html)\n",
    "\n",
    "**Exemple :**\n",
    "```python\n",
    "import numpy as np\n",
    "\n",
    "mean = 0\n",
    "sd = 10\n",
    "size = (4, 3)\n",
    "A = np.random.normal(mean, sd, size)\n",
    "\n",
    "B = A.prod(axis=0)\n",
    "C = A.prod(axis=1)\n",
    "```"
   ]
  },
  {
   "cell_type": "markdown",
   "metadata": {},
   "source": [
    "<h4 style=\"background-color:#ffdddd;padding:10px;font-weight: bold;\">\n",
    "\n",
    "EXERCICE\n",
    "1. Exécuter l'exemple donné précédemment.\n",
    "2. Expérimenter.\n",
    "</h4>"
   ]
  },
  {
   "cell_type": "markdown",
   "metadata": {},
   "source": [
    "# Trouver les extremums\n",
    "## La fonction [`min(axis)`](https://numpy.org/doc/stable/reference/generated/numpy.ndarray.min.html)\n",
    "## La fonction [`argmin(axis)`](https://numpy.org/doc/stable/reference/generated/numpy.ndarray.argmin.html)\n",
    "## La fonction [`max(axis)`](https://numpy.org/doc/stable/reference/generated/numpy.ndarray.max.html)\n",
    "## La fonction [`argmax(axis)`](https://numpy.org/doc/stable/reference/generated/numpy.ndarray.argmax.html)"
   ]
  },
  {
   "cell_type": "markdown",
   "metadata": {},
   "source": [
    "<h4 style=\"background-color:#ffdddd;padding:10px;font-weight: bold;\">\n",
    "\n",
    "EXERCICE\n",
    "1. Générer un `array` de valeurs aléatoires.\n",
    "2. Utiliser les 4 fonctions données ci-dessus.\n",
    "3. Que font-elles ?\n",
    "4. En particulier, que retournent les fonctions `argmin` et `argmax` ?\n",
    "5. Utiliser ces fonctions selon des `axis` différents.\n",
    "</h4>"
   ]
  },
  {
   "cell_type": "markdown",
   "metadata": {},
   "source": [
    "# Les tris\n",
    "## La fonction [`sort(axis)`](https://numpy.org/doc/stable/reference/generated/numpy.ndarray.sort.html)\n",
    "**ATTENTION :** Le tri est en place !\n",
    "## La fonction [`argsort(axis)`](https://numpy.org/doc/stable/reference/generated/numpy.ndarray.argsort.html)"
   ]
  },
  {
   "cell_type": "markdown",
   "metadata": {},
   "source": [
    "<h4 style=\"background-color:#ffdddd;padding:10px;font-weight: bold;\">\n",
    "\n",
    "EXERCICE\n",
    "1. Générer un `array` de valeurs aléatoires.\n",
    "2. Utiliser les 2 fonctions données ci-dessus.\n",
    "3. Que font-elles ?\n",
    "</h4>"
   ]
  },
  {
   "cell_type": "markdown",
   "metadata": {},
   "source": [
    "# Les routines"
   ]
  },
  {
   "cell_type": "code",
   "execution_count": null,
   "metadata": {},
   "outputs": [],
   "source": [
    "import IPython as IPy\n",
    "url = \"https://numpy.org/doc/stable/reference/routines.html\"\n",
    "iframe = IPy.display.IFrame(url, width=\"1200\", height=\"1000\")\n",
    "display(iframe)"
   ]
  },
  {
   "cell_type": "markdown",
   "metadata": {},
   "source": [
    "<h1 style=\"color:red;padding:4px;border-bottom: 4px solid red\">RETOUR SUR LES `VIEWS`</h1>\n",
    "\n",
    "**RAPPEL :**   \n",
    "    \n",
    "- Une `View` affiche les données initiales, mais sous une autre forme.\n",
    "- Les données initiales sont **partagées**.\n",
    "- Modifier une `View` modifie les données initiales.\n",
    "- Utiliser la fonction `view()`.\n",
    "- Les `slicing` génèrent des `Views`.\n",
    "\n",
    "# Affectation : Python utilise une référence\n",
    "\n",
    "**Exemple :**\n",
    "```python\n",
    "import numpy as np\n",
    "\n",
    "A = np.arange(16)\n",
    "\n",
    "# B is a reference to A: modifying either one, modifies the other\n",
    "B = A\n",
    "\n",
    "# Modifying B will modifies A\n",
    "B[0] = 99\n",
    "# Modifying A will modifies B\n",
    "A[1] = 99\n",
    "```"
   ]
  },
  {
   "cell_type": "markdown",
   "metadata": {},
   "source": [
    "<h4 style=\"background-color:#ffdddd;padding:10px;font-weight: bold;\">\n",
    "\n",
    "EXERCICE\n",
    "1. Exécuter l'exemple précédent.\n",
    "2. Vérifier que `A is B` et que `B is A`.\n",
    "3. Que se passe-t-il quand on `reshape` un des 2 tableaux ?\n",
    "4. Que se passe-t-il quand on modifie les données d'un des 2 tableaux (pour les données de l'autre) ?\n",
    "</h4>"
   ]
  },
  {
   "cell_type": "markdown",
   "metadata": {},
   "source": [
    "# `reshape()` : retourne une `view` **quand c'est possible**"
   ]
  },
  {
   "cell_type": "markdown",
   "metadata": {},
   "source": [
    "<h4 style=\"background-color:#ffdddd;padding:10px;font-weight: bold;\">\n",
    "\n",
    "EXERCICE\n",
    "1. Reprendre l'exemple précédent.\n",
    "2. Que se passe-t-il pour le références quand on `reshape` un des 2 tableaux ?\n",
    "3. Que se passe-t-il quand on modifie les données d'un des 2 tableaux (pour les données de l'autre) ?\n",
    "</h4>"
   ]
  },
  {
   "cell_type": "markdown",
   "metadata": {},
   "source": [
    "# Slicing retourne une `view`\n",
    "\n",
    "**Exemple :**\n",
    "```python\n",
    "import numpy as np\n",
    "\n",
    "A = np.zeros(shape=(9,9))\n",
    "\n",
    "# SLICING: B is a view of A, so they share the same data\n",
    "B = A[2:-2,2:-2]\n",
    "\n",
    "B[:] = 9\n",
    "```"
   ]
  },
  {
   "cell_type": "markdown",
   "metadata": {},
   "source": [
    "<h4 style=\"background-color:#ffdddd;padding:10px;font-weight: bold;\">\n",
    "\n",
    "EXERCICE\n",
    "1. Exécuter l'exemple précédent.\n",
    "2. Expérimenter.\n",
    "</h4>"
   ]
  }
 ],
 "metadata": {
  "kernelspec": {
   "display_name": "Python 3",
   "language": "python",
   "name": "python3"
  },
  "language_info": {
   "codemirror_mode": {
    "name": "ipython",
    "version": 3
   },
   "file_extension": ".py",
   "mimetype": "text/x-python",
   "name": "python",
   "nbconvert_exporter": "python",
   "pygments_lexer": "ipython3",
   "version": "3.8.10"
  }
 },
 "nbformat": 4,
 "nbformat_minor": 4
}
