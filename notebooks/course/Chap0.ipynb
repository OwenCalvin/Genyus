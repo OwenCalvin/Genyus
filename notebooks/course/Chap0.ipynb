{
 "cells": [
  {
   "cell_type": "markdown",
   "metadata": {},
   "source": [
    "# Chapitre 0 : organisation du cours\n",
    "## Informations générales\n",
    "### Professeur : Benoit Le Callennec\n",
    "### Assistant : Nicolas Minnig\n",
    "\n",
    "**Groupes :** ISC1c et ISC1d\n",
    "\n",
    "**Horaires :** les mardis de 12h30 à 14h00 (Cours) / les jeudis de 12h30 à 14h00 (exercices + projet)\n",
    "\n",
    "**Lieu :** à distance sur Discord (https://discord.gg/FMJcYcgBr9)\n",
    "\n",
    "## Références\n",
    "![python-pour-le-data-scientist-dunod](medias/python-pour-le-data-scientist-dunod.jpeg)\n",
    "\n",
    "Ce cours se base sur le livre **Python pour le data scientist**, *Emmanuel Jakobowicz*, Dunod, octobre 2018. \n",
    "Il est disponible en ligne ici : http://univ.scholarvox.com/catalog/book/docid/88863926. **ATTENTION :** il faut être connecté au VPN pour pouvoir y accéder.\n",
    "\n",
    "## Notation\n",
    "| Activité | Pondération |\n",
    "| ------------------ |:-------------:|\n",
    "| Contrôle Principal | 50% |\n",
    "| Projet             | 50% |\n",
    "\n",
    "## Dates importantes\n",
    "**Jeudi 10 juin 2021 :** rendu du projet\n",
    "\n",
    "**Jeudi 17 juin 2021 :** contrôle principal\n",
    "\n",
    "## Conventions\n",
    "- Tout le code (et les commentaires) doit être en **Anglais**.\n",
    "\n",
    "## Travail hebdomadaire\n",
    "### Enseignement en classe (3h / semaine)\n",
    "\n",
    "### Travail autonome (3h / semaine)\n",
    "\n",
    "## Outils pour le cours\n",
    "### DISCORD : [https://discord.gg/Zg8DHbq2mt](https://discord.gg/Zg8DHbq2mt)\n",
    "### GITLAB : [https://gitlab-etu.ing.he-arc.ch/benoit.lecallen/1242.4_python_et_introduction_aux_donnees](https://gitlab-etu.ing.he-arc.ch/benoit.lecallen/1242.4_python_et_introduction_aux_donnees)"
   ]
  }
 ],
 "metadata": {
  "kernelspec": {
   "display_name": "Python 3",
   "language": "python",
   "name": "python3"
  },
  "language_info": {
   "codemirror_mode": {
    "name": "ipython",
    "version": 3
   },
   "file_extension": ".py",
   "mimetype": "text/x-python",
   "name": "python",
   "nbconvert_exporter": "python",
   "pygments_lexer": "ipython3",
   "version": "3.8.5"
  }
 },
 "nbformat": 4,
 "nbformat_minor": 4
}
