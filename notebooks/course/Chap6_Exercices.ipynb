{
 "cells": [
  {
   "cell_type": "markdown",
   "metadata": {},
   "source": [
    "# Chapitre 6 : exercices"
   ]
  },
  {
   "cell_type": "markdown",
   "metadata": {},
   "source": [
    "## RAPPEL : [Documentation des routines Numpy](https://numpy.org/doc/stable/reference/routines.html)"
   ]
  },
  {
   "cell_type": "markdown",
   "metadata": {},
   "source": [
    "## Exercice 6.1\n",
    "1. Écrire une fonction qui teste si un `ndarray` contient au moins une valeur nulle.\n",
    "\n",
    "**REMARQUE :** utiliser la routine [`all()`](https://numpy.org/doc/stable/reference/generated/numpy.all.html)."
   ]
  },
  {
   "cell_type": "markdown",
   "metadata": {},
   "source": [
    "## Exercice 6.2\n",
    "1. Écrire une fonction qui teste si un `ndarray` contient un entier passé en paramètre.\n",
    "\n",
    "**REMARQUE :** utiliser l'opérateur `in`."
   ]
  },
  {
   "cell_type": "markdown",
   "metadata": {},
   "source": [
    "## Exercice 6.3\n",
    "1. Écrire une fonction qui teste si un `ndarray` contient un `NaN`.\n",
    "\n",
    "**REMARQUE :** utiliser la routine  `isnan()`.\n",
    "**REMARQUE :** pour \"créer\" un `NaN`, utiliser `np.nan`."
   ]
  },
  {
   "cell_type": "markdown",
   "metadata": {},
   "source": [
    "## Exercice 6.4\n",
    "1. Écrire une fonction qui teste si 2 `ndarray`s contiennent les mêmes valeurs numériques (avec une tolérance), et dans le même ordre.\n",
    "\n",
    "**REMARQUE :** utiliser la routine [`allclose()`](https://numpy.org/doc/stable/reference/generated/numpy.allclose.html)."
   ]
  },
  {
   "cell_type": "markdown",
   "metadata": {},
   "source": [
    "## Exercice 6.5\n",
    "1. Écrire une fonction qui retourne une matrice diagonale de dimensions 4 x 4 ne contenant que des 99."
   ]
  },
  {
   "cell_type": "markdown",
   "metadata": {},
   "source": [
    "## Exercice 6.6\n",
    "1. Écrire une fonction qui prend un `ndarray` et un entier `clamp` en paramètre et qui retourne le `ndarray` amputé des `clamp` premières et dernières valeurs."
   ]
  },
  {
   "cell_type": "markdown",
   "metadata": {},
   "source": [
    "## Exercice 6.7\n",
    "1. Écrire une fonction qui retourne un `ndarray` formé des valeurs de 0 à 20 dans cet ordre, et qui inverse le signe des valeurs impaires."
   ]
  },
  {
   "cell_type": "markdown",
   "metadata": {},
   "source": [
    "## Exercice 6.8\n",
    "1. Écrire une fonction qui créé 2 `ndarray`, les remplit de valeurs aléatoires, puis les multiplie valeur par valeur. La taille des `ndarray` sera passée en paramètre."
   ]
  },
  {
   "cell_type": "markdown",
   "metadata": {},
   "source": [
    "## Exercice 6.9\n",
    "1. Écrire une fonction qui créé 1 matrice 4*5 remplie des valeurs entre 101 et 120 incluse, dans l'ordre."
   ]
  },
  {
   "cell_type": "markdown",
   "metadata": {},
   "source": [
    "## Exercice 6.10\n",
    "1. Écrire une fonction qui créé 1 matrice dont la taille est passée en paramètre, et qui met tous les éléments à 0, sauf ceux de la \"bordure\" qui sont à 1."
   ]
  },
  {
   "cell_type": "markdown",
   "metadata": {},
   "source": [
    "## Exercice 6.11\n",
    "1. Écrire une fonction qui créé 1 matrice diagonale dont la taille est passée en paramètre, et qui met tous les éléments de la diagonale à 1, 2, 3, 4, etc."
   ]
  },
  {
   "cell_type": "markdown",
   "metadata": {},
   "source": [
    "## Exercice 6.12\n",
    "1. Écrire une fonction qui prend une matrice en entrée et qui retourne le vecteur contenant la somme des valeurs de chaque ligne.\n",
    "\n",
    "**REMARQUE :** utiliser la routine [`sum`](https://numpy.org/doc/stable/reference/generated/numpy.sum.html) pour ça."
   ]
  },
  {
   "cell_type": "markdown",
   "metadata": {},
   "source": [
    "## Exercice 6.13\n",
    "1. Écrire une fonction qui trie les lignes d'une matrice d'entiers dans l'ordre croissant.\n",
    "2. Écrire une fonction qui trie les colonnes d'une matrice d'entiers dans l'ordre croissant.\n",
    "3. Écrire une fonction qui trie tous les éléments d'une matrice d'entiers dans l'ordre croissant.\n",
    "\n",
    "**REMARQUE :** utiliser la routine [`sort`](https://numpy.org/doc/stable/reference/generated/numpy.sort.html)."
   ]
  },
  {
   "cell_type": "markdown",
   "metadata": {},
   "source": [
    "## Exercice 6.14\n",
    "1. Écrire une fonction qui prend une matrice en paramètre et échange les colonnes (la 1ère devient la dernière, etc)."
   ]
  }
 ],
 "metadata": {
  "kernelspec": {
   "display_name": "Python 3",
   "language": "python",
   "name": "python3"
  },
  "language_info": {
   "codemirror_mode": {
    "name": "ipython",
    "version": 3
   },
   "file_extension": ".py",
   "mimetype": "text/x-python",
   "name": "python",
   "nbconvert_exporter": "python",
   "pygments_lexer": "ipython3",
   "version": "3.8.5"
  }
 },
 "nbformat": 4,
 "nbformat_minor": 4
}
