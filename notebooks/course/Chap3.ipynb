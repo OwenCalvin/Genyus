{
 "cells": [
  {
   "cell_type": "markdown",
   "metadata": {},
   "source": [
    "# Chapitre 3 : les bases (suite)"
   ]
  },
  {
   "cell_type": "markdown",
   "metadata": {},
   "source": [
    "\n",
    "## Chaînes de caractères\n",
    "### Sur 1 ligne\n",
    "- Englober la chaîne de caractères par des `'`\n",
    "- Englober la chaîne de caractères par des `\"`\n",
    "\n",
    "### Sur plusieurs lignes\n",
    "- Englober la chaîne de caractères par des `'''` (triples `'`)\n",
    "- Englober la chaîne de caractères par des `\"\"\"` (triples `\"`)\n",
    "\n",
    "### Les caractères spéciaux\n",
    "- `''` : ligne vide\n",
    "- `'\\n'` : retour à la ligne\n",
    "- `'\\t'` : tabulation"
   ]
  },
  {
   "cell_type": "markdown",
   "metadata": {},
   "source": [
    "### ==================== EXERCICE ====================\n",
    "1. Afficher la chaîne de caractères `\"Hello World!\"` en utilisant la fonction `print()`\n",
    "2. De la même manière, afficher une chaîne de caractères tenant sur plusieurs lignes\n",
    "3. Afficher des chaînes de caractères contenant les caractères spéciaux précédents\n",
    "\n",
    "### ==================== SOLUTION ==================="
   ]
  },
  {
   "cell_type": "markdown",
   "metadata": {},
   "source": [
    "### ==============================================="
   ]
  },
  {
   "cell_type": "markdown",
   "metadata": {},
   "source": [
    "### Les fonctions sur les chaînes de caractères\n",
    "- `capitalize()` : met la première lettre en majuscule\n",
    "- `lower()` : met toutes les lettres en minuscules\n",
    "- `upper()` : met toutes les lettres en majuscules\n",
    "- `count(word)` : compte le nombre d'occurences de `word` dans la chaîne de caractères\n",
    "- `find(sub_word)` : recherche `sub_word` dans la chaîne de caractères et retourne l'indice correspondant, et -1 sinon\n",
    "- `replace(sub_word, replacement_word)` : recherche `sub_word` dans la chaîne de caractères et le remplace par `replacement_word`\n",
    "- `lstrip()` / `rstrip()` / `strip()` : enlève les espaces en début / fin / début **et** fin de la chaîne de caractères"
   ]
  },
  {
   "cell_type": "markdown",
   "metadata": {},
   "source": [
    "### ==================== EXERCICE ====================\n",
    "1. Créer la chaîne de caractères `Hello world! How are you?` avec des espaces en début et fin de chaîne\n",
    "2. Utiliser les fonctions ci-dessus et noter ce qu'elles font\n",
    "\n",
    "### ==================== SOLUTION ==================="
   ]
  },
  {
   "cell_type": "markdown",
   "metadata": {},
   "source": [
    "### =============================================="
   ]
  },
  {
   "cell_type": "markdown",
   "metadata": {},
   "source": [
    "### Les fonctions de conversion\n",
    "- `str(value)` convertit `value` en chaîne de caractères\n",
    "- `int(value)` convertit `value` en  en entier\n",
    "- `float(value)` convertit `value` en flottant\n",
    "- `bool(value)` convertit `value` en booléen\n",
    "\n"
   ]
  },
  {
   "cell_type": "markdown",
   "metadata": {},
   "source": [
    "### ==================== EXERCICE ====================\n",
    "1. Utiliser les fonctions de conversion pour convertir des valeurs des 4 types (str, int, float et bool) vers les 4 autres types\n",
    "2. Expérimentez avec la fonction `bool()`. Quelles règles peut-on en déduire ?\n",
    "3. Expérimentez avec la fonction `int()`. Quelles règles peut-on en déduire ?\n",
    "4. Expérimentez avec la fonction `float()`. Quelles règles peut-on en déduire ?\n",
    "\n",
    "### ==================== SOLUTION ==================="
   ]
  },
  {
   "cell_type": "markdown",
   "metadata": {},
   "source": [
    "### L'opérateur `+`\n",
    "#### Permet de concaténer plusieurs chaînes de caractères"
   ]
  },
  {
   "cell_type": "markdown",
   "metadata": {},
   "source": [
    "### L'opérateur `*`\n",
    "#### Permet de dupliquer une chaînes de caractères"
   ]
  },
  {
   "cell_type": "markdown",
   "metadata": {},
   "source": [
    "### ==================== EXERCICE ====================\n",
    "1. Utiliser la fonction `str()` pour convertir, concaténer et afficher un entier, un flottant et un booléen\n",
    "2. Utiliser `*` pour dupliquer une chaîne de caractères et l'afficher\n",
    "3. Utiliser les fonctions `int()` et `float()` pour convertir des chaînes de caractères en entier et en flottants\n",
    "\n",
    "### ==================== SOLUTION ==================="
   ]
  },
  {
   "cell_type": "markdown",
   "metadata": {},
   "source": [
    "### =============================================="
   ]
  },
  {
   "cell_type": "markdown",
   "metadata": {},
   "source": [
    "## Les tuples\n",
    "- Structure regroupant plusieurs objets\n",
    "- Les objets peuvent être de **types différents**\n",
    "- Créé avec `()`\n",
    "- On accède aux objets avec l'opérateur `[]`\n",
    "- Indexée à partir de **0**\n",
    "- **Immuable** (***immutable*** en Anglais) : il ne peut pas être modifié après sa définition\n",
    "\n",
    "### Exemple :\n",
    "```\n",
    "my_tuple = (\"prénom\", \"nom\", 42, True, 4.2)\n",
    "print(my_tuple[3])\n",
    "```"
   ]
  },
  {
   "cell_type": "markdown",
   "metadata": {},
   "source": [
    "### ==================== EXERCICE ====================\n",
    "1. Créer un tuple contenant des chaînes de caractères, des entiers, des floats et des booléens\n",
    "2. Afficher les objets du tuple un par un\n",
    "3. Essayez de changer la valeur des objets du tuple. Notez bien l'erreur obtenue\n",
    "\n",
    "### ==================== SOLUTION ==================="
   ]
  },
  {
   "cell_type": "markdown",
   "metadata": {},
   "source": [
    "### =============================================="
   ]
  },
  {
   "cell_type": "markdown",
   "metadata": {},
   "source": [
    "## Les listes\n",
    "- Structure regroupant plusieurs objets\n",
    "- Les objets peuvent être de **types différents**\n",
    "- Créée avec `[]`\n",
    "- On accède aux objets avec l'opérateur `[]`\n",
    "- Indexée à partir de **0**\n",
    "- **muable** (***mutable*** en Anglais) : elle **peut** être modifiée après sa définition\n",
    "\n",
    "**Exemple :**\n",
    "\n",
    "```py\n",
    "my_list = [\"prénom\", \"nom\", 42, True, 4.2]\n",
    "print(my_list[3]\n",
    "```"
   ]
  },
  {
   "cell_type": "markdown",
   "metadata": {},
   "source": [
    "### ==================== EXERCICE ====================\n",
    "1. Créer une liste contenant des chaînes de caractères, des entiers, des floats et des booléens\n",
    "2. Afficher les objets de la liste un par un\n",
    "3. Modifier la valeur de plusieurs éléments de la liste\n",
    "4. Essayer de rajouter un élément à la fin de la liste avec l'opérateur `[]` et noter l'erreur affichée\n",
    "\n",
    "### ==================== SOLUTION ==================="
   ]
  },
  {
   "cell_type": "markdown",
   "metadata": {},
   "source": [
    "### =============================================="
   ]
  },
  {
   "cell_type": "markdown",
   "metadata": {},
   "source": [
    "### Fonctions sur une liste\n",
    "\n",
    "- `append()` : rajoute un élément à la fin\n",
    "- `insert(i, val)` : insert `val` à l'indice `i`\n",
    "- `pop(i)` : retire l'élément à l'indice `i` et le retourne en résultat\n",
    "- `reverse()` : inverse la liste\n",
    "- `extend(list)` : rajoute `list` à la fin de la liste\n",
    "- opérateur `+` : identique à `extend(list)`\n",
    "- `index(val)` : indice de l'élément de valeur `val`\n",
    "- `count(val)` : nombre d'éléments de valeur `val`\n",
    "- `remove(val)` : enlève le premier élément de valeur `val`\n",
    "\n"
   ]
  },
  {
   "cell_type": "markdown",
   "metadata": {},
   "source": [
    "**Exemple :**\n",
    "```my_list = [\"nom\", \"prénom\"]\n",
    "my_list.append(42)\n",
    "my_list.insert(1, \"surnom\")\n",
    "value = my_list.pop(3)\n",
    "my_list.reverse()\n",
    "my_list.extend([7.3, 32., False])\n",
    "my_list = my_list + [True, False]\n",
    "id = my_list.index(\"prénom\")\n",
    "count = my_list.count(False)\n",
    "my_list.remove(False)```"
   ]
  },
  {
   "cell_type": "markdown",
   "metadata": {},
   "source": [
    "### ==================== EXERCICE ====================\n",
    "1. Créer une liste contenant des objets de types différents\n",
    "2. Modifier la liste créée en utilisant les fonctions précédentes\n",
    "3. Imprimer la liste à chaque étape\n",
    "\n",
    "### ==================== SOLUTION ==================="
   ]
  },
  {
   "cell_type": "markdown",
   "metadata": {},
   "source": [
    "### =============================================="
   ]
  },
  {
   "cell_type": "markdown",
   "metadata": {},
   "source": [
    "### Extraction d'éléments sur une liste\n",
    "#### L'opérateur `[i]` permet d'accéder à l'élément d'indice `i`\n",
    "#### L'opérateur `[i:j]` permet d'accéder aux éléments entre les indices `i` inclus, et `j` non-inclus\n",
    "\n",
    "**Remarques :**\n",
    "- On peut omettre `i` si on souhaite prendre les éléments depuis le début de la liste\n",
    "- On peut omettre `j` si on souhaite prendre les éléments jusqu'à la fin de la liste\n",
    "- L'indexation est circulaire : 0 est l'indice du premier élément, -1 l'indice du dernier élément, -2 l'indice de l'avant-dernier élément, etc.\n"
   ]
  },
  {
   "cell_type": "markdown",
   "metadata": {},
   "source": [
    "### ==================== EXERCICE ====================\n",
    "1. Créer une liste\n",
    "2. Récupérer le dernier élément\n",
    "3. Récupérer la liste constituée des 3 premiers éléments\n",
    "4. Récupérer la liste constituée des 2 derniers éléments\n",
    "\n",
    "### ==================== SOLUTION ==================="
   ]
  },
  {
   "cell_type": "markdown",
   "metadata": {},
   "source": [
    "### =============================================="
   ]
  },
  {
   "cell_type": "markdown",
   "metadata": {},
   "source": [
    "### Chaînes de caractères et listes\n",
    "\n",
    "Une chaîne de caractères est aussi une liste de caractères.\n",
    "\n",
    "On peut donc aussi utiliser les fonctions suivantes pour convertir entre les chaînes de caractères et les listes :\n",
    "- `split()` : créé un liste en séparant les mots de la chaîne de caractères\n",
    "- `join()` : créé une chaîne de caractères en concaténant les éléments d'une liste\n",
    "\n",
    "**Exemple :**\n",
    "\n",
    "```\n",
    "my_string = \"Hello world! How are you doing?\"\n",
    "my_list = my_string.split()\n",
    "# Use space character to join all words in my_list\n",
    "my_string_2 = \" \".join(my_list)\n",
    "```"
   ]
  },
  {
   "cell_type": "markdown",
   "metadata": {},
   "source": [
    "### ==================== EXERCICE ====================\n",
    "1. Créer une chaîne de caractères contenant plusieurs mots\n",
    "2. Utiliser la fonction `split()` et afficher le résultat\n",
    "3. Utiliser la fonction `join()` sur le résultat précédent et afficher le tout\n",
    "\n",
    "### ==================== SOLUTION ==================="
   ]
  },
  {
   "cell_type": "markdown",
   "metadata": {},
   "source": [
    "## Les dictionnaires\n",
    "- Structure regroupant des associations `clef:valeur`\n",
    "- Les clefs sont uniques\n",
    "- Les clefs ainsi que les valeurs peuvent être de **types différents**\n",
    "- Créés avec `{}`\n",
    "- On accède aux objets avec l'opérateur `[]`\n",
    "- Indexés par les clefs\n",
    "- **muable** (***mutable*** en Anglais) : il **peut** être modifiée après sa définition\n",
    "\n",
    "**Exemple :**\n",
    "\n",
    "```my_dict = {34:45, \"34\":46, True:\"True\", \"False\":False}\n",
    "my_dict[\"34\"] = 47\n",
    "my_dict[42] = 42.43```"
   ]
  },
  {
   "cell_type": "markdown",
   "metadata": {},
   "source": [
    "### ==================== EXERCICE ====================\n",
    "1. Créer un dictionnaire contenant des associations clef:valeur de types différents\n",
    "2. Rajouter une association clef:valeur\n",
    "3. Éditer une association clef:valeur\n",
    "3. Afficher le dictionnaire à chaque étape\n",
    "\n",
    "### ==================== SOLUTION ==================="
   ]
  },
  {
   "cell_type": "markdown",
   "metadata": {},
   "source": [
    "### =============================================="
   ]
  },
  {
   "cell_type": "markdown",
   "metadata": {},
   "source": [
    "## Divers fonctions\n",
    "- `id()` : retourne l'identifiant unique de la variable"
   ]
  },
  {
   "cell_type": "markdown",
   "metadata": {},
   "source": [
    "### ==================== EXERCICE ====================\n",
    "1. Créer plusieurs les variables `a` et `b` et leur allouer les valeurs `42` et `43` respectivement\n",
    "2. Afficher leur identifiant unique\n",
    "3. Allouer la valeur `b` à `a`\n",
    "4. Afficher leur identifiant unique. Que se passe-t-il ?\n",
    "5. Allouer la valeur `b+1` à `a`\n",
    "6. Afficher leur identifiant unique. Que se passe-t-il ?\n",
    "\n",
    "### ==================== SOLUTION ==================="
   ]
  },
  {
   "cell_type": "markdown",
   "metadata": {},
   "source": [
    "### =============================================="
   ]
  }
 ],
 "metadata": {
  "kernelspec": {
   "display_name": "Python 3",
   "language": "python",
   "name": "python3"
  },
  "language_info": {
   "codemirror_mode": {
    "name": "ipython",
    "version": 3
   },
   "file_extension": ".py",
   "mimetype": "text/x-python",
   "name": "python",
   "nbconvert_exporter": "python",
   "pygments_lexer": "ipython3",
   "version": "3.8.5"
  }
 },
 "nbformat": 4,
 "nbformat_minor": 4
}