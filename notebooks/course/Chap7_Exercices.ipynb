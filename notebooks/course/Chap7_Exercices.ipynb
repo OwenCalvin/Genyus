{
 "cells": [
  {
   "cell_type": "markdown",
   "metadata": {},
   "source": [
    "# Chapitre 7 : exercices"
   ]
  },
  {
   "cell_type": "markdown",
   "metadata": {},
   "source": [
    "## RAPPEL : [Documentation Pandas](https://pandas.pydata.org/pandas-docs/stable/#)\n",
    "\n",
    "## ERRATUM : l'opérator logique `not` élément par élément dans Pandas est `~` (et non `!` comme indiqué dans le cours). \n"
   ]
  },
  {
   "cell_type": "markdown",
   "metadata": {},
   "source": [
    "## Exercice 7.1\n",
    "1. Écrire une fonction qui prend en argument 2 listes d'entiers, les convertit en 2 `Serie`s et affiche les résultats des opérateurs `+`, `-`, `*` et `/` appliqués aux listes passées.\n",
    "2. Modifier cette fonction pour prendre en compte des listes de taille différentes. En particulier, il faut gérer les `NaN` avec des valeurs par défaut pertinentes."
   ]
  },
  {
   "cell_type": "markdown",
   "metadata": {},
   "source": [
    "## Exercice .2\n",
    "1. Écrire une fonction qui prend en argument 2 listes d'entiers, les additionne, puis trie la série résultante par ordre croissant (ou par ordre décroissant).\n",
    "2. Prendre en compte le fait que les listes peuvent être de taille différente en mettant NaN au début de la série finale triée."
   ]
  },
  {
   "cell_type": "markdown",
   "metadata": {},
   "source": [
    "## Exercice 7.3\n",
    "1. Écrire une fonction qui prend en argument 1 listes d'entiers `l` et une valeur `v`, et qui retourne une `Serie` avec tous les éléments `l` strictement supérieurs à `v`."
   ]
  },
  {
   "cell_type": "markdown",
   "metadata": {},
   "source": [
    "## Exercice 7.4\n",
    "1. Écrire une fonction qui prend en argument 2 listes d'entiers `l1` et `l2` et qui retourne une `Serie` contenant tous les éléments présents uniquement dans `l1`.\n",
    "\n",
    "**NOTE :** utiliser la fonction `isin()` (voir [documentation](https://pandas.pydata.org/pandas-docs/stable/reference/api/pandas.Series.isin.html))"
   ]
  },
  {
   "cell_type": "markdown",
   "metadata": {},
   "source": [
    "## Exercice 7.5\n",
    "1. Écrire une fonction qui prend un `DataFrame` `df` et un entier `n` en argument et retourne les `n` premières ligne de `df`"
   ]
  },
  {
   "cell_type": "markdown",
   "metadata": {},
   "source": [
    "## Exercice 7.6\n",
    "1. Écrire une fonction qui vérifie si le nom d'une colonne est présent dans un `DataFrame`.\n",
    "\n",
    "**NOTE :** vous pouvez utiliser l'opérateur `in`"
   ]
  },
  {
   "cell_type": "markdown",
   "metadata": {},
   "source": [
    "## Exercice 7.7\n",
    "1. Créer un `DataFrame` qui contient le titre, l'année de vos 3 films préférés.\n",
    "2. Rajouter une colonne contenant le pays d'origine du film à la fin du `DataFrame`.\n",
    "3. Insérer une colonne contenant la note du film dans Rotten Tomatoes juste avant la colonne contenant le pays d'origine du film.\n",
    "3. Rajouter 2 films au `DataFrame`. Utiliser la fonction `append()` ([voir documentation](https://pandas.pydata.org/pandas-docs/stable/reference/api/pandas.DataFrame.append.html))\n",
    "4. Modifier le `DataFrame` pour remplacer la note Rotten Tomatoes par la note de IMDB.\n",
    "5. Remplacer 2 films du `DataFrame` en une seule fois.\n",
    "6. Rajouter une colonne contenant les identifiants des films sur IMDB. On trouve les id dans l'URL du film. Les ids sont de la form `tt0133093`\n",
    "7. Utiliser cette colonne comme index à la place des index par défaut.\n",
    "8. Renommer les colonnes en Anglais au lieu de Français."
   ]
  }
 ],
 "metadata": {
  "kernelspec": {
   "display_name": "Python 3",
   "language": "python",
   "name": "python3"
  },
  "language_info": {
   "codemirror_mode": {
    "name": "ipython",
    "version": 3
   },
   "file_extension": ".py",
   "mimetype": "text/x-python",
   "name": "python",
   "nbconvert_exporter": "python",
   "pygments_lexer": "ipython3",
   "version": "3.8.5"
  }
 },
 "nbformat": 4,
 "nbformat_minor": 4
}
