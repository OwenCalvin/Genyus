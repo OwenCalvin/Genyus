{
 "cells": [
  {
   "cell_type": "markdown",
   "metadata": {},
   "source": [
    "# Chapitre 1 : mise en route\n"
   ]
  },
  {
   "cell_type": "markdown",
   "metadata": {},
   "source": [
    "## Pourquoi Python ?\n",
    "\n",
    "### IEEE, février 2021\n",
    "![IEEE, février 2021](medias/IEEE_Feb_2021.png)\n",
    "\n",
    "### PYPL, février 2021\n",
    "![PYPL, février 2021](medias/PYPL_Feb_2021.png)\n",
    "\n",
    "### TIOBE, février 2021\n",
    "![TIOBE, février 2021](medias/TIOBE_Feb_2021.png)"
   ]
  },
  {
   "cell_type": "markdown",
   "metadata": {},
   "source": [
    "## Anaconda : [https://www.anaconda.com/products/individual](https://www.anaconda.com/products/individual)\n",
    "![Anaconda](medias/Anaconda.png)\n",
    "### Créer un nouvel environnement\n",
    "- Aller dans l'onglet `Environnments`\n",
    "- Cliquer sur le bouton `Create`\n",
    "- Donner un nom à l'environnement\n",
    "\n",
    "## Shell Python\n",
    "### Lancer un shell Python\n",
    "- Aller dans l'onglet `Environnments`\n",
    "- Sélectionner l'environnement désiré\n",
    "- Cliquer sur le triangle vert\n",
    "- Choisir `Open with Python`\n",
    "- écrire `print(hello world)` puis presser `ENTER`\n",
    "\n",
    "### LIMITATIONS ?\n",
    "\n",
    "## IPython : Interactive Python\n",
    "### Lancer un shell IPython\n",
    "- Voir ci-dessus\n",
    "\n",
    "### ? AVANTAGES ?\n",
    "\n",
    "## JupyterLab\n",
    "![JupyterLab](medias/JupyterLab.png)\n",
    "\n",
    "### Configuration\n",
    "- Lancer un prompt depuis Anaconda;\n",
    "- Exécuter la commande `jupyter notebook --generate-config`\n",
    "- Éditer le fichier de configuration généré à la ligne `#c.NotebookApp.notebook_dir = `"
   ]
  },
  {
   "cell_type": "code",
   "execution_count": 1,
   "metadata": {},
   "outputs": [
    {
     "data": {
      "text/html": [
       "<iframe width=\"560\" height=\"315\" src=\"https://www.youtube.com/embed/uPgZaz1Intg\" frameborder=\"0\" allow=\"accelerometer; autoplay; clipboard-write; encrypted-media; gyroscope; picture-in-picture\" allowfullscreen></iframe>\n"
      ],
      "text/plain": [
       "<IPython.core.display.HTML object>"
      ]
     },
     "metadata": {},
     "output_type": "display_data"
    }
   ],
   "source": [
    "%%HTML\n",
    "<iframe width=\"560\" height=\"315\" src=\"https://www.youtube.com/embed/uPgZaz1Intg\" frameborder=\"0\" allow=\"accelerometer; autoplay; clipboard-write; encrypted-media; gyroscope; picture-in-picture\" allowfullscreen></iframe>"
   ]
  },
  {
   "cell_type": "markdown",
   "metadata": {},
   "source": [
    "### Récupérer le notebook Chap1.ipynb\n",
    "\n",
    "### Lancer JupyterLab depuis Anaconda\n",
    "\n",
    "### Ouvrir le notebook\n"
   ]
  },
  {
   "cell_type": "markdown",
   "metadata": {},
   "source": [
    "### ==================== EXERCICE ====================\n",
    "1. Rajouter une cellule \"Markdown\" pour rajouter du texte\n",
    "2. Rajouter une cellule de code et utiliser la fonction `print` pour afficher \"Hello Work!\"\n",
    "\n",
    "Quand on est dans une cellule :\n",
    "1. Que fait le raccourci `Ctrl + ENTER` ?\n",
    "2. Que fait le raccourci `Alt + ENTER` ?\n",
    "3. Que fait la touche `Tab` ?\n",
    "4. Que fait le raccourci `Shift + Tab` quand on écrit les paramètres d'une fonction ?\n",
    "\n",
    "### ==================== SOLUTION ===================="
   ]
  },
  {
   "cell_type": "markdown",
   "metadata": {},
   "source": [
    "### ==================================================\n"
   ]
  },
  {
   "cell_type": "markdown",
   "metadata": {},
   "source": [
    "## Visual Studio Code\n",
    "[https://code.visualstudio.com/](https://code.visualstudio.com/)\n",
    "\n",
    "### Supporte directement les notebook Jupyter"
   ]
  }
 ],
 "metadata": {
  "kernelspec": {
   "display_name": "Python 3",
   "language": "python",
   "name": "python3"
  },
  "language_info": {
   "codemirror_mode": {
    "name": "ipython",
    "version": 3
   },
   "file_extension": ".py",
   "mimetype": "text/x-python",
   "name": "python",
   "nbconvert_exporter": "python",
   "pygments_lexer": "ipython3",
   "version": "3.8.5"
  }
 },
 "nbformat": 4,
 "nbformat_minor": 4
}
