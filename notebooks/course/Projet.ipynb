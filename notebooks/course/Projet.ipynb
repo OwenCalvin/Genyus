{
 "cells": [
  {
   "cell_type": "markdown",
   "metadata": {},
   "source": [
    "# Projet Python"
   ]
  },
  {
   "cell_type": "markdown",
   "metadata": {},
   "source": [
    "## Objectifs\n",
    "- Visualisation de données\n",
    "- Approfondir le cours\n",
    "- Sujet libre\n",
    "\n",
    "## Organisation\n",
    "- Groupes de 2 personnes\n",
    "- Utilisation de GitLab\n",
    "\n",
    "## Date Importantes\n",
    "- Propositions d'idées : **4 mars 2021**\n",
    "- Validation des projets : **11 mars 2021**\n",
    "- Rendu : **vendredi 18 juin 2021**, à minuit\n",
    "\n",
    "## Rendu : un notebook Jupyter\n",
    "- Récupération des données\n",
    "- Préparation des données\n",
    "- Analyse des données\n",
    "- Visualisation des données\n",
    "- Expliquer la démarche, les packages utilisés, les méthodes utilisées, etc.\n",
    "\n"
   ]
  }
 ],
 "metadata": {
  "kernelspec": {
   "display_name": "Python 3",
   "language": "python",
   "name": "python3"
  },
  "language_info": {
   "codemirror_mode": {
    "name": "ipython",
    "version": 3
   },
   "file_extension": ".py",
   "mimetype": "text/x-python",
   "name": "python",
   "nbconvert_exporter": "python",
   "pygments_lexer": "ipython3",
   "version": "3.8.5"
  }
 },
 "nbformat": 4,
 "nbformat_minor": 4
}
