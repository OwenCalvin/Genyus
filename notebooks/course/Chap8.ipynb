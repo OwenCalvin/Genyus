{
 "cells": [
  {
   "cell_type": "markdown",
   "metadata": {},
   "source": [
    "# Chapitre 8 : premières statistiques\n",
    "**NOTE :** il est possible de récupérer des données directement depuis le Web avec le package *Beautiful Soup*. Nous verrons ceci par la suite (peut-être).\n",
    "\n",
    "**NOTE :** on ne traite pas les problématiques liées au `Big Data` dans ce chapitre.\n",
    "\n",
    "**NOTE :** les données sources utilisées dans ce chapitre se trouvent ici : [https://github.com/rashida048/Datasets/blob/master/movie_dataset.csv](https://github.com/rashida048/Datasets/blob/master/movie_dataset.csv)\n",
    "\n",
    "**NOTE :** Pandas offre de nombreuses possibilités que nous ne verrons pas dans ce cours : les jointures, les concaténations, la discrétisation, le traitement des données temporelles, les tris, etc."
   ]
  },
  {
   "cell_type": "markdown",
   "metadata": {},
   "source": [
    "## Les principales étapes (en général)\n",
    "1. Acquisition / importation des données.\n",
    "2. Chargement des données.\n",
    "3. Transformations (pour les statistiques).\n",
    "4. Les statistiques.\n",
    "5. La visualisation des résultats."
   ]
  },
  {
   "cell_type": "markdown",
   "metadata": {},
   "source": [
    "## Importer les données : [Les `readers` Pandas](https://pandas.pydata.org/docs/user_guide/io.html)\n",
    "- Beaucoup de formats supportés : CSV, Excel, SQL, HDF5, Json, etc.\n",
    "- Nous allons nous concentrer sur CSV.\n",
    "\n",
    "### Lire un CSV : la fonction [`read_csv()`](https://pandas.pydata.org/docs/user_guide/io.html#io-read-csv-table)\n",
    "- Il existe de nombreux paramètres.\n",
    "- Attention au séparateur de colonnes `,` ou `;` qui peut poser des soucis.\n",
    "- Attention au séparateur de décimal (`,` ou `.`).\n",
    "- Attention à la taille des données : cf `Big Data`.\n",
    "\n",
    "**Exemple :**\n",
    "```python\n",
    "import pandas as pd\n",
    "\n",
    "df = pd.read_csv(\"DATASETS/movie_dataset.csv\")\n",
    "```\n"
   ]
  },
  {
   "cell_type": "markdown",
   "metadata": {},
   "source": [
    "### ==================== EXERCICE ====================\n",
    "1. Récupérer les données associées à ce chapitre.\n",
    "2. Exécuter l'exemple donné précédemment.\n",
    "3. Afficher le nombre de lignes et de colonnes du `DataFrame` ainsi créé.\n",
    "\n",
    "### ==================== SOLUTION ==================="
   ]
  },
  {
   "cell_type": "markdown",
   "metadata": {},
   "source": [
    "### =============================================="
   ]
  },
  {
   "cell_type": "markdown",
   "metadata": {},
   "source": [
    "### Vérifier (rapidement) les données : les fonctions [`info()`](https://pandas.pydata.org/docs/reference/api/pandas.DataFrame.info.html) et [`head()`](https://pandas.pydata.org/docs/reference/api/pandas.DataFrame.head.html)\n",
    "\n",
    "**Exemple :**\n",
    "```python\n",
    "import pandas as pd\n",
    "\n",
    "df = pd.read_csv(\"DATASETS/movie_dataset.csv\")\n",
    "df.info()\n",
    "df.head()\n",
    "```\n"
   ]
  },
  {
   "cell_type": "markdown",
   "metadata": {},
   "source": [
    "### ==================== EXERCICE ====================\n",
    "1. Exécuter l'exemple donné précédemment.\n",
    "2. Explorer les résultats obtenus.\n",
    "3. Combien de colonnes sont contenues dans le `DataFrame` ? Combien sont affichées ?\n",
    "\n",
    "### ==================== SOLUTION ==================="
   ]
  },
  {
   "cell_type": "markdown",
   "metadata": {},
   "source": [
    "### =============================================="
   ]
  },
  {
   "cell_type": "markdown",
   "metadata": {},
   "source": [
    "### Les options Pandas : la fonction [`set_option`](https://pandas.pydata.org/pandas-docs/stable/reference/api/pandas.set_option.html)\n",
    "\n",
    "**Exemple :**\n",
    "```python\n",
    "import pandas as pd\n",
    "\n",
    "pd.set_option('display.max_columns', 30)\n",
    "\n",
    "df = pd.read_csv(\"DATASETS/movie_dataset.csv\")\n",
    "df.info()\n",
    "df.head()\n",
    "```\n"
   ]
  },
  {
   "cell_type": "markdown",
   "metadata": {},
   "source": [
    "### ==================== EXERCICE ====================\n",
    "1. Exécuter l'exemple donné précédemment.\n",
    "2. Explorer les données.\n",
    "\n",
    "### ==================== SOLUTION ==================="
   ]
  },
  {
   "cell_type": "markdown",
   "metadata": {},
   "source": [
    "### =============================================="
   ]
  },
  {
   "cell_type": "markdown",
   "metadata": {},
   "source": [
    "### Détecter les données manquantes : les fonctions [`isnull()`](https://pandas.pydata.org/pandas-docs/stable/reference/api/pandas.DataFrame.isnull.html) et [`isna()`](https://pandas.pydata.org/pandas-docs/stable/reference/api/pandas.DataFrame.isna.html)\n",
    "\n",
    "**NOTE :** ces 2 fonctions font **strictement** la même chose. Elles existent dans Pandas pour des raisons historiques.\n",
    "\n",
    "**NOTE :** on utilise la fonction [`sum()`](https://pandas.pydata.org/pandas-docs/stable/reference/api/pandas.DataFrame.sum.html) pour compter le nombre de valeurs manquantes pour chaque colonne.\n",
    "\n",
    "**Exemple :**\n",
    "```python\n",
    "import pandas as pd\n",
    "\n",
    "df = pd.read_csv(\"DATASETS/movie_dataset.csv\")\n",
    "df.isnull().sum()\n",
    "```\n"
   ]
  },
  {
   "cell_type": "markdown",
   "metadata": {},
   "source": [
    "### ==================== EXERCICE ====================\n",
    "1. Exécuter l'exemple donné précédemment.\n",
    "2. Regarder les résultats et estimer quelles colonnes devraient être ajustées (ça dépend évidemment des statistiques que nous souhaitons calculer).\n",
    "3. Que faire dans ces cas?\n",
    "\n",
    "### ==================== SOLUTION ==================="
   ]
  },
  {
   "cell_type": "markdown",
   "metadata": {},
   "source": [
    "### =============================================="
   ]
  },
  {
   "cell_type": "markdown",
   "metadata": {},
   "source": [
    "### Détecter les données dupliquées : les fonctions [`duplicated()`](https://pandas.pydata.org/pandas-docs/stable/reference/api/pandas.DataFrame.duplicated.html) et [`drop_duplicates()`](https://pandas.pydata.org/pandas-docs/stable/reference/api/pandas.DataFrame.drop_duplicates.html)\n",
    "\n",
    "**NOTE :** on utilise la fonction [`sum()`](https://pandas.pydata.org/pandas-docs/stable/reference/api/pandas.DataFrame.sum.html) pour compter le nombre de valeurs dupliquées pour chaque colonne.\n",
    "\n",
    "**NOTE :** dans le dataset utilisé, il n'y a pas de valeurs dupliquées. Le cas échéant, il faudrait les enlever avec la fonction [`drop_duplicates()`](https://pandas.pydata.org/pandas-docs/stable/reference/api/pandas.DataFrame.drop_duplicates.html).\n",
    "\n",
    "**Exemple :**\n",
    "```python\n",
    "import pandas as pd\n",
    "\n",
    "df = pd.read_csv(\"DATASETS/movie_dataset.csv\")\n",
    "df.duplicated().sum()\n",
    "```\n"
   ]
  },
  {
   "cell_type": "markdown",
   "metadata": {},
   "source": [
    "### ==================== EXERCICE ====================\n",
    "1. Exécuter l'exemple donné précédemment.\n",
    "\n",
    "### ==================== SOLUTION ==================="
   ]
  },
  {
   "cell_type": "markdown",
   "metadata": {},
   "source": [
    "### =============================================="
   ]
  },
  {
   "cell_type": "markdown",
   "metadata": {},
   "source": [
    "### Gérer les données manquantes\n",
    "#### Problème qui est :\n",
    "- Courant.\n",
    "- Complexe.\n",
    "\n",
    "#### Les données peuvent être \"manquantes\" :\n",
    "- de manière aléatoire.\n",
    "- de manière déterministe : par exemple quand la valeur d'une colonne rend l'autre colonne non-pertinente.\n",
    "\n",
    "#### 2 techniques pour gérer les données manquantes :\n",
    "- Les effacer.\n",
    "- Les remplir par une valeur particulière.\n",
    "\n",
    "#### Retirer les colonnes inutiles : la fonction [`drop()`](`https://pandas.pydata.org/pandas-docs/stable/reference/api/pandas.DataFrame.drop.html`)\n",
    "\n",
    "#### Effacer les lignes/colonnes avec des données manquantes : la fonction [`dropna()`](https://pandas.pydata.org/pandas-docs/stable/reference/api/pandas.DataFrame.dropna.html)\n",
    "\n",
    "**Exemple :**\n",
    "```python\n",
    "import pandas as pd\n",
    "\n",
    "df = pd.read_csv(\"DATASETS/movie_dataset.csv\")\n",
    "\n",
    "# Remove columns with too many missing data\n",
    "df.drop([\"homepage\", \"keywords\", \"tagline\", \"cast\", \"director\"], axis=1, inplace=True)\n",
    "\n",
    "# Remove rows with missing data\n",
    "df.dropna(inplace=True)\n",
    "```\n"
   ]
  },
  {
   "cell_type": "markdown",
   "metadata": {},
   "source": [
    "### ==================== EXERCICE ====================\n",
    "1. Exécuter l'exemple donné précédemment.\n",
    "2. Bien noter le nombre de colonnes et de lignes à chaque étape.\n",
    "\n",
    "### ==================== SOLUTION ==================="
   ]
  },
  {
   "cell_type": "markdown",
   "metadata": {},
   "source": [
    "### =============================================="
   ]
  },
  {
   "cell_type": "markdown",
   "metadata": {},
   "source": [
    "#### Compléter les données manquantes par des valeurs particulières : la fonction [`fillna()`](https://pandas.pydata.org/pandas-docs/stable/reference/api/pandas.DataFrame.fillna.html)\n",
    "\n",
    "**NOTE :** on peut utiliser la moyenne, la médiane ou des valeurs prédites par du *machine learning* par exemple.\n",
    "\n",
    "**NOTE :** cette partie est laissée en exercice si besoin pour les projets."
   ]
  },
  {
   "cell_type": "markdown",
   "metadata": {},
   "source": [
    "### Statistiques de base : maximum et minimum\n",
    "#### Maximum : la méthode [`max()`](https://pandas.pydata.org/pandas-docs/stable/reference/api/pandas.DataFrame.max.html)\n",
    "#### Minimum : la méthode [`min()`](https://pandas.pydata.org/pandas-docs/stable/reference/api/pandas.DataFrame.min.html)\n",
    "\n",
    "**Exemple :**\n",
    "```python\n",
    "import pandas as pd\n",
    "\n",
    "df = pd.read_csv(\"DATASETS/movie_dataset.csv\")\n",
    "\n",
    "# Remove columns with too many missing data\n",
    "df.drop([\"homepage\", \"keywords\", \"tagline\", \"cast\", \"director\"], axis=1, inplace=True)\n",
    "\n",
    "nb_missing_data = df.isna().sum()\n",
    "\n",
    "# Remove rows with missing data\n",
    "df.dropna(inplace=True)\n",
    "\n",
    "# Minimum budget (in millions)\n",
    "min_budget = df[\"budget\"].min()/1000000\n",
    "\n",
    "# Maximum budget (in millions)\n",
    "max_budget = df[\"budget\"].max()/1000000\n",
    "```"
   ]
  },
  {
   "cell_type": "markdown",
   "metadata": {},
   "source": [
    "### ==================== EXERCICE ====================\n",
    "1. Exécuter l'exemple donné précédemment.\n",
    "2. Que se passe-t-il pour la valeur minimum ?\n",
    "\n",
    "### ==================== SOLUTION ==================="
   ]
  },
  {
   "cell_type": "markdown",
   "metadata": {},
   "source": [
    "### =============================================="
   ]
  },
  {
   "cell_type": "markdown",
   "metadata": {},
   "source": [
    "### Effacer les lignes en fonction des valeurs d'une colonne\n",
    "\n",
    "**Exemple :**\n",
    "```python\n",
    "import pandas as pd\n",
    "\n",
    "df = pd.read_csv(\"DATASETS/movie_dataset.csv\")\n",
    "\n",
    "# Remove columns with too many missing data\n",
    "df.drop([\"homepage\", \"keywords\", \"tagline\", \"cast\", \"director\"], axis=1, inplace=True)\n",
    "\n",
    "# Remove rows with missing data\n",
    "df.dropna(inplace=True)\n",
    "\n",
    "# Movies with budget set to 0\n",
    "movies_with_0_budget = df[df['budget'] == 0]\n",
    "\n",
    "# Remove them from initial dataset\n",
    "df.drop(movies_with_0_budget.index, inplace=True)\n",
    "```"
   ]
  },
  {
   "cell_type": "markdown",
   "metadata": {},
   "source": [
    "### ==================== EXERCICE ====================\n",
    "1. Exécuter l'exemple donné précédemment.\n",
    "2. Vérifier les dimensions du dataset avant et après le filtrage.\n",
    "3. Vérifier que le budget minimum n'est plus 0.\n",
    "\n",
    "### ==================== SOLUTION ==================="
   ]
  },
  {
   "cell_type": "markdown",
   "metadata": {},
   "source": [
    "### =============================================="
   ]
  },
  {
   "cell_type": "markdown",
   "metadata": {},
   "source": [
    "### Statistiques de base (suite): moyenne, médiane et écart-type\n",
    "#### Moyenne : la méthode [`mean()`](https://pandas.pydata.org/pandas-docs/stable/reference/api/pandas.DataFrame.mean.html)\n",
    "#### Médiane : la méthode [`median()`](https://pandas.pydata.org/pandas-docs/stable/reference/api/pandas.DataFrame.median.html)\n",
    "#### Écart-type : la méthode [`std()`](https://pandas.pydata.org/pandas-docs/stable/reference/api/pandas.DataFrame.std.html)\n",
    "\n",
    "**Exemple :**\n",
    "```python\n",
    "import pandas as pd\n",
    "\n",
    "df = pd.read_csv(\"DATASETS/movie_dataset.csv\")\n",
    "\n",
    "# Remove columns with too many missing data\n",
    "df.drop([\"homepage\", \"keywords\", \"tagline\", \"cast\", \"director\"], axis=1, inplace=True)\n",
    "\n",
    "# Remove rows with missing data\n",
    "df.dropna(inplace=True)\n",
    "\n",
    "# Movies with budget set to 0\n",
    "movies_with_0_budget = df[df['budget'] == 0]\n",
    "\n",
    "# Remove them from initial dataset\n",
    "df.drop(movies_with_0_budget.index, inplace=True)\n",
    "\n",
    "# Statistics in millions\n",
    "min_budget = df[\"budget\"].min()/1000000\n",
    "max_budget = df[\"budget\"].max()/1000000\n",
    "mean_budget = df[\"budget\"].mean()/1000000\n",
    "median_budget = df[\"budget\"].median()/1000000\n",
    "std_budget = df[\"budget\"].std()/1000000\n",
    "```"
   ]
  },
  {
   "cell_type": "markdown",
   "metadata": {},
   "source": [
    "### ==================== EXERCICE ====================\n",
    "1. Exécuter l'exemple donné précédemment.\n",
    "2. Expérimenter.\n",
    "\n",
    "### ==================== SOLUTION ==================="
   ]
  },
  {
   "cell_type": "markdown",
   "metadata": {},
   "source": [
    "### =============================================="
   ]
  },
  {
   "cell_type": "markdown",
   "metadata": {},
   "source": [
    "### Statistiques générale : la méthode [`describe()`](https://pandas.pydata.org/pandas-docs/stable/reference/api/pandas.DataFrame.describe.html)\n",
    "\n",
    "**Exemple :**\n",
    "```python\n",
    "import pandas as pd\n",
    "\n",
    "df = pd.read_csv(\"DATASETS/movie_dataset.csv\")\n",
    "\n",
    "# Remove columns with too many missing data\n",
    "df.drop([\"homepage\", \"keywords\", \"tagline\", \"cast\", \"director\"], axis=1, inplace=True)\n",
    "\n",
    "# Remove rows with missing data\n",
    "df.dropna(inplace=True)\n",
    "\n",
    "# Movies with budget set to 0\n",
    "movies_with_0_budget = df[df['budget'] == 0]\n",
    "\n",
    "# Remove them from initial dataset\n",
    "df.drop(movies_with_0_budget.index, inplace=True)\n",
    "\n",
    "# Statistics in millions\n",
    "df.describe()\n",
    "```"
   ]
  },
  {
   "cell_type": "markdown",
   "metadata": {},
   "source": [
    "### ==================== EXERCICE ====================\n",
    "1. Exécuter l'exemple donné précédemment.\n",
    "2. Expérimenter.\n",
    "\n",
    "### ==================== SOLUTION ==================="
   ]
  },
  {
   "cell_type": "markdown",
   "metadata": {},
   "source": [
    "### =============================================="
   ]
  }
 ],
 "metadata": {
  "kernelspec": {
   "display_name": "Python 3",
   "language": "python",
   "name": "python3"
  },
  "language_info": {
   "codemirror_mode": {
    "name": "ipython",
    "version": 3
   },
   "file_extension": ".py",
   "mimetype": "text/x-python",
   "name": "python",
   "nbconvert_exporter": "python",
   "pygments_lexer": "ipython3",
   "version": "3.8.5"
  }
 },
 "nbformat": 4,
 "nbformat_minor": 4
}
