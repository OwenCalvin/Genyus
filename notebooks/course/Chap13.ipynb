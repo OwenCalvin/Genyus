{
 "cells": [
  {
   "cell_type": "markdown",
   "metadata": {},
   "source": [
    "<h1 style=\"background-color:red;color:white;padding:10px;text-align: center;font-size: 60px;\">CHAPITRE 13 : NUMPY (FIN)</h1>"
   ]
  },
  {
   "cell_type": "markdown",
   "metadata": {},
   "source": [
    "<h1 style=\"color:red;padding:4px;border-bottom: 4px solid red\">RÉFÉRENCES</h1>\n",
    "\n",
    "## [Documentation NumPy](https://numpy.org)"
   ]
  },
  {
   "cell_type": "markdown",
   "metadata": {},
   "source": [
    "<h1 style=\"color:red;padding:4px;border-bottom: 4px solid red\">OPÉRATIONS SUR LES VECTEURS</h1>\n",
    "\n",
    "# Produit élément-par-élément : [`*`](https://numpy.org/doc/stable/reference/generated/numpy.multiply.html)\n",
    "\n",
    "**Exemple :**\n",
    "```python\n",
    "import numpy as np\n",
    "import math\n",
    "\n",
    "v1 = np.array([1, 0, -1])\n",
    "v2 = np.array([1, math.sqrt(2), 1])\n",
    "\n",
    "v = v1 * v2\n",
    "```"
   ]
  },
  {
   "cell_type": "markdown",
   "metadata": {},
   "source": [
    "<h4 style=\"background-color:#ffdddd;padding:10px;font-weight: bold;\">\n",
    "\n",
    "EXERCICE\n",
    "1. Exécuter l'exemple donné précédemment.\n",
    "2. Expérimenter.\n",
    "</h4>"
   ]
  },
  {
   "cell_type": "markdown",
   "metadata": {},
   "source": [
    "# Produit scalaire : la fonction [`dot()`](https://numpy.org/doc/stable/reference/generated/numpy.dot.html)\n",
    "\n",
    "$$ u \\cdot v = \\parallel u \\parallel \\times \\parallel v \\parallel \\times \\cos(\\widehat{u, v}) $$\n",
    "\n",
    "**NOTE :** le produit scalaire de 2 vecteurs orthogonaux vaut 0.\n",
    "\n",
    "**Exemple :**\n",
    "```python\n",
    "import numpy as np\n",
    "import math\n",
    "\n",
    "x = np.array([1, 0, 0])\n",
    "y = np.array([0, 1, 0])\n",
    "z = np.array([0, 0, 1])\n",
    "\n",
    "v1 = np.array([1, 0, -1])\n",
    "v2 = np.array([1, math.sqrt(2), 1])\n",
    "\n",
    "# dot product of same unit vector\n",
    "d = np.dot(x, x)\n",
    "\n",
    "# dot product of same vector\n",
    "d = np.dot(2*x, 3*x)\n",
    "\n",
    "# dot product of orthogonal vectors\n",
    "d = np.dot(y, z)\n",
    "d = np.dot(v1, v2)\n",
    "```"
   ]
  },
  {
   "cell_type": "markdown",
   "metadata": {},
   "source": [
    "<h4 style=\"background-color:#ffdddd;padding:10px;font-weight: bold;\">\n",
    "\n",
    "EXERCICE\n",
    "1. Exécuter l'exemple donné précédemment.\n",
    "2. Expérimenter.\n",
    "</h4>"
   ]
  },
  {
   "cell_type": "markdown",
   "metadata": {},
   "source": [
    "<h1 style=\"color:red;padding:4px;border-bottom: 4px solid red\">OPÉRATIONS SUR LES MATRICES</h1>\n",
    "\n",
    "# Produit élément-par-élément : [`*`](https://numpy.org/doc/stable/reference/generated/numpy.multiply.html)\n",
    "\n",
    "**Exemple :**\n",
    "```python\n",
    "import numpy as np\n",
    "import math\n",
    "\n",
    "A = np.random.randint(10, size=(4, 4))\n",
    "B = np.random.randint(10, size=(4, 4))\n",
    "\n",
    "C = A*B\n",
    "D = B*A\n",
    "```"
   ]
  },
  {
   "cell_type": "markdown",
   "metadata": {},
   "source": [
    "<h4 style=\"background-color:#ffdddd;padding:10px;font-weight: bold;\">\n",
    "\n",
    "EXERCICE\n",
    "1. Exécuter l'exemple donné précédemment.\n",
    "2. Expérimenter.\n",
    "3. Vérifier que AB = BA\n",
    "</h4>"
   ]
  },
  {
   "cell_type": "markdown",
   "metadata": {},
   "source": [
    "# Produit matriciel : [`matmul`](https://numpy.org/doc/stable/reference/generated/numpy.matmul.html)\n",
    "\n",
    "**Exemple :**\n",
    "```python\n",
    "import numpy as np\n",
    "import math\n",
    "\n",
    "A = np.random.randint(10, size=(4, 4))\n",
    "B = np.random.randint(10, size=(4, 4))\n",
    "\n",
    "C = np.matmul(A*B)\n",
    "D = np.matmul(B*A)\n",
    "```"
   ]
  },
  {
   "cell_type": "markdown",
   "metadata": {},
   "source": [
    "<h4 style=\"background-color:#ffdddd;padding:10px;font-weight: bold;\">\n",
    "\n",
    "EXERCICE\n",
    "1. Exécuter l'exemple donné précédemment.\n",
    "2. Expérimenter.\n",
    "3. Vérifier que AB et BA **sont différents**.\n",
    "4. Faire varier le nombre de lignes et de colonnes de A et B. Que peut-on en conclure ?\n",
    "</h4>"
   ]
  },
  {
   "cell_type": "markdown",
   "metadata": {},
   "source": [
    "# Matrice identité : [`identity`](https://numpy.org/doc/stable/reference/generated/numpy.identity.html)\n",
    "\n",
    "**Exemple :**\n",
    "```python\n",
    "import numpy as np\n",
    "import math\n",
    "\n",
    "I3 = np.identity(3)\n",
    "I4 = np.identity(4)\n",
    "```"
   ]
  },
  {
   "cell_type": "markdown",
   "metadata": {},
   "source": [
    "<h4 style=\"background-color:#ffdddd;padding:10px;font-weight: bold;\">\n",
    "\n",
    "EXERCICE\n",
    "1. Exécuter l'exemple donné précédemment.\n",
    "2. Expérimenter.\n",
    "</h4>"
   ]
  },
  {
   "cell_type": "markdown",
   "metadata": {},
   "source": [
    "# Déterminant : [`det()`](https://numpy.org/doc/stable/reference/generated/numpy.linalg.det.html)\n",
    "\n",
    "**Exemple :**\n",
    "```python\n",
    "import numpy as np\n",
    "import math\n",
    "\n",
    "I4 = np.identity(4)\n",
    "\n",
    "A = np.random.randint(10, size=(5, 5))\n",
    "\n",
    "det = np.linalg.det(A)\n",
    "det\n",
    "```"
   ]
  },
  {
   "cell_type": "markdown",
   "metadata": {},
   "source": [
    "<h4 style=\"background-color:#ffdddd;padding:10px;font-weight: bold;\">\n",
    "\n",
    "EXERCICE\n",
    "1. Exécuter l'exemple donné précédemment.\n",
    "2. Expérimenter.\n",
    "3. Modifier la forme de la matrice. Que peut-on en conclure ?\n",
    "</h4>"
   ]
  },
  {
   "cell_type": "markdown",
   "metadata": {},
   "source": [
    "# Trace : [`trace()`](https://numpy.org/doc/stable/reference/generated/numpy.trace.html)\n",
    "\n",
    "**Exemple :**\n",
    "```python\n",
    "import numpy as np\n",
    "import math\n",
    "\n",
    "I4 = np.identity(4)\n",
    "\n",
    "A = np.random.randint(10, size=(5, 5))\n",
    "\n",
    "tr = np.trace(A)\n",
    "```"
   ]
  },
  {
   "cell_type": "markdown",
   "metadata": {},
   "source": [
    "<h4 style=\"background-color:#ffdddd;padding:10px;font-weight: bold;\">\n",
    "\n",
    "EXERCICE\n",
    "1. Exécuter l'exemple donné précédemment.\n",
    "2. Expérimenter.\n",
    "3. Modifier la forme de la matrice. Que peut-on en conclure ?\n",
    "</h4>"
   ]
  },
  {
   "cell_type": "markdown",
   "metadata": {},
   "source": [
    "# Transpose : [`transpose()`](https://numpy.org/doc/stable/reference/generated/numpy.transpose.html)\n",
    "\n",
    "Permuter les lignes et les colonnes.\n",
    "\n",
    "**Exemple :**\n",
    "```python\n",
    "import numpy as np\n",
    "import math\n",
    "\n",
    "A = np.random.randint(10, size=(5, 5))\n",
    "\n",
    "At = np.transpose(A)\n",
    "```"
   ]
  },
  {
   "cell_type": "markdown",
   "metadata": {},
   "source": [
    "<h4 style=\"background-color:#ffdddd;padding:10px;font-weight: bold;\">\n",
    "\n",
    "EXERCICE\n",
    "1. Exécuter l'exemple donné précédemment.\n",
    "2. Expérimenter.\n",
    "3. Afficher la forme des matrices avant et après transposition.\n",
    "</h4>"
   ]
  },
  {
   "cell_type": "markdown",
   "metadata": {},
   "source": [
    "# Inverse : [`inv()`](https://numpy.org/doc/stable/reference/generated/numpy.linalg.inv.html)\n",
    "\n",
    "$$ A A^{-1} = A^{-1}A = 1 $$\n",
    "\n",
    "**NOTE :** l'inversion peut échouer (aléatoire) n'est pas inversible.\n",
    "\n",
    "**Exemple :**\n",
    "```python\n",
    "import numpy as np\n",
    "import math\n",
    "\n",
    "A = np.random.randint(10, size=(3, 4))\n",
    "invA = np.linalg.inv(A)\n",
    "\n",
    "np.matmul(A, invA)\n",
    "```"
   ]
  },
  {
   "cell_type": "markdown",
   "metadata": {},
   "source": [
    "<h4 style=\"background-color:#ffdddd;padding:10px;font-weight: bold;\">\n",
    "\n",
    "EXERCICE\n",
    "1. Exécuter l'exemple donné précédemment.\n",
    "2. Expérimenter.\n",
    "3. Modifier la forme de la matrice. Que peut-on en conclure ?\n",
    "4. Que retourne l'inverse de l'inverse de A ?\n",
    "</h4>"
   ]
  },
  {
   "cell_type": "markdown",
   "metadata": {},
   "source": [
    "# Pseudo-Inverse : [`pinv()`](https://numpy.org/doc/stable/reference/generated/numpy.linalg.pinv.html)\n",
    "\n",
    "**NOTE :** quand une matrice n'est pas inversible, on peut toujours trouver une pseudo-inverse.\n",
    "\n",
    "**Exemple :**\n",
    "```python\n",
    "import numpy as np\n",
    "import math\n",
    "\n",
    "A = np.random.randint(10, size=(4, 5))\n",
    "\n",
    "# ERROR\n",
    "# invA = np.linalg.inv(A)\n",
    "\n",
    "# OK\n",
    "invA = np.linalg.pinv(A)\n",
    "```"
   ]
  },
  {
   "cell_type": "markdown",
   "metadata": {},
   "source": [
    "<h4 style=\"background-color:#ffdddd;padding:10px;font-weight: bold;\">\n",
    "\n",
    "EXERCICE\n",
    "1. Exécuter l'exemple donné précédemment.\n",
    "2. Expérimenter.\n",
    "3. Modifier la forme de la matrice. Que peut-on en conclure ?\n",
    "</h4>"
   ]
  }
 ],
 "metadata": {
  "kernelspec": {
   "display_name": "Python 3",
   "language": "python",
   "name": "python3"
  },
  "language_info": {
   "codemirror_mode": {
    "name": "ipython",
    "version": 3
   },
   "file_extension": ".py",
   "mimetype": "text/x-python",
   "name": "python",
   "nbconvert_exporter": "python",
   "pygments_lexer": "ipython3",
   "version": "3.8.5"
  }
 },
 "nbformat": 4,
 "nbformat_minor": 4
}
